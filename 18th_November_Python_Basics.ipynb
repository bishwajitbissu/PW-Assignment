{
 "cells": [
  {
   "cell_type": "markdown",
   "id": "f9b2a9c5-8387-4bc0-ab84-2ebd49eedc35",
   "metadata": {},
   "source": [
    "Assignment 1\n",
    "1. Swap two variables without using any other variable"
   ]
  },
  {
   "cell_type": "code",
   "execution_count": 2,
   "id": "735260a1-cc2f-4970-b2ac-b3357c73210d",
   "metadata": {},
   "outputs": [],
   "source": [
    "x = 2"
   ]
  },
  {
   "cell_type": "code",
   "execution_count": 3,
   "id": "8d482e84-eb74-4cdc-b696-d1a961b1dbb3",
   "metadata": {},
   "outputs": [],
   "source": [
    "y = 4"
   ]
  },
  {
   "cell_type": "code",
   "execution_count": 4,
   "id": "64d564df-758e-4823-91a1-9dc71cf144f4",
   "metadata": {},
   "outputs": [],
   "source": [
    "x = x + y"
   ]
  },
  {
   "cell_type": "code",
   "execution_count": 5,
   "id": "b276631f-1863-4319-b3a4-ab177e750c3f",
   "metadata": {},
   "outputs": [],
   "source": [
    "y = x - y"
   ]
  },
  {
   "cell_type": "code",
   "execution_count": 6,
   "id": "86ff86c8-8c8b-4f1b-9e3b-ce6f5b27a0d4",
   "metadata": {},
   "outputs": [],
   "source": [
    "x = x - y"
   ]
  },
  {
   "cell_type": "code",
   "execution_count": 7,
   "id": "60641ee9-fe74-4ea1-82f8-5cbbe25153e9",
   "metadata": {},
   "outputs": [
    {
     "data": {
      "text/plain": [
       "4"
      ]
     },
     "execution_count": 7,
     "metadata": {},
     "output_type": "execute_result"
    }
   ],
   "source": [
    "x"
   ]
  },
  {
   "cell_type": "code",
   "execution_count": 8,
   "id": "d7b5157a-71f2-41fe-a055-778e304f7d8a",
   "metadata": {},
   "outputs": [
    {
     "data": {
      "text/plain": [
       "2"
      ]
     },
     "execution_count": 8,
     "metadata": {},
     "output_type": "execute_result"
    }
   ],
   "source": [
    "y"
   ]
  },
  {
   "cell_type": "markdown",
   "id": "9158da09-c906-4c58-8204-3e2c4228dc79",
   "metadata": {},
   "source": [
    "2. Area of a rectangle"
   ]
  },
  {
   "cell_type": "code",
   "execution_count": 13,
   "id": "3837e7ef-7c0f-495a-9fa1-b42f4962d32d",
   "metadata": {},
   "outputs": [
    {
     "name": "stdin",
     "output_type": "stream",
     "text": [
      "Enter the Lenght of rectangle 56.5\n",
      "Enter the width of rectangle 23.4\n"
     ]
    },
    {
     "name": "stdout",
     "output_type": "stream",
     "text": [
      "Area of rectangle is :  1322.1\n"
     ]
    }
   ],
   "source": [
    "length = float(input(\"Enter the Lenght of rectangle\"))\n",
    "width = float(input(\"Enter the width of rectangle\"))\n",
    "area = length*width\n",
    "print(\"Area of rectangle is : \", area)"
   ]
  },
  {
   "cell_type": "markdown",
   "id": "9684a1d8-062d-4fff-9517-ee40d95beabe",
   "metadata": {},
   "source": [
    "3.Converts temperatures from Celsius to\n",
    "Fahrenheit."
   ]
  },
  {
   "cell_type": "code",
   "execution_count": 14,
   "id": "f3a12454-df90-4607-8f31-65cb0795e37d",
   "metadata": {},
   "outputs": [
    {
     "name": "stdin",
     "output_type": "stream",
     "text": [
      "Enter the Temperature in Celsius:  56.6\n"
     ]
    },
    {
     "name": "stdout",
     "output_type": "stream",
     "text": [
      "Temperature in Fahrenheit : 133.88\n"
     ]
    }
   ],
   "source": [
    "celsius = float(input(\"Enter the Temperature in Celsius: \"))\n",
    "fahrenheit = (1.8 * celsius) + 32\n",
    "print(\"Temperature in Fahrenheit :\", fahrenheit)"
   ]
  },
  {
   "cell_type": "markdown",
   "id": "10475fb6-e4e9-4fe5-a8d4-7e2d5ee15064",
   "metadata": {},
   "source": [
    "4. Prints the length of string"
   ]
  },
  {
   "cell_type": "code",
   "execution_count": 17,
   "id": "823ddf10-08c4-43c5-b7f6-d00490aa850f",
   "metadata": {},
   "outputs": [
    {
     "name": "stdin",
     "output_type": "stream",
     "text": [
      "Enter your full Name:  Bishwajit\n"
     ]
    }
   ],
   "source": [
    "S = str(input(\"Enter your Name: \"))\n"
   ]
  },
  {
   "cell_type": "code",
   "execution_count": 23,
   "id": "cae16309-469b-4813-96f3-49e45c67acd8",
   "metadata": {},
   "outputs": [
    {
     "name": "stdout",
     "output_type": "stream",
     "text": [
      "Lenght of your name: 9\n"
     ]
    }
   ],
   "source": [
    "print(\"Lenght of your name:\", len(S))"
   ]
  },
  {
   "cell_type": "markdown",
   "id": "33e1ba51-469c-4ecc-98fa-6b2766cdf78c",
   "metadata": {},
   "source": [
    "5. Takes a sentence from the user and counts the number\n",
    "of vowels in the string"
   ]
  },
  {
   "cell_type": "code",
   "execution_count": 25,
   "id": "fdb3090e-9a86-4a3e-9c71-f8b5287f2001",
   "metadata": {},
   "outputs": [
    {
     "name": "stdin",
     "output_type": "stream",
     "text": [
      "Write a sentance :  My name is bishwajit\n"
     ]
    }
   ],
   "source": [
    "S1 = str(input(\"Write a sentance : \"))\n"
   ]
  },
  {
   "cell_type": "code",
   "execution_count": 26,
   "id": "95ebed2a-507e-4b36-a8ce-a284f128073a",
   "metadata": {},
   "outputs": [],
   "source": [
    "vowels = \"aeiouAEIOU\""
   ]
  },
  {
   "cell_type": "code",
   "execution_count": 29,
   "id": "76e02a67-0a40-4524-aabc-cf0af3097521",
   "metadata": {},
   "outputs": [],
   "source": [
    "count = sum(S1.count(vowel) for vowel in vowels)"
   ]
  },
  {
   "cell_type": "code",
   "execution_count": 30,
   "id": "52020a8e-f20c-4f6c-875b-4c09383b5ae1",
   "metadata": {},
   "outputs": [
    {
     "name": "stdout",
     "output_type": "stream",
     "text": [
      "Total number of vowels in your sentance is :  6\n"
     ]
    }
   ],
   "source": [
    "print(\"Total number of vowels in your sentance is : \", count)"
   ]
  },
  {
   "cell_type": "markdown",
   "id": "576b7702-1b1c-4e72-a9a9-ea3f8a9c7e39",
   "metadata": {},
   "source": [
    "6. Reverse the order of characters using string slicing"
   ]
  },
  {
   "cell_type": "code",
   "execution_count": 31,
   "id": "36f0f279-b2ca-4a8e-b60f-3bdf8756f26a",
   "metadata": {},
   "outputs": [],
   "source": [
    "S2 = \"BISHWAJIT\""
   ]
  },
  {
   "cell_type": "code",
   "execution_count": 34,
   "id": "142a6d16-e82c-4148-905e-3983105c9039",
   "metadata": {},
   "outputs": [
    {
     "data": {
      "text/plain": [
       "'TIJAWHSIB'"
      ]
     },
     "execution_count": 34,
     "metadata": {},
     "output_type": "execute_result"
    }
   ],
   "source": [
    "S2[8::-1]"
   ]
  },
  {
   "cell_type": "markdown",
   "id": "e24ebf29-48af-4212-a3e8-de6d3be22fe2",
   "metadata": {},
   "source": [
    "7.Takes a string as input and checks if it is a palindrome"
   ]
  },
  {
   "cell_type": "code",
   "execution_count": 38,
   "id": "162ec75a-4395-48b2-b21a-ea635902e9ae",
   "metadata": {},
   "outputs": [
    {
     "name": "stdin",
     "output_type": "stream",
     "text": [
      "Write a word to check its palindrome or not:  pip\n"
     ]
    },
    {
     "name": "stdout",
     "output_type": "stream",
     "text": [
      "Yes its Palindrome\n"
     ]
    }
   ],
   "source": [
    "P = str(input(\"Write a word to check its palindrome or not: \"))\n",
    "def isPalindrome(P):\n",
    "    return P == P[::-1]\n",
    "Pali = isPalindrome(P)\n",
    "if Pali:\n",
    "    print(\"Yes its Palindrome\")\n",
    "else:\n",
    "    print(\"No its not Palidrome\")"
   ]
  },
  {
   "cell_type": "markdown",
   "id": "8a707ec6-d34a-4736-b389-353c99f7fee8",
   "metadata": {},
   "source": [
    "8. Takes a string as input and removes all the spaces from it"
   ]
  },
  {
   "cell_type": "code",
   "execution_count": 42,
   "id": "86aa33a0-37bb-4bb0-be83-bf1ea36718f5",
   "metadata": {},
   "outputs": [
    {
     "name": "stdin",
     "output_type": "stream",
     "text": [
      "Write any sentance My name is Bishwajit kumar\n"
     ]
    },
    {
     "name": "stdout",
     "output_type": "stream",
     "text": [
      "MynameisBishwajitkumar\n"
     ]
    }
   ],
   "source": [
    "S5 = str(input(\"Write any sentance\"))\n",
    "\n",
    "def remove(S5):\n",
    "    return S5.replace(\" \", \"\")\n",
    "print(remove(S5))"
   ]
  },
  {
   "cell_type": "code",
   "execution_count": null,
   "id": "fd47fa99-2605-4ed1-ae0f-cad2186d9f3f",
   "metadata": {},
   "outputs": [],
   "source": []
  }
 ],
 "metadata": {
  "kernelspec": {
   "display_name": "Python 3 (ipykernel)",
   "language": "python",
   "name": "python3"
  },
  "language_info": {
   "codemirror_mode": {
    "name": "ipython",
    "version": 3
   },
   "file_extension": ".py",
   "mimetype": "text/x-python",
   "name": "python",
   "nbconvert_exporter": "python",
   "pygments_lexer": "ipython3",
   "version": "3.10.8"
  }
 },
 "nbformat": 4,
 "nbformat_minor": 5
}
