{
 "cells": [
  {
   "cell_type": "code",
   "execution_count": 1,
   "id": "f6fd031a-cc0c-49f7-9684-6de8e7ace33c",
   "metadata": {},
   "outputs": [
    {
     "name": "stdout",
     "output_type": "stream",
     "text": [
      "1\n",
      "2\n",
      "3\n",
      "4\n",
      "5\n",
      "6\n",
      "7\n",
      "8\n",
      "9\n",
      "10\n"
     ]
    }
   ],
   "source": [
    "# Write a Python program to print numbers from 1 to 10 using a for loop.\n",
    "for i in range(1, 11):\n",
    "    print(i)\n",
    "\n",
    "\n",
    "\n"
   ]
  },
  {
   "cell_type": "code",
   "execution_count": 3,
   "id": "4fc7d365-8282-46f0-b47a-ac4c67d465a6",
   "metadata": {},
   "outputs": [
    {
     "name": "stdout",
     "output_type": "stream",
     "text": [
      "0\n",
      "1\n",
      "2\n",
      "3\n",
      "4\n"
     ]
    }
   ],
   "source": [
    "# Explain the difference between a for loop and a while loop in Python.\n",
    "'''For loop \n",
    "Syntax: for item in iterable:\n",
    "Iterates over a sequence (such as a list, tuple, string, or range) or any iterable object.\n",
    "Executes a block of code a specific number of times, based on the length of the iterable.\n",
    "The loop variable (item in the syntax above) takes on each value in the sequence one by one.\n",
    "Generally used when you know the number of iterations or when iterating over a collection of items.'''\n",
    "eg.\n",
    "for i in range(5):\n",
    "    print(i)\n",
    "\n"
   ]
  },
  {
   "cell_type": "code",
   "execution_count": null,
   "id": "f6e3e193-04d7-4f99-8d32-fa1928ddcddf",
   "metadata": {},
   "outputs": [],
   "source": [
    "'''While Loop:\n",
    "\n",
    "Syntax: while condition:\n",
    "Iterates until a certain condition is met.\n",
    "Executes a block of code repeatedly as long as the specified condition evaluates to True.\n",
    "The loop continues until the condition becomes False.\n",
    "It's generally used when you don't know the number of iterations in advance, but you know the condition under which you want to keep looping.\n",
    "Example:'''"
   ]
  },
  {
   "cell_type": "code",
   "execution_count": 4,
   "id": "6284d986-d3ca-4b5a-90d2-6696262518c5",
   "metadata": {},
   "outputs": [
    {
     "name": "stdout",
     "output_type": "stream",
     "text": [
      "0\n",
      "1\n",
      "2\n",
      "3\n",
      "4\n"
     ]
    }
   ],
   "source": [
    "i = 0\n",
    "while i < 5:\n",
    "    print(i)\n",
    "    i += 1"
   ]
  },
  {
   "cell_type": "code",
   "execution_count": 5,
   "id": "a9d19f1b-1de6-4452-b5ed-21504a68a887",
   "metadata": {},
   "outputs": [
    {
     "name": "stdout",
     "output_type": "stream",
     "text": [
      "The sum of all numbers from 1 to 100 is: 5050\n"
     ]
    }
   ],
   "source": [
    "# Write a Python program to calculate the sum of all numbers from 1 to 100 using a for loop.\n",
    "total_sum = 0\n",
    "\n",
    "# Using a for loop to iterate from 1 to 100\n",
    "for i in range(1, 101):\n",
    "    total_sum += i\n",
    "\n",
    "# Print the total sum\n",
    "print(\"The sum of all numbers from 1 to 100 is:\", total_sum)"
   ]
  },
  {
   "cell_type": "code",
   "execution_count": 6,
   "id": "8a3ccc2d-813b-4b37-b968-ab513193da3f",
   "metadata": {},
   "outputs": [
    {
     "name": "stdout",
     "output_type": "stream",
     "text": [
      "1\n",
      "2\n",
      "3\n",
      "4\n",
      "5\n"
     ]
    }
   ],
   "source": [
    "# How do you iterate through a list using a for loop in Python?\n",
    "my_list = [1, 2, 3, 4, 5]\n",
    "\n",
    "for item in my_list:\n",
    "    # Do something with each item\n",
    "    print(item)"
   ]
  },
  {
   "cell_type": "code",
   "execution_count": 7,
   "id": "b05df709-6aa2-44cd-af28-ae472f54ae93",
   "metadata": {},
   "outputs": [
    {
     "name": "stdout",
     "output_type": "stream",
     "text": [
      "The product of all elements in the list is: 120\n"
     ]
    }
   ],
   "source": [
    "# Write a Python program to find the product of all elements in a list using a for loop.\n",
    "my_list = [2, 3, 4, 5]\n",
    "\n",
    "# Initialize the product variable\n",
    "product = 1\n",
    "\n",
    "# Using a for loop to iterate through each element in the list\n",
    "for num in my_list:\n",
    "    product *= num\n",
    "\n",
    "# Print the product\n",
    "print(\"The product of all elements in the list is:\", product)"
   ]
  },
  {
   "cell_type": "code",
   "execution_count": 8,
   "id": "fb462438-54d5-4586-80b2-6a6a183ae278",
   "metadata": {},
   "outputs": [
    {
     "name": "stdout",
     "output_type": "stream",
     "text": [
      "2\n",
      "4\n",
      "6\n",
      "8\n",
      "10\n",
      "12\n",
      "14\n",
      "16\n",
      "18\n",
      "20\n"
     ]
    }
   ],
   "source": [
    "# Create a Python program that prints all even numbers from 1 to 20 using a for loop.\n",
    "for num in range(2, 21, 2):\n",
    "    print(num)"
   ]
  },
  {
   "cell_type": "code",
   "execution_count": 11,
   "id": "40da58a4-f5e7-41a7-96eb-f7f25303e38d",
   "metadata": {},
   "outputs": [
    {
     "name": "stdin",
     "output_type": "stream",
     "text": [
      "Enter a number:  5\n"
     ]
    },
    {
     "name": "stdout",
     "output_type": "stream",
     "text": [
      "The factorial of 5 is: 120\n"
     ]
    }
   ],
   "source": [
    "# Write a Python program that calculates the factorial of a number using a for loop.\n",
    "def factorial(n):\n",
    "    # Initialize the factorial variable to 1\n",
    "    fact = 1\n",
    "    \n",
    "    # Check if the number is negative, zero, or positive\n",
    "    if n < 0:\n",
    "        return \"Factorial is not defined for negative numbers\"\n",
    "    elif n == 0:\n",
    "        return 1\n",
    "    else:\n",
    "        # Using a for loop to calculate the factorial\n",
    "        for i in range(1, n + 1):\n",
    "            fact *= i\n",
    "        return fact\n",
    "num = int(input(\"Enter a number: \"))\n",
    "\n",
    "# Call the factorial function and print the result\n",
    "print(\"The factorial of\", num, \"is:\", factorial(num))"
   ]
  },
  {
   "cell_type": "code",
   "execution_count": 12,
   "id": "3c78d0e2-515e-42ed-b14c-79be166c895a",
   "metadata": {},
   "outputs": [
    {
     "name": "stdout",
     "output_type": "stream",
     "text": [
      "H\n",
      "e\n",
      "l\n",
      "l\n",
      "o\n",
      ",\n",
      " \n",
      "w\n",
      "o\n",
      "r\n",
      "l\n",
      "d\n",
      "!\n"
     ]
    }
   ],
   "source": [
    "# How can you iterate through the characters of a string using a for loop in Python?\n",
    "my_string = \"Hello, world!\"\n",
    "\n",
    "# Using a for loop to iterate through each character in the string\n",
    "for char in my_string:\n",
    "    print(char)"
   ]
  },
  {
   "cell_type": "code",
   "execution_count": 13,
   "id": "dfc29acb-b54f-41c9-80a1-85395887f33e",
   "metadata": {},
   "outputs": [
    {
     "name": "stdout",
     "output_type": "stream",
     "text": [
      "The largest number in the list is: 30\n"
     ]
    }
   ],
   "source": [
    "# Write a Python program to find the largest number in a list using a for loop.\n",
    "my_list = [10, 5, 20, 15, 30]\n",
    "\n",
    "# Initialize the variable to hold the largest number\n",
    "largest = my_list[0]\n",
    "\n",
    "# Using a for loop to iterate through each element in the list\n",
    "for num in my_list:\n",
    "    if num > largest:\n",
    "        largest = num\n",
    "\n",
    "# Print the largest number\n",
    "print(\"The largest number in the list is:\", largest)"
   ]
  },
  {
   "cell_type": "code",
   "execution_count": 14,
   "id": "55cb3dfb-a6f3-46aa-a23b-89ded4803e83",
   "metadata": {},
   "outputs": [
    {
     "name": "stdin",
     "output_type": "stream",
     "text": [
      "Enter the limit for the Fibonacci sequence:  5\n"
     ]
    },
    {
     "name": "stdout",
     "output_type": "stream",
     "text": [
      "Fibonacci sequence up to 5 is: [0, 1, 1, 2, 3]\n"
     ]
    }
   ],
   "source": [
    "# Create a Python program that prints the Fibonacci sequence up to a specified limit using a for loop.\n",
    "def fibonacci(limit):\n",
    "    # Initialize the first two numbers in the sequence\n",
    "    fibonacci_sequence = [0, 1]\n",
    "\n",
    "    # Using a for loop to generate Fibonacci sequence up to the limit\n",
    "    for i in range(2, limit):\n",
    "        next_num = fibonacci_sequence[-1] + fibonacci_sequence[-2]\n",
    "        if next_num <= limit:\n",
    "            fibonacci_sequence.append(next_num)\n",
    "        else:\n",
    "            break\n",
    "\n",
    "    # Print the Fibonacci sequence\n",
    "    print(\"Fibonacci sequence up to\", limit, \"is:\", fibonacci_sequence)\n",
    "\n",
    "# Input the limit for the Fibonacci sequence\n",
    "limit = int(input(\"Enter the limit for the Fibonacci sequence: \"))\n",
    "\n",
    "# Call the fibonacci function\n",
    "fibonacci(limit)"
   ]
  },
  {
   "cell_type": "code",
   "execution_count": 15,
   "id": "b38be7ac-7751-404e-8e9a-b5fd43d1a2e5",
   "metadata": {},
   "outputs": [
    {
     "name": "stdin",
     "output_type": "stream",
     "text": [
      "Enter a string:  Hello world\n"
     ]
    },
    {
     "name": "stdout",
     "output_type": "stream",
     "text": [
      "Number of vowels in the given string: 3\n"
     ]
    }
   ],
   "source": [
    "# Write a Python program to count the number of vowels in a given string using a for loop.\n",
    "def count_vowels(string):\n",
    "    # Define a variable to store the count of vowels\n",
    "    vowel_count = 0\n",
    "    \n",
    "    # Define a string containing all vowels\n",
    "    vowels = \"aeiouAEIOU\"\n",
    "    \n",
    "    # Using a for loop to iterate through each character in the string\n",
    "    for char in string:\n",
    "        # Check if the character is a vowel\n",
    "        if char in vowels:\n",
    "            vowel_count += 1\n",
    "    \n",
    "    # Return the count of vowels\n",
    "    return vowel_count\n",
    "\n",
    "# Input the string\n",
    "input_string = input(\"Enter a string: \")\n",
    "\n",
    "# Call the count_vowels function and print the result\n",
    "print(\"Number of vowels in the given string:\", count_vowels(input_string))"
   ]
  },
  {
   "cell_type": "code",
   "execution_count": 16,
   "id": "92a7a45b-d608-48c6-bd9c-09c7ccd3c497",
   "metadata": {},
   "outputs": [
    {
     "name": "stdin",
     "output_type": "stream",
     "text": [
      "Enter a number to generate its multiplication table:  5\n"
     ]
    },
    {
     "name": "stdout",
     "output_type": "stream",
     "text": [
      "Multiplication table for 5\n",
      "-----------------------------\n",
      "5 x 1 = 5\n",
      "5 x 2 = 10\n",
      "5 x 3 = 15\n",
      "5 x 4 = 20\n",
      "5 x 5 = 25\n",
      "5 x 6 = 30\n",
      "5 x 7 = 35\n",
      "5 x 8 = 40\n",
      "5 x 9 = 45\n",
      "5 x 10 = 50\n"
     ]
    }
   ],
   "source": [
    "# Create a Python program that generates a multiplication table for a given number using a for loop.\n",
    "def multiplication_table(num):\n",
    "    print(\"Multiplication table for\", num)\n",
    "    print(\"-----------------------------\")\n",
    "    for i in range(1, 11):\n",
    "        print(f\"{num} x {i} = {num * i}\")\n",
    "\n",
    "# Input the number for which you want to generate the multiplication table\n",
    "number = int(input(\"Enter a number to generate its multiplication table: \"))\n",
    "\n",
    "# Call the multiplication_table function\n",
    "multiplication_table(number)"
   ]
  },
  {
   "cell_type": "code",
   "execution_count": 17,
   "id": "62a958ca-f7d2-41ed-8ab4-1523df0e9abc",
   "metadata": {},
   "outputs": [
    {
     "name": "stdout",
     "output_type": "stream",
     "text": [
      "Original list: [1, 2, 3, 4, 5]\n",
      "Reversed list: [5, 4, 3, 2, 1]\n"
     ]
    }
   ],
   "source": [
    "# Write a Python program to reverse a list using a for loop.\n",
    "def reverse_list(lst):\n",
    "    reversed_list = []\n",
    "    # Iterate over the list in reverse order using a for loop\n",
    "    for i in range(len(lst) - 1, -1, -1):\n",
    "        reversed_list.append(lst[i])\n",
    "    return reversed_list\n",
    "\n",
    "# Example list\n",
    "my_list = [1, 2, 3, 4, 5]\n",
    "\n",
    "# Call the reverse_list function and print the result\n",
    "print(\"Original list:\", my_list)\n",
    "print(\"Reversed list:\", reverse_list(my_list))"
   ]
  },
  {
   "cell_type": "code",
   "execution_count": 18,
   "id": "ad4431f7-7113-4921-9930-7e9d69f4cfd7",
   "metadata": {},
   "outputs": [
    {
     "name": "stdout",
     "output_type": "stream",
     "text": [
      "List 1: [1, 2, 3, 4, 5]\n",
      "List 2: [3, 4, 5, 6, 7]\n",
      "Common elements: [3, 4, 5]\n"
     ]
    }
   ],
   "source": [
    "# Write a Python program to find the common elements between two lists using a for loop.\n",
    "def find_common_elements(list1, list2):\n",
    "    common_elements = []\n",
    "    # Iterate through each element in list1\n",
    "    for element in list1:\n",
    "        # Check if the element is also present in list2\n",
    "        if element in list2:\n",
    "            common_elements.append(element)\n",
    "    return common_elements\n",
    "\n",
    "# Example lists\n",
    "list1 = [1, 2, 3, 4, 5]\n",
    "list2 = [3, 4, 5, 6, 7]\n",
    "\n",
    "# Call the find_common_elements function and print the result\n",
    "print(\"List 1:\", list1)\n",
    "print(\"List 2:\", list2)\n",
    "print(\"Common elements:\", find_common_elements(list1, list2))"
   ]
  },
  {
   "cell_type": "code",
   "execution_count": 19,
   "id": "816adf54-a070-4ff8-b051-f44e7cfd0927",
   "metadata": {},
   "outputs": [
    {
     "name": "stdout",
     "output_type": "stream",
     "text": [
      "Key: a , Value: 1\n",
      "Key: b , Value: 2\n",
      "Key: c , Value: 3\n"
     ]
    }
   ],
   "source": [
    "# Explain how to use a for loop to iterate through the keys and values of a dictionary in Python.\n",
    "my_dict = {'a': 1, 'b': 2, 'c': 3}\n",
    "\n",
    "# Iterate through keys and values using a for loop\n",
    "for key, value in my_dict.items():\n",
    "    print(\"Key:\", key, \", Value:\", value)"
   ]
  },
  {
   "cell_type": "code",
   "execution_count": 20,
   "id": "71e0a388-c1ad-4a5e-84ee-24a37029a02b",
   "metadata": {},
   "outputs": [
    {
     "name": "stdin",
     "output_type": "stream",
     "text": [
      "Enter the first number:  456\n",
      "Enter the second number:  654\n"
     ]
    },
    {
     "name": "stdout",
     "output_type": "stream",
     "text": [
      "The GCD of 456 and 654 is: 6\n"
     ]
    }
   ],
   "source": [
    "# Write a Python program to find the GCD (Greatest Common Divisor) of two numbers using a for loop.\n",
    "def gcd(a, b):\n",
    "    # Find the minimum of the two numbers\n",
    "    min_num = min(a, b)\n",
    "    gcd_value = 1\n",
    "    \n",
    "    # Iterate from 1 to the minimum of the two numbers\n",
    "    for i in range(1, min_num + 1):\n",
    "        # Check if both numbers are divisible by the current iteration value\n",
    "        if a % i == 0 and b % i == 0:\n",
    "            gcd_value = i  # Update the gcd_value if the current iteration value is a common divisor\n",
    "    \n",
    "    return gcd_value\n",
    "\n",
    "# Input the two numbers\n",
    "num1 = int(input(\"Enter the first number: \"))\n",
    "num2 = int(input(\"Enter the second number: \"))\n",
    "\n",
    "# Call the gcd function and print the result\n",
    "print(\"The GCD of\", num1, \"and\", num2, \"is:\", gcd(num1, num2))"
   ]
  },
  {
   "cell_type": "code",
   "execution_count": 21,
   "id": "86b8cc61-43ad-42d6-befa-cb91ddbbfc89",
   "metadata": {},
   "outputs": [
    {
     "name": "stdin",
     "output_type": "stream",
     "text": [
      "Enter a string:  Satyam\n"
     ]
    },
    {
     "name": "stdout",
     "output_type": "stream",
     "text": [
      "The string is not a palindrome.\n"
     ]
    }
   ],
   "source": [
    "# Create a Python program that checks if a string is a palindrome using a for loop.\n",
    "def is_palindrome(s):\n",
    "    # Remove spaces and convert the string to lowercase\n",
    "    s = s.replace(\" \", \"\").lower()\n",
    "    \n",
    "    # Initialize variables to store start and end indices\n",
    "    start_index = 0\n",
    "    end_index = len(s) - 1\n",
    "    \n",
    "    # Iterate through the string using a for loop\n",
    "    for i in range(len(s) // 2):\n",
    "        # Check if characters at start and end indices are equal\n",
    "        if s[start_index] != s[end_index]:\n",
    "            return False\n",
    "        # Move start index forward and end index backward\n",
    "        start_index += 1\n",
    "        end_index -= 1\n",
    "    return True\n",
    "\n",
    "# Input the string\n",
    "string = input(\"Enter a string: \")\n",
    "\n",
    "# Check if the string is a palindrome and print the result\n",
    "if is_palindrome(string):\n",
    "    print(\"The string is a palindrome.\")\n",
    "else:\n",
    "    print(\"The string is not a palindrome.\")"
   ]
  },
  {
   "cell_type": "code",
   "execution_count": 22,
   "id": "c61c0134-8224-428f-ad74-f9ebdfdd1c51",
   "metadata": {},
   "outputs": [
    {
     "name": "stdout",
     "output_type": "stream",
     "text": [
      "Original list: [1, 2, 2, 3, 4, 4, 5, 5, 6]\n",
      "List with duplicates removed: [1, 2, 3, 4, 5, 6]\n"
     ]
    }
   ],
   "source": [
    "# Write a Python program to remove duplicates from a list using a for loop.\n",
    "def remove_duplicates(lst):\n",
    "    unique_list = []\n",
    "    # Iterate through the original list\n",
    "    for item in lst:\n",
    "        # Check if the item is not already in the unique_list\n",
    "        if item not in unique_list:\n",
    "            unique_list.append(item)\n",
    "    return unique_list\n",
    "\n",
    "# Example list with duplicates\n",
    "my_list = [1, 2, 2, 3, 4, 4, 5, 5, 6]\n",
    "\n",
    "# Call the remove_duplicates function and print the result\n",
    "print(\"Original list:\", my_list)\n",
    "print(\"List with duplicates removed:\", remove_duplicates(my_list))\n"
   ]
  },
  {
   "cell_type": "code",
   "execution_count": 23,
   "id": "fc46e697-60aa-4126-a20d-63eb78b5d4e8",
   "metadata": {},
   "outputs": [
    {
     "name": "stdin",
     "output_type": "stream",
     "text": [
      "Enter a sentence:  This a Hello World\n"
     ]
    },
    {
     "name": "stdout",
     "output_type": "stream",
     "text": [
      "Number of words in the sentence: 4\n"
     ]
    }
   ],
   "source": [
    "# Create a Python program that counts the number of words in a sentence using a for loop.\n",
    "def count_words(sentence):\n",
    "    word_count = 0\n",
    "    # Iterate through each character in the sentence\n",
    "    for char in sentence:\n",
    "        # Check if the character is a space\n",
    "        if char == ' ':\n",
    "            word_count += 1\n",
    "    # Increment word count by 1 to include the last word\n",
    "    word_count += 1\n",
    "    return word_count\n",
    "\n",
    "# Input the sentence\n",
    "sentence = input(\"Enter a sentence: \")\n",
    "\n",
    "# Call the count_words function and print the result\n",
    "print(\"Number of words in the sentence:\", count_words(sentence))"
   ]
  },
  {
   "cell_type": "code",
   "execution_count": 24,
   "id": "f4e43daf-2e2b-40dd-8338-9628dcb87f9f",
   "metadata": {},
   "outputs": [
    {
     "name": "stdout",
     "output_type": "stream",
     "text": [
      "The sum of all odd numbers from 1 to 50 is: 625\n"
     ]
    }
   ],
   "source": [
    "# Write a Python program to find the sum of all odd numbers from 1 to 50 using a for loop.\n",
    "sum_of_odd_numbers = 0\n",
    "\n",
    "# Using a for loop to iterate from 1 to 50\n",
    "for num in range(1, 51):\n",
    "    # Check if the number is odd\n",
    "    if num % 2 != 0:\n",
    "        # If it's odd, add it to the sum\n",
    "        sum_of_odd_numbers += num\n",
    "\n",
    "# Print the sum of all odd numbers\n",
    "print(\"The sum of all odd numbers from 1 to 50 is:\", sum_of_odd_numbers)"
   ]
  },
  {
   "cell_type": "code",
   "execution_count": 25,
   "id": "3d55eb3d-1e09-46be-8081-5c20b86493fb",
   "metadata": {},
   "outputs": [
    {
     "name": "stdin",
     "output_type": "stream",
     "text": [
      "Enter a year:  2025\n"
     ]
    },
    {
     "name": "stdout",
     "output_type": "stream",
     "text": [
      "2025 is not a leap year.\n"
     ]
    }
   ],
   "source": [
    "# Write a Python program that checks if a given year is a leap year using a for loop.\n",
    "def is_leap_year(year):\n",
    "    if (year % 4 == 0 and year % 100 != 0) or (year % 400 == 0):\n",
    "        return True\n",
    "    else:\n",
    "        return False\n",
    "\n",
    "# Input the year\n",
    "year = int(input(\"Enter a year: \"))\n",
    "\n",
    "# Check if the year is a leap year and print the result\n",
    "if is_leap_year(year):\n",
    "    print(year, \"is a leap year.\")\n",
    "else:\n",
    "    print(year, \"is not a leap year.\")"
   ]
  },
  {
   "cell_type": "code",
   "execution_count": 26,
   "id": "81b194c6-5cfe-49a7-bcd4-3dbfa254184c",
   "metadata": {},
   "outputs": [
    {
     "name": "stdin",
     "output_type": "stream",
     "text": [
      "Enter a number:  585\n"
     ]
    },
    {
     "name": "stdout",
     "output_type": "stream",
     "text": [
      "The square root of 585.0 is approximately: 24.186773244895647\n"
     ]
    }
   ],
   "source": [
    "# Create a Python program that calculates the square root of a number using a for loop.\n",
    "def square_root(num, iterations=100):\n",
    "    guess = num / 2  # Initial guess for the square root\n",
    "    for _ in range(iterations):\n",
    "        guess = (guess + num / guess) / 2  # Update the guess using the Babylonian method\n",
    "    return guess\n",
    "\n",
    "# Input the number\n",
    "number = float(input(\"Enter a number: \"))\n",
    "\n",
    "# Calculate the square root using the square_root function\n",
    "result = square_root(number)\n",
    "\n",
    "# Print the result\n",
    "print(\"The square root of\", number, \"is approximately:\", result)\n"
   ]
  },
  {
   "cell_type": "code",
   "execution_count": 27,
   "id": "95db3309-ddd6-4587-93e2-d6f5698fcea8",
   "metadata": {},
   "outputs": [
    {
     "name": "stdin",
     "output_type": "stream",
     "text": [
      "Enter the first number:  12\n",
      "Enter the second number:  55\n"
     ]
    },
    {
     "name": "stdout",
     "output_type": "stream",
     "text": [
      "The LCM of 12 and 55 is: 660\n"
     ]
    }
   ],
   "source": [
    "# Write a Python program to find the LCM (Least Common Multiple) of two numbers using a for loop.\n",
    "def gcd(a, b):\n",
    "    while b:\n",
    "        a, b = b, a % b\n",
    "    return a\n",
    "\n",
    "# Function to find the LCM (Least Common Multiple) of two numbers\n",
    "def lcm(a, b):\n",
    "    return (a * b) // gcd(a, b)\n",
    "\n",
    "# Input the two numbers\n",
    "num1 = int(input(\"Enter the first number: \"))\n",
    "num2 = int(input(\"Enter the second number: \"))\n",
    "\n",
    "# Calculate the LCM using the lcm function and print the result\n",
    "print(\"The LCM of\", num1, \"and\", num2, \"is:\", lcm(num1, num2))"
   ]
  },
  {
   "cell_type": "code",
   "execution_count": 28,
   "id": "8b3495f1-9458-4c9c-9610-aa1a38bff8e8",
   "metadata": {},
   "outputs": [
    {
     "name": "stdin",
     "output_type": "stream",
     "text": [
      "Enter a number:  568\n"
     ]
    },
    {
     "name": "stdout",
     "output_type": "stream",
     "text": [
      "The number is positive.\n"
     ]
    }
   ],
   "source": [
    "# Write a Python program to check if a number is positive, negative, or zero using an if-else statement.\n",
    "number = float(input(\"Enter a number: \"))\n",
    "\n",
    "# Check if the number is positive, negative, or zero using if-else statement\n",
    "if number > 0:\n",
    "    print(\"The number is positive.\")\n",
    "elif number < 0:\n",
    "    print(\"The number is negative.\")\n",
    "else:\n",
    "    print(\"The number is zero.\")"
   ]
  },
  {
   "cell_type": "code",
   "execution_count": 29,
   "id": "2d2bb335-1c22-4f8d-9af6-8ffee084306c",
   "metadata": {},
   "outputs": [
    {
     "name": "stdin",
     "output_type": "stream",
     "text": [
      "Enter a number:  445\n"
     ]
    },
    {
     "name": "stdout",
     "output_type": "stream",
     "text": [
      "The number is odd.\n"
     ]
    }
   ],
   "source": [
    "# Create a Python program that checks if a given number is even or odd using an if-else statement.\n",
    "number = int(input(\"Enter a number: \"))\n",
    "\n",
    "# Check if the number is even or odd using if-else statement\n",
    "if number % 2 == 0:\n",
    "    print(\"The number is even.\")\n",
    "else:\n",
    "    print(\"The number is odd.\")"
   ]
  },
  {
   "cell_type": "code",
   "execution_count": 30,
   "id": "ee488ae0-7465-4c8c-af84-c3256a96be24",
   "metadata": {},
   "outputs": [
    {
     "name": "stdin",
     "output_type": "stream",
     "text": [
      "Enter the score:  98\n"
     ]
    },
    {
     "name": "stdout",
     "output_type": "stream",
     "text": [
      "The grade for the score 98.0 is: A+\n"
     ]
    }
   ],
   "source": [
    "# How can you use nested if-else statements in Python, and provide an example?\n",
    "score = float(input(\"Enter the score: \"))\n",
    "\n",
    "# Check the grading based on the score using nested if-else statements\n",
    "if score >= 90:\n",
    "    grade = 'A'\n",
    "    if score >= 95:\n",
    "        grade += '+'  # Add a '+' for scores in the higher range of 'A'\n",
    "elif score >= 80:\n",
    "    grade = 'B'\n",
    "elif score >= 70:\n",
    "    grade = 'C'\n",
    "elif score >= 60:\n",
    "    grade = 'D'\n",
    "else:\n",
    "    grade = 'F'\n",
    "\n",
    "# Print the grade\n",
    "print(\"The grade for the score\", score, \"is:\", grade)\n"
   ]
  },
  {
   "cell_type": "code",
   "execution_count": 31,
   "id": "a6f000d5-a07f-4b49-a2f5-ebdb9bcd2d28",
   "metadata": {},
   "outputs": [
    {
     "name": "stdin",
     "output_type": "stream",
     "text": [
      "Enter the first number:  3199\n",
      "Enter the second number:  9955\n",
      "Enter the third number:  5\n"
     ]
    },
    {
     "name": "stdout",
     "output_type": "stream",
     "text": [
      "The largest number among 3199.0 , 9955.0 , and 5.0 is: 9955.0\n"
     ]
    }
   ],
   "source": [
    "# Write a Python program to determine the largest of three numbers using if-else.\n",
    "# Input three numbers\n",
    "num1 = float(input(\"Enter the first number: \"))\n",
    "num2 = float(input(\"Enter the second number: \"))\n",
    "num3 = float(input(\"Enter the third number: \"))\n",
    "\n",
    "# Determine the largest of three numbers using if-else statements\n",
    "if num1 >= num2 and num1 >= num3:\n",
    "    largest = num1\n",
    "elif num2 >= num1 and num2 >= num3:\n",
    "    largest = num2\n",
    "else:\n",
    "    largest = num3\n",
    "\n",
    "# Print the largest number\n",
    "print(\"The largest number among\", num1, \",\", num2, \", and\", num3, \"is:\", largest)\n"
   ]
  },
  {
   "cell_type": "code",
   "execution_count": 33,
   "id": "ca853b6b-d48c-4595-89e7-6a4078069d60",
   "metadata": {},
   "outputs": [
    {
     "name": "stdin",
     "output_type": "stream",
     "text": [
      "Enter a number:  -5987\n"
     ]
    },
    {
     "name": "stdout",
     "output_type": "stream",
     "text": [
      "The absolute value of -5987.0 is: 5987.0\n"
     ]
    }
   ],
   "source": [
    "# Write a Python program that calculates the absolute value of a number using if-else.\n",
    "number = float(input(\"Enter a number: \"))\n",
    "\n",
    "# Calculate the absolute value using if-else statements\n",
    "if number >= 0:\n",
    "    absolute_value = number\n",
    "else:\n",
    "    absolute_value = -number\n",
    "\n",
    "# Print the absolute value\n",
    "print(\"The absolute value of\", number, \"is:\", absolute_value)"
   ]
  },
  {
   "cell_type": "code",
   "execution_count": 34,
   "id": "9aa85723-5f72-4376-9266-aa3f5991bb2c",
   "metadata": {},
   "outputs": [
    {
     "name": "stdin",
     "output_type": "stream",
     "text": [
      "Enter a character:  a\n"
     ]
    },
    {
     "name": "stdout",
     "output_type": "stream",
     "text": [
      "The character a is a vowel.\n"
     ]
    }
   ],
   "source": [
    "# Create a Python program that checks if a given character is a vowel or consonant using if-else.\n",
    "character = input(\"Enter a character: \")\n",
    "\n",
    "# Convert the character to lowercase for case insensitivity\n",
    "character = character.lower()\n",
    "\n",
    "# Check if the character is a vowel or consonant using if-else statements\n",
    "if character.isalpha():\n",
    "    if character in 'aeiou':\n",
    "        print(\"The character\", character, \"is a vowel.\")\n",
    "    else:\n",
    "        print(\"The character\", character, \"is a consonant.\")\n",
    "else:\n",
    "    print(\"Invalid input! Please enter a valid alphabet character.\")"
   ]
  },
  {
   "cell_type": "code",
   "execution_count": 36,
   "id": "f24c3a31-5b01-440c-b2c6-8615cf19286e",
   "metadata": {},
   "outputs": [
    {
     "name": "stdin",
     "output_type": "stream",
     "text": [
      "Enter your age:  8\n"
     ]
    },
    {
     "name": "stdout",
     "output_type": "stream",
     "text": [
      "You are not eligible to vote yet.\n"
     ]
    }
   ],
   "source": [
    "# Write a Python program to determine if a user is eligible to vote based on their age using if-else.\n",
    "age = int(input(\"Enter your age: \"))\n",
    "\n",
    "# Check if the user is eligible to vote using if-else statements\n",
    "if age >= 18:\n",
    "    print(\"You are eligible to vote.\")\n",
    "else:\n",
    "    print(\"You are not eligible to vote yet.\")"
   ]
  },
  {
   "cell_type": "code",
   "execution_count": 37,
   "id": "6b293b2d-547c-4f79-90c1-abc887f7366d",
   "metadata": {},
   "outputs": [
    {
     "name": "stdin",
     "output_type": "stream",
     "text": [
      "Enter the purchase amount: $ 399\n"
     ]
    },
    {
     "name": "stdout",
     "output_type": "stream",
     "text": [
      "Discount amount: 39.900000000000006\n"
     ]
    }
   ],
   "source": [
    "# Create a Python program that calculates the discount amount based on the purchase amount using if-else.\n",
    "purchase_amount = float(input(\"Enter the purchase amount: $\"))\n",
    "\n",
    "# Check the discount amount based on the purchase amount using if-else statements\n",
    "if purchase_amount >= 100:\n",
    "    discount_percentage = 10\n",
    "elif purchase_amount >= 50:\n",
    "    discount_percentage = 5\n",
    "else:\n",
    "    discount_percentage = 0\n",
    "\n",
    "# Calculate the discount amount\n",
    "discount_amount = (discount_percentage / 100) * purchase_amount\n",
    "\n",
    "# Print the discount amount\n",
    "print(\"Discount amount:\", discount_amount)"
   ]
  },
  {
   "cell_type": "code",
   "execution_count": 38,
   "id": "894b72b9-0813-4c8e-88e8-0dc36ae79fcf",
   "metadata": {},
   "outputs": [
    {
     "name": "stdin",
     "output_type": "stream",
     "text": [
      "Enter a number:  25\n",
      "Enter the lower limit of the range:  2\n",
      "Enter the upper limit of the range:  88\n"
     ]
    },
    {
     "name": "stdout",
     "output_type": "stream",
     "text": [
      "The number 25.0 is within the specified range.\n"
     ]
    }
   ],
   "source": [
    "# Write a Python program to check if a number is within a specified range using if-else.\n",
    "# Input the number and the range limits\n",
    "number = float(input(\"Enter a number: \"))\n",
    "lower_limit = float(input(\"Enter the lower limit of the range: \"))\n",
    "upper_limit = float(input(\"Enter the upper limit of the range: \"))\n",
    "\n",
    "# Check if the number is within the specified range using if-else statements\n",
    "if lower_limit <= number <= upper_limit:\n",
    "    print(\"The number\", number, \"is within the specified range.\")\n",
    "else:\n",
    "    print(\"The number\", number, \"is not within the specified range.\")\n"
   ]
  },
  {
   "cell_type": "code",
   "execution_count": 39,
   "id": "333ffbe9-6d41-4c00-b55d-a0a40b0ac560",
   "metadata": {},
   "outputs": [
    {
     "name": "stdin",
     "output_type": "stream",
     "text": [
      "Enter the score:  55\n"
     ]
    },
    {
     "name": "stdout",
     "output_type": "stream",
     "text": [
      "The grade for the score 55.0 is: F\n"
     ]
    }
   ],
   "source": [
    "# Create a Python program that determines the grade of a student based on their score using if-else.\n",
    "score = float(input(\"Enter the score: \"))\n",
    "\n",
    "# Determine the grade based on the score using if-else statements\n",
    "if score >= 90:\n",
    "    grade = 'A'\n",
    "elif score >= 80:\n",
    "    grade = 'B'\n",
    "elif score >= 70:\n",
    "    grade = 'C'\n",
    "elif score >= 60:\n",
    "    grade = 'D'\n",
    "else:\n",
    "    grade = 'F'\n",
    "\n",
    "# Print the grade\n",
    "print(\"The grade for the score\", score, \"is:\", grade)"
   ]
  },
  {
   "cell_type": "code",
   "execution_count": 41,
   "id": "a274b4c4-db8c-4d17-9d78-bb966f5a635f",
   "metadata": {},
   "outputs": [
    {
     "name": "stdin",
     "output_type": "stream",
     "text": [
      "Enter a string:  satyammishra\n"
     ]
    },
    {
     "name": "stdout",
     "output_type": "stream",
     "text": [
      "The string is not empty.\n"
     ]
    }
   ],
   "source": [
    "# Write a Python program to check if a string is empty or not using if-else.\n",
    "string = input(\"Enter a string: \")\n",
    "\n",
    "# Check if the string is empty or not using if-else statements\n",
    "if len(string) == 0:\n",
    "    print(\"The string is empty.\")\n",
    "else:\n",
    "    print(\"The string is not empty.\")"
   ]
  },
  {
   "cell_type": "code",
   "execution_count": 43,
   "id": "e95d6203-e005-4949-8625-219357929148",
   "metadata": {},
   "outputs": [
    {
     "name": "stdin",
     "output_type": "stream",
     "text": [
      "Enter the length of the first side:  2\n",
      "Enter the length of the second side:  3\n",
      "Enter the length of the third side:  4\n"
     ]
    },
    {
     "name": "stdout",
     "output_type": "stream",
     "text": [
      "The triangle with side lengths 2.0 , 3.0 , and 4.0 is a scalene triangle.\n"
     ]
    }
   ],
   "source": [
    "# Create a Python program that identifies the type of a triangle (e.g., equilateral, isosceles, or scalene) based on input values using if-else.\n",
    "# Input the lengths of the sides of the triangle\n",
    "side1 = float(input(\"Enter the length of the first side: \"))\n",
    "side2 = float(input(\"Enter the length of the second side: \"))\n",
    "side3 = float(input(\"Enter the length of the third side: \"))\n",
    "\n",
    "# Check the type of triangle based on the lengths of the sides using if-else statements\n",
    "if side1 == side2 == side3:\n",
    "    triangle_type = \"equilateral\"\n",
    "elif side1 == side2 or side1 == side3 or side2 == side3:\n",
    "    triangle_type = \"isosceles\"\n",
    "else:\n",
    "    triangle_type = \"scalene\"\n",
    "\n",
    "# Print the type of triangle\n",
    "print(\"The triangle with side lengths\", side1, \",\", side2, \", and\", side3, \"is a\", triangle_type, \"triangle.\")\n"
   ]
  },
  {
   "cell_type": "code",
   "execution_count": 44,
   "id": "6ecee466-5a93-47ac-aabc-d83c2b3441a3",
   "metadata": {},
   "outputs": [
    {
     "name": "stdin",
     "output_type": "stream",
     "text": [
      "Enter a number (1-7) representing the day of the week:  5\n"
     ]
    },
    {
     "name": "stdout",
     "output_type": "stream",
     "text": [
      "The day corresponding to number 5 is: Friday\n"
     ]
    }
   ],
   "source": [
    "# Write a Python program to determine the day of the week based on a user-provided number using if-else.\n",
    "# Input the number representing the day of the week (1 for Monday, 2 for Tuesday, ..., 7 for Sunday)\n",
    "day_number = int(input(\"Enter a number (1-7) representing the day of the week: \"))\n",
    "\n",
    "# Determine the day of the week based on the input number using if-else statements\n",
    "if day_number == 1:\n",
    "    day_of_week = \"Monday\"\n",
    "elif day_number == 2:\n",
    "    day_of_week = \"Tuesday\"\n",
    "elif day_number == 3:\n",
    "    day_of_week = \"Wednesday\"\n",
    "elif day_number == 4:\n",
    "    day_of_week = \"Thursday\"\n",
    "elif day_number == 5:\n",
    "    day_of_week = \"Friday\"\n",
    "elif day_number == 6:\n",
    "    day_of_week = \"Saturday\"\n",
    "elif day_number == 7:\n",
    "    day_of_week = \"Sunday\"\n",
    "else:\n",
    "    day_of_week = \"Invalid day number\"\n",
    "\n",
    "# Print the day of the week\n",
    "print(\"The day corresponding to number\", day_number, \"is:\", day_of_week)\n"
   ]
  },
  {
   "cell_type": "code",
   "execution_count": 45,
   "id": "e6425557-ed1c-4fd1-8f18-12879b34f687",
   "metadata": {},
   "outputs": [
    {
     "name": "stdin",
     "output_type": "stream",
     "text": [
      "Enter a year:  55\n"
     ]
    },
    {
     "name": "stdout",
     "output_type": "stream",
     "text": [
      "55 is not a leap year.\n"
     ]
    }
   ],
   "source": [
    "# Create a Python program that checks if a given year is a leap year using both if-else and a function.\n",
    "def is_leap_year(year):\n",
    "    if (year % 4 == 0 and year % 100 != 0) or (year % 400 == 0):\n",
    "        return True\n",
    "    else:\n",
    "        return False\n",
    "\n",
    "# Input the year\n",
    "year = int(input(\"Enter a year: \"))\n",
    "\n",
    "# Check if the year is a leap year using the is_leap_year function and if-else statements\n",
    "if is_leap_year(year):\n",
    "    print(year, \"is a leap year.\")\n",
    "else:\n",
    "    print(year, \"is not a leap year.\")"
   ]
  },
  {
   "cell_type": "code",
   "execution_count": 46,
   "id": "f774a77e-afd4-45f4-a373-e44ca150a263",
   "metadata": {},
   "outputs": [
    {
     "name": "stdin",
     "output_type": "stream",
     "text": [
      "Enter the length of the rectangle:  5\n",
      "Enter the width of the rectangle:  9\n"
     ]
    },
    {
     "name": "stdout",
     "output_type": "stream",
     "text": [
      "The area of the rectangle is: 45.0\n"
     ]
    }
   ],
   "source": [
    "# How do you use the \"assert\" statement in Python to add debugging checks within if-else blocks?\n",
    "def calculate_rectangle_area(length, width):\n",
    "    # Check if the length and width are positive\n",
    "    assert length > 0 and width > 0, \"Length and width must be positive\"\n",
    "\n",
    "    # Calculate the area of the rectangle\n",
    "    area = length * width\n",
    "    return area\n",
    "\n",
    "# Test the function\n",
    "length = float(input(\"Enter the length of the rectangle: \"))\n",
    "width = float(input(\"Enter the width of the rectangle: \"))\n",
    "\n",
    "# Calculate the area of the rectangle\n",
    "try:\n",
    "    rectangle_area = calculate_rectangle_area(length, width)\n",
    "    print(\"The area of the rectangle is:\", rectangle_area)\n",
    "except AssertionError as e:\n",
    "    print(\"Error:\", e)"
   ]
  },
  {
   "cell_type": "code",
   "execution_count": 47,
   "id": "2e70c9ba-8c93-4f78-ab2e-f05f73baf3f9",
   "metadata": {},
   "outputs": [
    {
     "name": "stdin",
     "output_type": "stream",
     "text": [
      "Enter your age:  45\n"
     ]
    },
    {
     "name": "stdout",
     "output_type": "stream",
     "text": [
      "You are not eligible for a senior citizen discount.\n"
     ]
    }
   ],
   "source": [
    "# Create a Python program that determines the eligibility of a person for a senior citizen discount based on age using if-else.\n",
    "age = int(input(\"Enter your age: \"))\n",
    "\n",
    "# Check if the person is eligible for a senior citizen discount using if-else statements\n",
    "if age >= 60:\n",
    "    print(\"You are eligible for a senior citizen discount.\")\n",
    "else:\n",
    "    print(\"You are not eligible for a senior citizen discount.\")"
   ]
  },
  {
   "cell_type": "code",
   "execution_count": 48,
   "id": "8eb7edd5-ee3a-4394-a3cf-2e3650b5cc37",
   "metadata": {},
   "outputs": [
    {
     "name": "stdin",
     "output_type": "stream",
     "text": [
      "Enter a character:  hi\n"
     ]
    },
    {
     "name": "stdout",
     "output_type": "stream",
     "text": [
      "The character hi is lowercase.\n"
     ]
    }
   ],
   "source": [
    "#Write a Python program to categorize a given character as uppercase, lowercase, or neither using if-else.\n",
    "character = input(\"Enter a character: \")\n",
    "\n",
    "# Check if the character is uppercase, lowercase, or neither using if-else statements\n",
    "if character.isalpha():\n",
    "    if character.isupper():\n",
    "        print(\"The character\", character, \"is uppercase.\")\n",
    "    elif character.islower():\n",
    "        print(\"The character\", character, \"is lowercase.\")\n",
    "else:\n",
    "    print(\"The character\", character, \"is neither uppercase nor lowercase.\")"
   ]
  },
  {
   "cell_type": "code",
   "execution_count": 49,
   "id": "fc2e99e7-544b-4610-b3ba-c89e3bfe72d7",
   "metadata": {},
   "outputs": [
    {
     "name": "stdin",
     "output_type": "stream",
     "text": [
      "Enter the coefficient a:  5\n",
      "Enter the coefficient b:  4\n",
      "Enter the coefficient c:  1\n"
     ]
    },
    {
     "name": "stdout",
     "output_type": "stream",
     "text": [
      "The roots are complex. They are: -0.4 + 0.2 i and -0.4 - 0.2 i\n"
     ]
    }
   ],
   "source": [
    "#Write a Python program to determine the roots of a quadratic equation using if-else.\n",
    "# Input the coefficients of the quadratic equation (ax^2 + bx + c)\n",
    "a = float(input(\"Enter the coefficient a: \"))\n",
    "b = float(input(\"Enter the coefficient b: \"))\n",
    "c = float(input(\"Enter the coefficient c: \"))\n",
    "\n",
    "# Calculate the discriminant\n",
    "discriminant = b**2 - 4*a*c\n",
    "\n",
    "# Check the nature of the roots using if-else statements\n",
    "if discriminant > 0:\n",
    "    root1 = (-b + (discriminant)**0.5) / (2*a)\n",
    "    root2 = (-b - (discriminant)**0.5) / (2*a)\n",
    "    print(\"The roots are real and distinct. They are:\", root1, \"and\", root2)\n",
    "elif discriminant == 0:\n",
    "    root = -b / (2*a)\n",
    "    print(\"The roots are real and equal. They are:\", root)\n",
    "else:\n",
    "    real_part = -b / (2*a)\n",
    "    imaginary_part = (-discriminant)**0.5 / (2*a)\n",
    "    print(\"The roots are complex. They are:\", real_part, \"+\", imaginary_part, \"i and\", real_part, \"-\", imaginary_part, \"i\")\n"
   ]
  },
  {
   "cell_type": "code",
   "execution_count": 50,
   "id": "f22c5d23-95c6-4b2b-98fe-015eecbb4acb",
   "metadata": {},
   "outputs": [
    {
     "name": "stdin",
     "output_type": "stream",
     "text": [
      "Enter a year:  2525\n"
     ]
    },
    {
     "name": "stdout",
     "output_type": "stream",
     "text": [
      "2525 is not a century year.\n"
     ]
    }
   ],
   "source": [
    "#Create a Python program that checks if a given year is a century year or not using if-else.\n",
    "year = int(input(\"Enter a year: \"))\n",
    "\n",
    "# Check if the year is a century year or not using if-else statements\n",
    "if year % 100 == 0:\n",
    "    print(year, \"is a century year.\")\n",
    "else:\n",
    "    print(year, \"is not a century year.\")"
   ]
  },
  {
   "cell_type": "code",
   "execution_count": 51,
   "id": "00a37323-3937-4c7a-a351-8df46be96c31",
   "metadata": {},
   "outputs": [
    {
     "name": "stdin",
     "output_type": "stream",
     "text": [
      "Enter a number:  25\n"
     ]
    },
    {
     "name": "stdout",
     "output_type": "stream",
     "text": [
      "25 is a perfect square.\n"
     ]
    }
   ],
   "source": [
    "#Write a Python program to determine if a given number is a perfect square using if-else.\n",
    "number = int(input(\"Enter a number: \"))\n",
    "\n",
    "# Check if the number is a perfect square using if-else statements\n",
    "if number >= 0:\n",
    "    square_root = number ** 0.5\n",
    "    if int(square_root) == square_root:\n",
    "        print(number, \"is a perfect square.\")\n",
    "    else:\n",
    "        print(number, \"is not a perfect square.\")\n",
    "else:\n",
    "    print(\"Invalid input! Please enter a non-negative number.\")"
   ]
  },
  {
   "cell_type": "code",
   "execution_count": 52,
   "id": "690965b5-8370-4330-87d5-499adcaf62eb",
   "metadata": {},
   "outputs": [
    {
     "name": "stdout",
     "output_type": "stream",
     "text": [
      "1\n",
      "2\n",
      "4\n",
      "5\n"
     ]
    }
   ],
   "source": [
    "# Explain the purpose of the \"continue\" and \"break\" statements within if-else loops.\n",
    "for i in range(1, 6):\n",
    "    if i == 3:\n",
    "        continue\n",
    "    print(i)"
   ]
  },
  {
   "cell_type": "code",
   "execution_count": 53,
   "id": "cf4003df-2594-4356-940e-acb0f2bd4f91",
   "metadata": {},
   "outputs": [
    {
     "name": "stdin",
     "output_type": "stream",
     "text": [
      "Enter your weight in kilograms:  85\n",
      "Enter your height in meters:  180\n"
     ]
    },
    {
     "name": "stdout",
     "output_type": "stream",
     "text": [
      "Your BMI is: 0.002623456790123457\n",
      "Your BMI category is: Underweight\n"
     ]
    }
   ],
   "source": [
    "# Create a Python program that calculates the BMI (Body Mass Index) of a person based on their weight and height using if-else.\n",
    "weight = float(input(\"Enter your weight in kilograms: \"))\n",
    "height = float(input(\"Enter your height in meters: \"))\n",
    "\n",
    "# Calculate the BMI (Body Mass Index)\n",
    "bmi = weight / (height ** 2)\n",
    "\n",
    "# Determine the BMI category based on the calculated BMI using if-else statements\n",
    "if bmi < 18.5:\n",
    "    category = \"Underweight\"\n",
    "elif bmi < 25:\n",
    "    category = \"Normal weight\"\n",
    "elif bmi < 30:\n",
    "    category = \"Overweight\"\n",
    "else:\n",
    "    category = \"Obese\"\n",
    "\n",
    "# Print the calculated BMI and BMI category\n",
    "print(\"Your BMI is:\", bmi)\n",
    "print(\"Your BMI category is:\", category)"
   ]
  },
  {
   "cell_type": "code",
   "execution_count": 54,
   "id": "9219f00f-8f02-4d9e-9c74-92cc6cebc156",
   "metadata": {},
   "outputs": [
    {
     "name": "stdout",
     "output_type": "stream",
     "text": [
      "Even numbers: [2, 4, 6, 8, 10]\n"
     ]
    }
   ],
   "source": [
    "# How can you use the \"filter()\" function with if-else statements to filter elements from a list?\n",
    "numbers = [1, 2, 3, 4, 5, 6, 7, 8, 9, 10]\n",
    "\n",
    "# Filter even numbers from the list using the filter() function with a lambda function\n",
    "even_numbers = filter(lambda x: x % 2 == 0, numbers)\n",
    "\n",
    "# Print the filtered even numbers\n",
    "print(\"Even numbers:\", list(even_numbers))"
   ]
  },
  {
   "cell_type": "code",
   "execution_count": 55,
   "id": "a79c387e-a3d8-45d9-9924-7c7b15fb3bdb",
   "metadata": {},
   "outputs": [
    {
     "name": "stdin",
     "output_type": "stream",
     "text": [
      "Enter a number:  3199\n"
     ]
    },
    {
     "name": "stdout",
     "output_type": "stream",
     "text": [
      "3199 is not a prime number.\n"
     ]
    }
   ],
   "source": [
    "# Write a Python program to determine if a given number is prime or not using if-else.\n",
    "number = int(input(\"Enter a number: \"))\n",
    "\n",
    "# Check if the number is prime using if-else statements\n",
    "if number > 1:\n",
    "    # Iterate over the potential divisors from 2 to the square root of the number\n",
    "    for i in range(2, int(number**0.5) + 1):\n",
    "        if number % i == 0:\n",
    "            print(number, \"is not a prime number.\")\n",
    "            break\n",
    "    else:\n",
    "        print(number, \"is a prime number.\")\n",
    "else:\n",
    "    print(number, \"is not a prime number.\")"
   ]
  },
  {
   "cell_type": "code",
   "execution_count": 56,
   "id": "775d6a56-2b1b-45dc-bbc8-a84959945f63",
   "metadata": {},
   "outputs": [
    {
     "name": "stdout",
     "output_type": "stream",
     "text": [
      "[1, 4, 9, 16, 25]\n"
     ]
    }
   ],
   "source": [
    "# Explain the purpose of the `map()` function in Python and provide an example of how it can be used to apply a function to each element of an iterable.\n",
    "numbers = [1, 2, 3, 4, 5]\n",
    "\n",
    "# Define a function to square a number\n",
    "def square(x):\n",
    "    return x ** 2\n",
    "\n",
    "# Use the map() function to apply the square function to each element of the list\n",
    "squared_numbers = map(square, numbers)\n",
    "\n",
    "# Convert the result to a list and print it\n",
    "print(list(squared_numbers))"
   ]
  },
  {
   "cell_type": "code",
   "execution_count": 57,
   "id": "7a8a9601-5849-46f6-9f46-fa6356ec024d",
   "metadata": {},
   "outputs": [
    {
     "name": "stdout",
     "output_type": "stream",
     "text": [
      "[1, 4, 9, 16, 25]\n"
     ]
    }
   ],
   "source": [
    "# Write a Python program that uses the `map()` function to square each element of a list of numbers.\n",
    "numbers = [1, 2, 3, 4, 5]\n",
    "\n",
    "# Use the map() function to square each element of the list\n",
    "squared_numbers = map(lambda x: x ** 2, numbers)\n",
    "\n",
    "# Convert the result to a list and print it\n",
    "print(list(squared_numbers))"
   ]
  },
  {
   "cell_type": "code",
   "execution_count": null,
   "id": "64cf16df-d710-4ce8-8ba9-eef2132d1bf6",
   "metadata": {},
   "outputs": [],
   "source": [
    "# How does the `map()` function differ from a list comprehension in Python, and when would you choose one over the other?\n",
    "''' Syntax:\n",
    "\n",
    "The map() function takes two arguments: a function and an iterable. It applies the function to each element of the iterable.\n",
    "List comprehensions are enclosed in square brackets and consist of an expression followed by a for clause, optionally followed by additional for or if clauses.\n",
    "Readability:\n",
    "\n",
    "map() functions tend to be less readable, especially when using lambda functions. The lambda function syntax can make the code less clear, especially for complex transformations.\n",
    "List comprehensions are often more readable and expressive, especially for simple transformations, as they resemble the natural flow of reading from left to right.\n",
    "Efficiency:\n",
    "\n",
    "In terms of efficiency, map() and list comprehensions are generally comparable. However, in certain cases, list comprehensions may be slightly faster due to implementation details.\n",
    "List comprehensions have the advantage of avoiding function call overhead, especially when using lambda functions with map(). This can make list comprehensions slightly faster in some cases.\n",
    "Versatility:\n",
    "\n",
    "List comprehensions offer more versatility and flexibility than map() functions. They support more complex transformations and can include additional for and if clauses to filter or modify elements based on conditions.\n",
    "map() functions are limited to applying a single function to each element of an iterable. They are less flexible when it comes to more complex transformations or filtering.\n",
    "When to choose one over the other:\n",
    "\n",
    "Use map():\n",
    "Use map() when applying a simple transformation to each element of an iterable and the transformation can be expressed concisely with a single function call.\n",
    "Use map() when the transformation function is already defined and reusable, especially if it's a built-in function or a named function.\n",
    "Use list comprehension:\n",
    "Use list comprehensions when you need more flexibility, such as filtering elements based on conditions or performing more complex transformations.\n",
    "Use list comprehensions when the transformation logic is simple and readable, especially for small-scale transformations.\n",
    "Use list comprehensions when readability and clarity are important, especially for expressing complex transformations in a concise and readable manner.'''"
   ]
  },
  {
   "cell_type": "code",
   "execution_count": 58,
   "id": "cc129d1a-9869-4b81-9ce4-66fae522465b",
   "metadata": {},
   "outputs": [
    {
     "name": "stdout",
     "output_type": "stream",
     "text": [
      "['ALICE', 'BOB', 'CHARLIE', 'DAVID', 'EVE']\n"
     ]
    }
   ],
   "source": [
    "# Create a Python program that uses the `map()` function to convert a list of names to uppercase.\n",
    "names = ['Alice', 'Bob', 'Charlie', 'David', 'Eve']\n",
    "\n",
    "# Use the map() function to convert each name to uppercase\n",
    "uppercase_names = map(str.upper, names)\n",
    "\n",
    "# Convert the result to a list and print it\n",
    "print(list(uppercase_names))"
   ]
  },
  {
   "cell_type": "code",
   "execution_count": 60,
   "id": "2fecd9f3-9c86-4c24-bd6a-90bce0522325",
   "metadata": {},
   "outputs": [
    {
     "name": "stdout",
     "output_type": "stream",
     "text": [
      "[5, 6, 6, 4, 10]\n"
     ]
    }
   ],
   "source": [
    "# Write a Python program that uses the `map()` function to calculate the length of each word in a list of strings.\n",
    "strings = ['apple', 'banana', 'orange', 'kiwi', 'strawberry']\n",
    "\n",
    "# Use the map() function to calculate the length of each word\n",
    "word_lengths = list(map(len, strings))\n",
    "\n",
    "# Print the list of word lengths\n",
    "print(word_lengths)"
   ]
  },
  {
   "cell_type": "code",
   "execution_count": 61,
   "id": "eb7f9ea1-f7f6-41b1-aa53-d9f5aef7026e",
   "metadata": {},
   "outputs": [
    {
     "name": "stdout",
     "output_type": "stream",
     "text": [
      "[7, 9, 11, 13, 15]\n"
     ]
    }
   ],
   "source": [
    "# How can you use the `map()` function to apply a custom function to elements of multiple lists simultaneously in Python?\n",
    "def add(x, y):\n",
    "    return x + y\n",
    "\n",
    "# Define two lists of numbers\n",
    "list1 = [1, 2, 3, 4, 5]\n",
    "list2 = [6, 7, 8, 9, 10]\n",
    "\n",
    "# Use the map() function to apply the add function to corresponding elements of the two lists\n",
    "result = list(map(add, list1, list2))\n",
    "\n",
    "# Print the result\n",
    "print(result)"
   ]
  },
  {
   "cell_type": "code",
   "execution_count": 63,
   "id": "b3a99402-63ed-4cd4-ba44-abe5bf7b0652",
   "metadata": {},
   "outputs": [
    {
     "name": "stdout",
     "output_type": "stream",
     "text": [
      "[32.0, 50.0, 68.0, 86.0, 104.0]\n"
     ]
    }
   ],
   "source": [
    "#Create a Python program that uses `map()` to convert a list of temperatures from Celsius to Fahrenheit.\n",
    "def celsius_to_fahrenheit(celsius):\n",
    "    return (celsius * 9/5) + 32\n",
    "\n",
    "# Define a list of temperatures in Celsius\n",
    "temperatures_celsius = [0, 10, 20, 30, 40]\n",
    "\n",
    "# Use the map() function to convert each temperature from Celsius to Fahrenheit\n",
    "temperatures_fahrenheit = list(map(celsius_to_fahrenheit, temperatures_celsius))\n",
    "\n",
    "# Print the list of temperatures in Fahrenheit\n",
    "print(temperatures_fahrenheit)"
   ]
  },
  {
   "cell_type": "code",
   "execution_count": 64,
   "id": "7e7ca630-2771-40cb-9546-b5b2871f52c4",
   "metadata": {},
   "outputs": [
    {
     "name": "stdout",
     "output_type": "stream",
     "text": [
      "[3, 3, 2, 5, 1]\n"
     ]
    }
   ],
   "source": [
    "#Write a Python program that uses the `map()` function to round each element of a list of floating-point numbers to the nearest integer.\n",
    "float_numbers = [3.14, 2.718, 1.618, 4.669, 0.577]\n",
    "\n",
    "# Use the map() function to round each element to the nearest integer\n",
    "rounded_integers = list(map(round, float_numbers))\n",
    "\n",
    "# Print the list of rounded integers\n",
    "print(rounded_integers)"
   ]
  },
  {
   "cell_type": "code",
   "execution_count": 65,
   "id": "43c6ce50-e479-4d70-a3a0-1262d510d184",
   "metadata": {},
   "outputs": [
    {
     "name": "stdout",
     "output_type": "stream",
     "text": [
      "15\n"
     ]
    }
   ],
   "source": [
    "#What is the `reduce()` function in Python, and what module should you import to use it? Provide an example of its basic usage.\n",
    "''' The reduce() function in Python is used to apply a specified binary function (a function that takes two arguments and returns a single value) cumulatively to the items of an iterable, from left to right, to reduce the iterable to a single value. It is similar to the accumulate() function, but reduce() returns only the final accumulated value.\n",
    "from functools import reduce '''\n",
    "from functools import reduce\n",
    "\n",
    "# Define a list of numbers\n",
    "numbers = [1, 2, 3, 4, 5]\n",
    "\n",
    "# Use the reduce() function to calculate the sum of all numbers in the list\n",
    "total = reduce(lambda x, y: x + y, numbers)\n",
    "\n",
    "# Print the total sum\n",
    "print(total)\n"
   ]
  },
  {
   "cell_type": "code",
   "execution_count": 66,
   "id": "cf3a7245-9e1f-4c3c-a78c-ecf49adc07c3",
   "metadata": {},
   "outputs": [
    {
     "name": "stdout",
     "output_type": "stream",
     "text": [
      "120\n"
     ]
    }
   ],
   "source": [
    "# Write a Python program that uses the `reduce()` function to find the product of all elements in a list.\n",
    "from functools import reduce\n",
    "\n",
    "# Define a list of numbers\n",
    "numbers = [1, 2, 3, 4, 5]\n",
    "\n",
    "# Use the reduce() function to calculate the product of all numbers in the list\n",
    "product = reduce(lambda x, y: x * y, numbers)\n",
    "\n",
    "# Print the product\n",
    "print(product)"
   ]
  },
  {
   "cell_type": "code",
   "execution_count": 67,
   "id": "5ca04b4f-8480-48a5-929a-23eca0b43f31",
   "metadata": {},
   "outputs": [
    {
     "name": "stdout",
     "output_type": "stream",
     "text": [
      "The maximum element in the list is: 91\n"
     ]
    }
   ],
   "source": [
    "# Create a Python program that uses `reduce()` to find the maximum element in a list of numbers.\n",
    "from functools import reduce\n",
    "\n",
    "# Define a list of numbers\n",
    "numbers = [12, 45, 23, 67, 8, 91, 56]\n",
    "\n",
    "# Use the reduce() function to find the maximum element in the list\n",
    "max_number = reduce(lambda x, y: x if x > y else y, numbers)\n",
    "\n",
    "# Print the maximum element\n",
    "print(\"The maximum element in the list is:\", max_number)"
   ]
  },
  {
   "cell_type": "code",
   "execution_count": 68,
   "id": "035b2042-e73a-495e-963b-735274f007ba",
   "metadata": {},
   "outputs": [
    {
     "name": "stdout",
     "output_type": "stream",
     "text": [
      "Hello, world!\n"
     ]
    }
   ],
   "source": [
    "# How can you use the `reduce()` function to concatenate a list of strings into a single string?\n",
    "from functools import reduce\n",
    "import operator\n",
    "\n",
    "# Define a list of strings\n",
    "strings = ['Hello', ', ', 'world', '!']\n",
    "\n",
    "# Use the reduce() function to concatenate the strings into a single string\n",
    "concatenated_string = reduce(operator.add, strings)\n",
    "\n",
    "# Print the concatenated string\n",
    "print(concatenated_string)"
   ]
  },
  {
   "cell_type": "code",
   "execution_count": 70,
   "id": "63a30409-bf72-4ebf-80ea-e03dc1506eb4",
   "metadata": {},
   "outputs": [
    {
     "name": "stdin",
     "output_type": "stream",
     "text": [
      "Enter a number:  5\n"
     ]
    },
    {
     "name": "stdout",
     "output_type": "stream",
     "text": [
      "The factorial of 5 is: 120\n"
     ]
    }
   ],
   "source": [
    "# Write a Python program that calculates the factorial of a number using the `reduce()` function.\n",
    "from functools import reduce\n",
    "\n",
    "# Define a function to calculate the factorial of a number\n",
    "def factorial(n):\n",
    "    return reduce(lambda x, y: x * y, range(1, n + 1)) if n > 0 else 1\n",
    "\n",
    "# Input the number\n",
    "number = int(input(\"Enter a number: \"))\n",
    "\n",
    "# Calculate the factorial using the reduce() function\n",
    "result = factorial(number)\n",
    "\n",
    "# Print the factorial\n",
    "print(\"The factorial of\", number, \"is:\", result)"
   ]
  },
  {
   "cell_type": "code",
   "execution_count": 71,
   "id": "8f661124-fe93-4f12-b16f-c595b488f016",
   "metadata": {},
   "outputs": [
    {
     "name": "stdout",
     "output_type": "stream",
     "text": [
      "The GCD of the list of numbers is: 12\n"
     ]
    }
   ],
   "source": [
    "# Create a Python program that uses `reduce()` to find the GCD (Greatest Common Divisor) of a list of numbers.\n",
    "from functools import reduce\n",
    "\n",
    "# Define a function to calculate the GCD of two numbers using the Euclidean algorithm\n",
    "def gcd(a, b):\n",
    "    while b:\n",
    "        a, b = b, a % b\n",
    "    return a\n",
    "\n",
    "# Define a list of numbers\n",
    "numbers = [24, 36, 48, 60]\n",
    "\n",
    "# Use the reduce() function to find the GCD of the list of numbers\n",
    "gcd_result = reduce(gcd, numbers)\n",
    "\n",
    "# Print the GCD\n",
    "print(\"The GCD of the list of numbers is:\", gcd_result)"
   ]
  },
  {
   "cell_type": "code",
   "execution_count": 72,
   "id": "e1a66ed0-abe3-42ee-a96f-3c065986c405",
   "metadata": {},
   "outputs": [
    {
     "name": "stdin",
     "output_type": "stream",
     "text": [
      "Enter a number:  256\n"
     ]
    },
    {
     "name": "stdout",
     "output_type": "stream",
     "text": [
      "The sum of the digits of 256 is: 13\n"
     ]
    }
   ],
   "source": [
    "# Write a Python program that uses the `reduce()` function to find the sum of the digits of a given number.\n",
    "from functools import reduce\n",
    "\n",
    "# Define a function to convert a number to a list of its digits\n",
    "def digits(n):\n",
    "    return [int(digit) for digit in str(n)]\n",
    "\n",
    "# Define a function to calculate the sum of digits using the reduce() function\n",
    "def sum_of_digits(n):\n",
    "    return reduce(lambda x, y: x + y, digits(n))\n",
    "\n",
    "# Input the number\n",
    "number = int(input(\"Enter a number: \"))\n",
    "\n",
    "# Calculate the sum of digits using the reduce() function\n",
    "result = sum_of_digits(number)\n",
    "\n",
    "# Print the sum of digits\n",
    "print(\"The sum of the digits of\", number, \"is:\", result)"
   ]
  },
  {
   "cell_type": "code",
   "execution_count": 73,
   "id": "c9387e7f-1440-41a1-b1aa-6b7492c077d3",
   "metadata": {},
   "outputs": [
    {
     "name": "stdout",
     "output_type": "stream",
     "text": [
      "[2, 4, 6, 8, 10]\n"
     ]
    }
   ],
   "source": [
    "# Explain the purpose of the `filter()` function in Python and provide an example of how it can be used to filter elements from an iterable.\n",
    "'''The filter() function in Python is used to filter elements from an iterable (such as a list, tuple, or string) based on a specified condition or predicate function. It returns an iterator that yields only the elements from the iterable for which the condition evaluates to True.\n",
    "'''\n",
    "numbers = [1, 2, 3, 4, 5, 6, 7, 8, 9, 10]\n",
    "\n",
    "# Use the filter() function to filter even numbers\n",
    "even_numbers = filter(lambda x: x % 2 == 0, numbers)\n",
    "\n",
    "# Convert the result to a list and print it\n",
    "print(list(even_numbers))"
   ]
  },
  {
   "cell_type": "code",
   "execution_count": 74,
   "id": "49c15f48-0f8d-4aef-b219-0251acb8c95e",
   "metadata": {},
   "outputs": [
    {
     "name": "stdout",
     "output_type": "stream",
     "text": [
      "[2, 4, 6, 8, 10]\n"
     ]
    }
   ],
   "source": [
    "# Write a Python program that uses the `filter()` function to select even numbers from a list of integers.\n",
    "numbers = [1, 2, 3, 4, 5, 6, 7, 8, 9, 10]\n",
    "\n",
    "# Use the filter() function to select even numbers\n",
    "even_numbers = filter(lambda x: x % 2 == 0, numbers)\n",
    "\n",
    "# Convert the result to a list and print it\n",
    "print(list(even_numbers))"
   ]
  },
  {
   "cell_type": "code",
   "execution_count": 75,
   "id": "e7a5342a-f261-4c3e-a642-a6ca77375549",
   "metadata": {},
   "outputs": [
    {
     "name": "stdout",
     "output_type": "stream",
     "text": [
      "['Eve', 'Emily']\n"
     ]
    }
   ],
   "source": [
    "# Create a Python program that uses the `filter()` function to select names that start with a specific letter from a list of strings.\n",
    "names = ['Alice', 'Bob', 'Charlie', 'David', 'Eve', 'Emily', 'Frank']\n",
    "\n",
    "# Specify the letter to filter by\n",
    "letter = 'E'\n",
    "\n",
    "# Use the filter() function to select names that start with the specified letter\n",
    "filtered_names = filter(lambda name: name.startswith(letter), names)\n",
    "\n",
    "# Convert the result to a list and print it\n",
    "print(list(filtered_names))"
   ]
  },
  {
   "cell_type": "code",
   "execution_count": 76,
   "id": "6827bdb4-65c5-4d95-8b39-7c44fcab6982",
   "metadata": {},
   "outputs": [
    {
     "name": "stdout",
     "output_type": "stream",
     "text": [
      "[2, 3, 5, 7, 11, 13]\n"
     ]
    }
   ],
   "source": [
    "# Write a Python program that uses the `filter()` function to select prime numbers from a list of integers.\n",
    "def is_prime(n):\n",
    "    if n <= 1:\n",
    "        return False\n",
    "    for i in range(2, int(n**0.5) + 1):\n",
    "        if n % i == 0:\n",
    "            return False\n",
    "    return True\n",
    "\n",
    "# Define a list of numbers\n",
    "numbers = [2, 3, 4, 5, 6, 7, 8, 9, 10, 11, 12, 13, 14, 15]\n",
    "\n",
    "# Use the filter() function to select prime numbers\n",
    "prime_numbers = filter(is_prime, numbers)\n",
    "\n",
    "# Convert the result to a list and print it\n",
    "print(list(prime_numbers))"
   ]
  },
  {
   "cell_type": "code",
   "execution_count": 77,
   "id": "b3974e0d-d288-45eb-8b09-f4514e3eb09b",
   "metadata": {},
   "outputs": [
    {
     "name": "stdout",
     "output_type": "stream",
     "text": [
      "[1, 2, 3, 4, 5]\n"
     ]
    }
   ],
   "source": [
    "# How can you use the `filter()` function to remove None values from a list in Python?\n",
    "values = [1, None, 2, None, 3, None, 4, None, 5]\n",
    "\n",
    "# Use the filter() function to remove None values\n",
    "filtered_values = filter(lambda x: x is not None, values)\n",
    "\n",
    "# Convert the result to a list and print it\n",
    "print(list(filtered_values))"
   ]
  },
  {
   "cell_type": "code",
   "execution_count": 78,
   "id": "d31eae7e-96c5-49ee-9a7e-213c619134ea",
   "metadata": {},
   "outputs": [
    {
     "name": "stdout",
     "output_type": "stream",
     "text": [
      "['pineapple', 'strawberry']\n"
     ]
    }
   ],
   "source": [
    "# Create a Python program that uses `filter()` to select words longer than a certain length from a list of strings.\n",
    "words = ['apple', 'banana', 'orange', 'grape', 'kiwi', 'pineapple', 'strawberry']\n",
    "\n",
    "# Specify the minimum length of words to filter by\n",
    "min_length = 6\n",
    "\n",
    "# Use the filter() function to select words longer than the specified length\n",
    "filtered_words = filter(lambda word: len(word) > min_length, words)\n",
    "\n",
    "# Convert the result to a list and print it\n",
    "print(list(filtered_words))"
   ]
  },
  {
   "cell_type": "code",
   "execution_count": 79,
   "id": "5bb9f83d-de71-41d2-8dd3-b6e9ee9df087",
   "metadata": {},
   "outputs": [
    {
     "name": "stdout",
     "output_type": "stream",
     "text": [
      "[60, 70, 80, 90, 100]\n"
     ]
    }
   ],
   "source": [
    "# Write a Python program that uses the `filter()` function to select elements greater than a specified threshold from a list of values.\n",
    "values = [10, 20, 30, 40, 50, 60, 70, 80, 90, 100]\n",
    "\n",
    "# Specify the threshold to filter by\n",
    "threshold = 50\n",
    "\n",
    "# Use the filter() function to select elements greater than the specified threshold\n",
    "filtered_values = filter(lambda x: x > threshold, values)\n",
    "\n",
    "# Convert the result to a list and print it\n",
    "print(list(filtered_values))"
   ]
  },
  {
   "cell_type": "code",
   "execution_count": 82,
   "id": "dce505ff-c444-4057-8576-0b8a0b5f47c5",
   "metadata": {},
   "outputs": [
    {
     "name": "stdin",
     "output_type": "stream",
     "text": [
      "Enter a number:  12\n"
     ]
    },
    {
     "name": "stdout",
     "output_type": "stream",
     "text": [
      "The factorial of 12 is: 479001600\n"
     ]
    }
   ],
   "source": [
    "# Write a Python program to calculate the factorial of a number using recursion.\n",
    "def factorial(n):\n",
    "    if n == 0:\n",
    "        return 1\n",
    "    else:\n",
    "        return n * factorial(n - 1)\n",
    "\n",
    "# Input the number\n",
    "number = int(input(\"Enter a number: \"))\n",
    "\n",
    "# Calculate the factorial using the factorial() function\n",
    "result = factorial(number)\n",
    "\n",
    "# Print the factorial\n",
    "print(\"The factorial of\", number, \"is:\", result)"
   ]
  },
  {
   "cell_type": "code",
   "execution_count": 84,
   "id": "d264d014-c0b8-4559-8c4a-67d400749712",
   "metadata": {},
   "outputs": [
    {
     "name": "stdin",
     "output_type": "stream",
     "text": [
      "Enter the value of n:  12\n"
     ]
    },
    {
     "name": "stdout",
     "output_type": "stream",
     "text": [
      "The 12 th Fibonacci number is: 144\n"
     ]
    }
   ],
   "source": [
    "# Create a recursive Python function to find the nth Fibonacci number.\n",
    "def fibonacci(n):\n",
    "    if n <= 1:\n",
    "        return n\n",
    "    else:\n",
    "        return fibonacci(n - 1) + fibonacci(n - 2)\n",
    "\n",
    "# Input the value of n\n",
    "n = int(input(\"Enter the value of n: \"))\n",
    "\n",
    "# Check if n is non-negative\n",
    "if n < 0:\n",
    "    print(\"Please enter a non-negative integer.\")\n",
    "else:\n",
    "    # Calculate the nth Fibonacci number using the fibonacci() function\n",
    "    result = fibonacci(n)\n",
    "    print(\"The\", n, \"th Fibonacci number is:\", result)"
   ]
  },
  {
   "cell_type": "code",
   "execution_count": 85,
   "id": "31dd587b-0558-4b29-b0fd-902ed121762b",
   "metadata": {},
   "outputs": [
    {
     "name": "stdout",
     "output_type": "stream",
     "text": [
      "Sum of elements in the list: 15\n"
     ]
    }
   ],
   "source": [
    "# Write a recursive Python function to calculate the sum of all elements in a list.\n",
    "def list_sum_recursive(lst):\n",
    "    if not lst:\n",
    "        return 0\n",
    "    else:\n",
    "        return lst[0] + list_sum_recursive(lst[1:])\n",
    "\n",
    "# Example usage:\n",
    "my_list = [1, 2, 3, 4, 5]\n",
    "print(\"Sum of elements in the list:\", list_sum_recursive(my_list))"
   ]
  },
  {
   "cell_type": "code",
   "execution_count": null,
   "id": "0426dc78-b5b7-4457-a0b6-24392a6513f9",
   "metadata": {},
   "outputs": [],
   "source": [
    "# How can you prevent a recursive function from running indefinitely, causing a stack overflow error?\n",
    "''' Base Case: Ensure that your recursive function has a base case that serves as the termination condition. This base case should be defined such that the recursion stops when the condition is met.\n",
    "\n",
    "Correct Recursive Step: Make sure that each recursive call moves towards the base case. In other words, ensure that the parameters passed to the recursive call are getting closer to the base case, so that the recursion converges.'''"
   ]
  },
  {
   "cell_type": "code",
   "execution_count": 1,
   "id": "797ecc20-d02c-4214-a29c-a71d426b5cf7",
   "metadata": {},
   "outputs": [
    {
     "name": "stdout",
     "output_type": "stream",
     "text": [
      "GCD of 48 and 18 is: 6\n"
     ]
    }
   ],
   "source": [
    "# Create a recursive Python function to find the greatest common divisor (GCD) of two numbers using the Euclidean algorithm.\n",
    "def gcd(a, b):\n",
    "    if b == 0:\n",
    "        return a\n",
    "    else:\n",
    "        return gcd(b, a % b)\n",
    "\n",
    "# Example usage:\n",
    "num1 = 48\n",
    "num2 = 18\n",
    "print(\"GCD of\", num1, \"and\", num2, \"is:\", gcd(num1, num2))"
   ]
  },
  {
   "cell_type": "code",
   "execution_count": 2,
   "id": "9f58bc69-8a88-4074-b9aa-7f466cf4509f",
   "metadata": {},
   "outputs": [
    {
     "name": "stdout",
     "output_type": "stream",
     "text": [
      "Original string: hello\n",
      "Reversed string: olleh\n"
     ]
    }
   ],
   "source": [
    "# Write a recursive Python function to reverse a string.\n",
    "def reverse_string(s):\n",
    "    # Base case: if the string is empty or has only one character,\n",
    "    # it is already reversed\n",
    "    if len(s) <= 1:\n",
    "        return s\n",
    "    else:\n",
    "        # Recursive step: reverse the substring excluding the first character,\n",
    "        # then append the first character to the end\n",
    "        return reverse_string(s[1:]) + s[0]\n",
    "\n",
    "# Example usage:\n",
    "input_string = \"hello\"\n",
    "print(\"Original string:\", input_string)\n",
    "print(\"Reversed string:\", reverse_string(input_string))"
   ]
  },
  {
   "cell_type": "code",
   "execution_count": 3,
   "id": "43164390-3b5d-4aed-915a-8fa255229e1c",
   "metadata": {},
   "outputs": [
    {
     "name": "stdout",
     "output_type": "stream",
     "text": [
      "2 raised to the power of 5 is: 32\n"
     ]
    }
   ],
   "source": [
    "# Create a recursive Python function to calculate the power of a number (x^n).\n",
    "def power(x, n):\n",
    "    # Base case: if n is 0, return 1\n",
    "    if n == 0:\n",
    "        return 1\n",
    "    # Recursive case: if n is positive, compute x^n as x * x^(n-1)\n",
    "    elif n > 0:\n",
    "        return x * power(x, n - 1)\n",
    "    # Recursive case: if n is negative, compute x^n as (1/x)^(-n)\n",
    "    else:\n",
    "        return 1 / power(x, -n)\n",
    "\n",
    "# Example usage:\n",
    "base = 2\n",
    "exponent = 5\n",
    "print(f\"{base} raised to the power of {exponent} is:\", power(base, exponent))\n"
   ]
  },
  {
   "cell_type": "code",
   "execution_count": 4,
   "id": "6b5f54ed-ec68-4176-a1bc-7d31c340007e",
   "metadata": {},
   "outputs": [
    {
     "name": "stdout",
     "output_type": "stream",
     "text": [
      "Permutations of abc are: ['abc', 'acb', 'bac', 'bca', 'cab', 'cba']\n"
     ]
    }
   ],
   "source": [
    "# Write a recursive Python function to find all permutations of a given string.\n",
    "def permutations(s):\n",
    "    if len(s) == 1:\n",
    "        return [s]\n",
    "\n",
    "    perms = []\n",
    "    for i in range(len(s)):\n",
    "        first_char = s[i]\n",
    "        remaining_chars = s[:i] + s[i+1:]\n",
    "        subperms = permutations(remaining_chars)\n",
    "        for subperm in subperms:\n",
    "            perms.append(first_char + subperm)\n",
    "\n",
    "    return perms\n",
    "\n",
    "# Example usage:\n",
    "input_string = \"abc\"\n",
    "print(\"Permutations of\", input_string, \"are:\", permutations(input_string))\n"
   ]
  },
  {
   "cell_type": "code",
   "execution_count": 6,
   "id": "cbfb6017-fa6f-4645-9d6b-295be26c7287",
   "metadata": {},
   "outputs": [
    {
     "name": "stdout",
     "output_type": "stream",
     "text": [
      "Is 'Heelo' a palindrome? False\n"
     ]
    }
   ],
   "source": [
    "# Write a recursive Python function to check if a string is a palindrome.\n",
    "def is_palindrome(s):\n",
    "    # Base case: if the length of the string is 0 or 1, it's a palindrome\n",
    "    if len(s) <= 1:\n",
    "        return True\n",
    "    # Check if the first and last characters are equal\n",
    "    if s[0] != s[-1]:\n",
    "        return False\n",
    "    # Recursively check the substring excluding the first and last characters\n",
    "    return is_palindrome(s[1:-1])\n",
    "\n",
    "# Example usage:\n",
    "input_string = \"Heelo\"\n",
    "print(f\"Is '{input_string}' a palindrome?\", is_palindrome(input_string))\n"
   ]
  },
  {
   "cell_type": "code",
   "execution_count": 7,
   "id": "8da19af9-c4a8-4266-b6e2-024af309f487",
   "metadata": {},
   "outputs": [
    {
     "name": "stdout",
     "output_type": "stream",
     "text": [
      "All combinations of ['a', 'b', 'c'] are:\n",
      "[['c', 'b', 'a'], ['b', 'a'], ['c', 'a'], ['a'], ['c', 'b'], ['b'], ['c'], []]\n"
     ]
    }
   ],
   "source": [
    "# Create a recursive Python function to generate all possible combinations of a list of elements.\n",
    "def combinations(lst):\n",
    "    if len(lst) == 0:\n",
    "        return [[]]  # Base case: return a list containing an empty combination\n",
    "\n",
    "    first = lst[0]  # Pick the first element\n",
    "    rest = lst[1:]  # Get the rest of the list\n",
    "    \n",
    "    # Recursively generate combinations without the first element\n",
    "    without_first = combinations(rest)\n",
    "    \n",
    "    # Generate combinations including the first element\n",
    "    with_first = []\n",
    "    for combo in without_first:\n",
    "        with_first.append(combo + [first])\n",
    "    \n",
    "    # Combine combinations with and without the first element\n",
    "    return with_first + without_first\n",
    "\n",
    "# Example usage:\n",
    "elements = ['a', 'b', 'c']\n",
    "print(\"All combinations of\", elements, \"are:\")\n",
    "print(combinations(elements))\n"
   ]
  },
  {
   "cell_type": "code",
   "execution_count": null,
   "id": "4fa03abb-3f6d-41dd-a1ad-2fddcbbebb93",
   "metadata": {},
   "outputs": [],
   "source": [
    "# What is a function in Python, and why is it used?\n",
    "''' Functions are defined using the def keyword followed by the function name and parentheses containing optional parameters. The body of the function is indented below the definition.\n",
    "functions in Python are a fundamental building block of modular programming, allowing code to be organized into reusable units and promoting readability, maintainability, and abstraction.\n",
    "Reusability: Functions promote code reusability by allowing the same block of code to be executed multiple times with different inputs.\n",
    "Abstraction: Functions hide the implementation details of a specific task, allowing the user to interact with the functionality without needing to know how it is implemented.\n",
    "\n",
    "Modularity: Functions help break down complex tasks into smaller, manageable pieces, making the code easier to understand, debug, and maintain.\n",
    "\n",
    "Scope: Functions define their own scope, which means variables defined within a function are local to that function and cannot be accessed outside of it. This helps prevent naming conflicts and promotes encapsulation.'''"
   ]
  },
  {
   "cell_type": "code",
   "execution_count": null,
   "id": "72aef688-d289-4775-8a91-57f6dec5cef1",
   "metadata": {},
   "outputs": [],
   "source": [
    "# How do you define a function in Python? Provide an example.\n",
    "''' Python, you can define a function using the def keyword followed by the function name and parentheses containing optional parameters\n",
    "In this example:\n",
    "\n",
    "The def keyword is used to define the function named greet.\n",
    "Inside the parentheses, name is the parameter of the function. This parameter serves as a placeholder for the value that will be passed to the function when it is called.\n",
    "The function body, indented below the def statement, contains the code to be executed when the function is called. In this case, it simply prints a greeting message using the provided name.\n",
    "The function is called with the argument \"Alice\", causing the greeting message \"Hello, Alice\" to be printed to the console.'''"
   ]
  },
  {
   "cell_type": "code",
   "execution_count": null,
   "id": "a6fea2fd-c851-42a1-9d67-31fe383dceef",
   "metadata": {},
   "outputs": [],
   "source": [
    "#Explain the difference between a function definition and a function call.\n",
    "''' Function Definition: Defines a new function by specifying its name, parameters, and code to execute. It establishes the blueprint or template for the function.\n",
    "Function Call: Invokes an already defined function by using its name followed by parentheses containing the arguments. It causes the execution of the code inside the function.'''\n"
   ]
  },
  {
   "cell_type": "code",
   "execution_count": 8,
   "id": "3a17eab7-d09b-493b-b969-26461758ab9d",
   "metadata": {},
   "outputs": [
    {
     "name": "stdout",
     "output_type": "stream",
     "text": [
      "The sum of 3 and 5 is: 8\n"
     ]
    }
   ],
   "source": [
    "# Write a Python program that defines a function to calculate the sum of two numbers and then calls the function.\n",
    "def calculate_sum(a, b):\n",
    "    return a + b\n",
    "\n",
    "# Call the function and store the result in a variable\n",
    "result = calculate_sum(3, 5)\n",
    "\n",
    "# Print the result\n",
    "print(\"The sum of 3 and 5 is:\", result)"
   ]
  },
  {
   "cell_type": "code",
   "execution_count": null,
   "id": "9d83e2c9-fb0c-4dc4-80c6-9b93c78daab7",
   "metadata": {},
   "outputs": [],
   "source": [
    "#What is a function signature, and what information does it typically include?\n",
    "\n",
    "'''A function signature consists of the function prototype. It specifies the general information about a function like the name, scope and parameters. Many programming languages use name mangling in order to pass along more semantic information from the compilers to the linkers.'''"
   ]
  },
  {
   "cell_type": "code",
   "execution_count": 9,
   "id": "052e4e58-e55a-42e8-bf86-053ce9033f23",
   "metadata": {},
   "outputs": [
    {
     "name": "stdout",
     "output_type": "stream",
     "text": [
      "The product of 3 and 5 is: 15\n"
     ]
    }
   ],
   "source": [
    "# Create a Python function that takes two arguments and returns their product.\n",
    "def calculate_product(a, b):\n",
    "    return a * b\n",
    "\n",
    "# Example usage:\n",
    "result = calculate_product(3, 5)\n",
    "print(\"The product of 3 and 5 is:\", result)"
   ]
  },
  {
   "cell_type": "code",
   "execution_count": null,
   "id": "21d98d50-d3e1-4d10-8bec-5bffb4d1c391",
   "metadata": {},
   "outputs": [],
   "source": [
    "#Explain the concepts of formal parameters and actual arguments in Python functions.\n",
    "''' Using Functions is a valuable programming idea. Functions aid in reducing code length and complexity. It also makes testing and debugging easier and enhances code maintainability. Some functions may not need inputs, whilst others may. Data can be sent to the functions as inputs. They are referred to as parameters. Actual Parameters and Formal Parameters are two often used concepts in relation to functions. Actual Parameters vary from Formal Parameters in that Actual Parameters are values supplied to the function when it is invoked, whereas Formal Parameters are variables declared by the function that get values when the function is called.'''\n"
   ]
  },
  {
   "cell_type": "code",
   "execution_count": 10,
   "id": "e1679b70-0b13-4480-88c0-5b25876ea071",
   "metadata": {},
   "outputs": [
    {
     "name": "stdout",
     "output_type": "stream",
     "text": [
      "Hello, World\n",
      "Hello, Alice\n"
     ]
    }
   ],
   "source": [
    "# Write a Python program that defines a function with default argument values.\n",
    "def greet(name=\"World\"):\n",
    "    print(\"Hello,\", name)\n",
    "\n",
    "# Calling the function without providing any argument\n",
    "greet()\n",
    "\n",
    "# Calling the function with an argument\n",
    "greet(\"Alice\")\n"
   ]
  },
  {
   "cell_type": "code",
   "execution_count": 11,
   "id": "284267d7-f18f-4be4-9513-4d2ad7eb008e",
   "metadata": {},
   "outputs": [
    {
     "name": "stdout",
     "output_type": "stream",
     "text": [
      "Hello, Alice!\n",
      "Hi, Bob!\n"
     ]
    }
   ],
   "source": [
    "# How do you use keyword arguments in Python function calls? Provide an example.\n",
    "'''In Python, you can use keyword arguments in function calls by explicitly specifying the name of the parameter followed by the value you want to pass to that parameter. This allows you to provide arguments to a function in any order, as long as you specify the parameter name along with the value. Here's an example:'''\n",
    "def greet(name, message):\n",
    "    print(f\"{message}, {name}!\")\n",
    "\n",
    "# Using keyword arguments\n",
    "greet(name=\"Alice\", message=\"Hello\")\n",
    "greet(message=\"Hi\", name=\"Bob\")\n"
   ]
  },
  {
   "cell_type": "code",
   "execution_count": 12,
   "id": "a6b401f2-7984-4a9d-98a9-2d526d7590e2",
   "metadata": {},
   "outputs": [
    {
     "name": "stdout",
     "output_type": "stream",
     "text": [
      "Sum of numbers: 15\n"
     ]
    }
   ],
   "source": [
    "# Create a Python function that accepts a variable number of arguments and calculates their sum.\n",
    "def calculate_sum(*args):\n",
    "    total = 0\n",
    "    for num in args:\n",
    "        total += num\n",
    "    return total\n",
    "\n",
    "# Example usage:\n",
    "result = calculate_sum(1, 2, 3, 4, 5)\n",
    "print(\"Sum of numbers:\", result)"
   ]
  },
  {
   "cell_type": "code",
   "execution_count": null,
   "id": "c7149404-4f2e-42e7-9830-3e68914c12a0",
   "metadata": {},
   "outputs": [],
   "source": [
    "# What is the purpose of the `*args` and `**kwargs` syntax in function parameter lists?\n",
    "\n",
    "'''In Python, *args and **kwargs are used in function parameter lists to handle a variable number of arguments in a flexible manner. They allow you to define functions that can accept an arbitrary number of positional and keyword arguments, respectively. Here's the purpose of each:\n",
    "\n",
    "*args:\n",
    "\n",
    "The *args syntax allows you to pass a variable number of positional arguments to a function.\n",
    "When you use *args in a function definition, it collects all the positional arguments passed to the function into a tuple.\n",
    "This allows you to define functions that can accept any number of arguments without needing to specify them individually in the parameter list.\n",
    "\n",
    "**kwargs:\n",
    "\n",
    "The **kwargs syntax allows you to pass a variable number of keyword arguments (or named arguments) to a function.\n",
    "When you use **kwargs in a function definition, it collects all the keyword arguments passed to the function into a dictionary, where the keys are the argument names and the values are the corresponding argument values.'''"
   ]
  },
  {
   "cell_type": "code",
   "execution_count": null,
   "id": "026dc25b-d2e2-47b5-a6d8-1c62cff670c7",
   "metadata": {},
   "outputs": [],
   "source": [
    "# Describe the role of the `return` statement in Python functions and provide examples.\n",
    "'''The Python return statement is a key component of functions and methods. You can use the return statement to make your functions send Python objects back to the caller code. These objects are known as the function’s return value. You can use them to perform further computation in your programs.\n",
    "eg.\n",
    "def calculate_product(a, b):\n",
    "    return a * b\n",
    "\n",
    "# Example usage:\n",
    "result = calculate_product(3, 5)\n",
    "print(\"The product of 3 and 5 is:\", result)'''\n"
   ]
  },
  {
   "cell_type": "code",
   "execution_count": null,
   "id": "8b885e3f-f982-4451-b599-40b3b69e8d23",
   "metadata": {},
   "outputs": [],
   "source": [
    "# Explain the concept of variable scope in Python, including local and global variables\n",
    "''' Python Global variables are those which are not defined inside any function and have a global scope whereas Python local variables are those which are defined inside a function and their scope is limited to that function only.'''"
   ]
  },
  {
   "cell_type": "code",
   "execution_count": 13,
   "id": "a980f39b-72c6-4985-9593-c01e2a828753",
   "metadata": {},
   "outputs": [
    {
     "name": "stdout",
     "output_type": "stream",
     "text": [
      "Inside the function: 15\n",
      "Outside the function: 15\n"
     ]
    }
   ],
   "source": [
    "# Write a Python program that demonstrates the use of global variables within functions.\n",
    "global_var = 10\n",
    "\n",
    "# Define a function that modifies the global variable\n",
    "def modify_global():\n",
    "    global global_var\n",
    "    global_var += 5\n",
    "    print(\"Inside the function:\", global_var)\n",
    "\n",
    "# Call the function\n",
    "modify_global()\n",
    "\n",
    "# Print the value of the global variable outside the function\n",
    "print(\"Outside the function:\", global_var)"
   ]
  },
  {
   "cell_type": "code",
   "execution_count": 14,
   "id": "11f8b685-9b11-4f2e-86b5-83ed2a68a6fe",
   "metadata": {},
   "outputs": [
    {
     "name": "stdout",
     "output_type": "stream",
     "text": [
      "The factorial of 5 is: 120\n"
     ]
    }
   ],
   "source": [
    "# Create a Python function that calculates the factorial of a number and returns it.\n",
    "def factorial(n):\n",
    "    if n == 0:\n",
    "        return 1\n",
    "    else:\n",
    "        return n * factorial(n - 1)\n",
    "\n",
    "# Example usage:\n",
    "number = 5\n",
    "result = factorial(number)\n",
    "print(f\"The factorial of {number} is:\", result)"
   ]
  },
  {
   "cell_type": "code",
   "execution_count": null,
   "id": "d170364a-3f2b-4e4a-b299-91a5c386d6c7",
   "metadata": {},
   "outputs": [],
   "source": [
    "#How can you access variables defined outside a function from within the function?\n",
    "\n",
    "'''In Python, you can access variables defined outside a function from within the function by using the global keyword or by simply referencing the variable's name.\n"
   ]
  },
  {
   "cell_type": "code",
   "execution_count": null,
   "id": "f5d29d26-d72a-4cf2-b21b-4c6fd6b075b0",
   "metadata": {},
   "outputs": [],
   "source": [
    "#What are lambda functions in Python, and when are they typically used?\n",
    "'''In Python, a lambda function is a small anonymous function defined using the lambda keyword. Lambda functions can take any number of arguments, but they can only have one expression. They are often used for short, simple operations where defining a full function using the def keyword would be unnecessarily verbose.\n",
    "However, lambda functions are not suitable for complex operations or operations that require multiple statements. In such cases, it's more appropriate to define a regular named function using the def keyword for clarity and reusability.'''"
   ]
  },
  {
   "cell_type": "code",
   "execution_count": 15,
   "id": "022611d7-fe50-4134-947a-9b0decf9612c",
   "metadata": {},
   "outputs": [
    {
     "name": "stdout",
     "output_type": "stream",
     "text": [
      "Sorted list of tuples based on the second element (age): [('Alice', 20), ('Charlie', 22), ('Bob', 25)]\n"
     ]
    }
   ],
   "source": [
    "#Write a Python program that uses lambda functions to sort a list of tuples based on the second element.\n",
    "# List of tuples\n",
    "students = [(\"Alice\", 20), (\"Bob\", 25), (\"Charlie\", 22)]\n",
    "\n",
    "# Sorting the list of tuples based on the second element (age)\n",
    "sorted_students = sorted(students, key=lambda x: x[1])\n",
    "\n",
    "# Printing the sorted list of tuples\n",
    "print(\"Sorted list of tuples based on the second element (age):\", sorted_students)\n",
    "\n"
   ]
  },
  {
   "cell_type": "code",
   "execution_count": 16,
   "id": "4e88d06f-0e40-4b8c-9a29-990a74c0e04a",
   "metadata": {},
   "outputs": [
    {
     "name": "stdout",
     "output_type": "stream",
     "text": [
      "Result after applying square function to each element: [1, 4, 9, 16, 25]\n"
     ]
    }
   ],
   "source": [
    "#Create a Python function that takes a list of numbers and a function as arguments, applying the function to each element in the list.\n",
    "def apply_function_to_list(numbers, func):\n",
    "    result = []\n",
    "    for num in numbers:\n",
    "        result.append(func(num))\n",
    "    return result\n",
    "\n",
    "# Example usage:\n",
    "numbers = [1, 2, 3, 4, 5]\n",
    "\n",
    "# Define a function to square a number\n",
    "def square(x):\n",
    "    return x ** 2\n",
    "\n",
    "# Apply the square function to each element in the list\n",
    "result = apply_function_to_list(numbers, square)\n",
    "print(\"Result after applying square function to each element:\", result)\n",
    "\n"
   ]
  },
  {
   "cell_type": "code",
   "execution_count": 17,
   "id": "5b2e7daa-b906-4160-8284-869166958684",
   "metadata": {},
   "outputs": [
    {
     "name": "stdout",
     "output_type": "stream",
     "text": [
      "Result after applying square function to each element: [1, 4, 9, 16, 25]\n"
     ]
    }
   ],
   "source": [
    "# Write a Python program that uses the `map()` function to apply a function to each element of a list.\n",
    "# Define a function to square a number\n",
    "def square(x):\n",
    "    return x ** 2\n",
    "\n",
    "# List of numbers\n",
    "numbers = [1, 2, 3, 4, 5]\n",
    "\n",
    "# Apply the square function to each element in the list using map()\n",
    "result = map(square, numbers)\n",
    "\n",
    "# Convert the map object to a list\n",
    "result_list = list(result)\n",
    "\n",
    "# Print the result\n",
    "print(\"Result after applying square function to each element:\", result_list)\n"
   ]
  },
  {
   "cell_type": "code",
   "execution_count": 18,
   "id": "4d0f7fd6-69d0-49a5-b2a1-20e9b7e7de41",
   "metadata": {},
   "outputs": [
    {
     "name": "stdout",
     "output_type": "stream",
     "text": [
      "Product of all elements in the list: 120\n"
     ]
    }
   ],
   "source": [
    "#Create a Python program that uses the `reduce()` function to find the product of all elements in a list.\n",
    "from functools import reduce\n",
    "\n",
    "# List of numbers\n",
    "numbers = [1, 2, 3, 4, 5]\n",
    "\n",
    "# Define a function to multiply two numbers\n",
    "def multiply(x, y):\n",
    "    return x * y\n",
    "\n",
    "# Use reduce() to find the product of all elements in the list\n",
    "product = reduce(multiply, numbers)\n",
    "\n",
    "# Print the result\n",
    "print(\"Product of all elements in the list:\", product)\n"
   ]
  },
  {
   "cell_type": "code",
   "execution_count": null,
   "id": "c73cb398-ab7a-42dd-8c55-b14d60e0a22b",
   "metadata": {},
   "outputs": [],
   "source": [
    "# Explain the purpose of docstrings in Python functions and how to write them.\n",
    "'''Docstrings in Python functions serve as documentation strings that describe what the function does, its parameters, return values, and any other relevant information. They are meant to provide clear and concise documentation to users of the function, including other developers who may need to understand or use the function in their code.\n",
    "example\n",
    "def my_function(parameter1, parameter2):\n",
    "    \"\"\"\n",
    "    This function calculates the sum of two numbers.\n",
    "\n",
    "    Parameters:\n",
    "    parameter1 (int): The first number.\n",
    "    parameter2 (int): The second number.\n",
    "\n",
    "    Returns:\n",
    "    int: The sum of parameter1 and parameter2.\n",
    "    \"\"\"\n",
    "    return parameter1 + parameter2\n",
    "    '''"
   ]
  },
  {
   "cell_type": "code",
   "execution_count": null,
   "id": "51f14b5e-e836-441f-b890-1c761ccedfd0",
   "metadata": {},
   "outputs": [],
   "source": [
    "# Describe some best practices for naming functions and variables in Python, including naming conventions and guidelines.\n",
    "''' Naming functions and variables in Python is crucial for writing clean, readable, and maintainable code. Here are some best practices and guidelines for naming functions and variables:\n",
    "\n",
    "Use descriptive names: Choose names that accurately describe the purpose or functionality of the function or variable. Avoid single-letter or cryptic names that require additional context to understand.\n",
    "\n",
    "Follow naming conventions:\n",
    "\n",
    "Snake case for functions and variables: Use lowercase letters and underscores to separate words in function and variable names. For example: calculate_sum, user_name, total_count.\n",
    "Camel case for classes: Use lowercase letters for the first word and capitalize the first letter of each subsequent word. For example: MyClass, calculateTotal.\n",
    "'''"
   ]
  }
 ],
 "metadata": {
  "kernelspec": {
   "display_name": "Python 3 (ipykernel)",
   "language": "python",
   "name": "python3"
  },
  "language_info": {
   "codemirror_mode": {
    "name": "ipython",
    "version": 3
   },
   "file_extension": ".py",
   "mimetype": "text/x-python",
   "name": "python",
   "nbconvert_exporter": "python",
   "pygments_lexer": "ipython3",
   "version": "3.10.8"
  }
 },
 "nbformat": 4,
 "nbformat_minor": 5
}
