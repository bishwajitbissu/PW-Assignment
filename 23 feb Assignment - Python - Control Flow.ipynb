{
 "cells": [
  {
   "cell_type": "raw",
   "id": "bd38a52f-cca4-4cd7-b829-3b70e89fc0a8",
   "metadata": {},
   "source": [
    "Write a Python program to check if a given number is positive or negative.\n",
    "2. Create a program that determines if a person is eligible to vote based on their age.\n",
    "3. Develop a program to find the maximum of two numbers using if-else statements.\n",
    "4. Write a Python script to classify a given year as a leap year or not.\n",
    "5. Create a program that checks whether a character is a vowel or a consonant.\n",
    "6. Implement a program to determine whether a given number is even or odd.\n",
    "7. Write a Python function to calculate the absolute value of a number without using the `abs()` function.\n",
    "8. Develop a program that determines the largest of three given numbers using if-else statements.\n",
    "9. Create a program that checks if a given string is a palindrome.\n",
    "10. Write a Python program to calculate the grade based on a student's score."
   ]
  },
  {
   "cell_type": "code",
   "execution_count": 1,
   "id": "771cea6b-1033-442b-a7d8-2273be2cba51",
   "metadata": {},
   "outputs": [
    {
     "name": "stdin",
     "output_type": "stream",
     "text": [
      "Enter a number:  45\n"
     ]
    },
    {
     "name": "stdout",
     "output_type": "stream",
     "text": [
      "The number is positive.\n"
     ]
    }
   ],
   "source": [
    "def check_number(n):\n",
    "    if n > 0:\n",
    "        print(\"The number is positive.\")\n",
    "    elif n < 0:\n",
    "        print(\"The number is negative.\")\n",
    "    else:\n",
    "        print(\"The number is zero.\")\n",
    "\n",
    "# Test the function\n",
    "num = float(input(\"Enter a number: \"))\n",
    "check_number(num)\n"
   ]
  },
  {
   "cell_type": "code",
   "execution_count": 2,
   "id": "21c67bee-a182-42e2-8f45-27b6bb0022a8",
   "metadata": {},
   "outputs": [
    {
     "name": "stdin",
     "output_type": "stream",
     "text": [
      "Enter your age:  45\n"
     ]
    },
    {
     "name": "stdout",
     "output_type": "stream",
     "text": [
      "You are eligible to vote.\n"
     ]
    }
   ],
   "source": [
    "def check_voting_eligibility(age):\n",
    "    if age >= 18:\n",
    "        print(\"You are eligible to vote.\")\n",
    "    else:\n",
    "        print(\"You are not eligible to vote yet.\")\n",
    "\n",
    "# Test the function\n",
    "age = int(input(\"Enter your age: \"))\n",
    "check_voting_eligibility(age)\n"
   ]
  },
  {
   "cell_type": "code",
   "execution_count": 3,
   "id": "e6671bab-848c-4e5e-8af7-e65454cba121",
   "metadata": {},
   "outputs": [
    {
     "name": "stdin",
     "output_type": "stream",
     "text": [
      "Enter the first number:  45\n",
      "Enter the second number:  4\n"
     ]
    },
    {
     "name": "stdout",
     "output_type": "stream",
     "text": [
      "The maximum of the two numbers is: 45.0\n"
     ]
    }
   ],
   "source": [
    "def max_of_two_numbers(a, b):\n",
    "    if a > b:\n",
    "        return a\n",
    "    else:\n",
    "        return b\n",
    "\n",
    "# Test the function\n",
    "num1 = float(input(\"Enter the first number: \"))\n",
    "num2 = float(input(\"Enter the second number: \"))\n",
    "print(\"The maximum of the two numbers is:\", max_of_two_numbers(num1, num2))\n"
   ]
  },
  {
   "cell_type": "code",
   "execution_count": 4,
   "id": "783f91ca-0123-40fb-8636-c1fe0c393bab",
   "metadata": {},
   "outputs": [
    {
     "name": "stdin",
     "output_type": "stream",
     "text": [
      "Enter a year:  12365\n"
     ]
    },
    {
     "name": "stdout",
     "output_type": "stream",
     "text": [
      "12365 is not a leap year.\n"
     ]
    }
   ],
   "source": [
    "def is_leap_year(year):\n",
    "    if (year % 4 == 0 and year % 100 != 0) or (year % 400 == 0):\n",
    "        return True\n",
    "    else:\n",
    "        return False\n",
    "\n",
    "# Test the function\n",
    "year = int(input(\"Enter a year: \"))\n",
    "if is_leap_year(year):\n",
    "    print(year, \"is a leap year.\")\n",
    "else:\n",
    "    print(year, \"is not a leap year.\")\n"
   ]
  },
  {
   "cell_type": "code",
   "execution_count": 5,
   "id": "bc2c703a-95a5-4ae4-b9a5-0e249df8aa68",
   "metadata": {},
   "outputs": [
    {
     "name": "stdin",
     "output_type": "stream",
     "text": [
      "Enter a character:  h\n"
     ]
    },
    {
     "name": "stdout",
     "output_type": "stream",
     "text": [
      "The character is a consonant.\n"
     ]
    }
   ],
   "source": [
    "def check_vowel_or_consonant(char):\n",
    "    vowels = 'aeiouAEIOU'\n",
    "    if char in vowels:\n",
    "        print(\"The character is a vowel.\")\n",
    "    else:\n",
    "        print(\"The character is a consonant.\")\n",
    "\n",
    "# Test the function\n",
    "character = input(\"Enter a character: \")\n",
    "check_vowel_or_consonant(character)\n"
   ]
  },
  {
   "cell_type": "code",
   "execution_count": 6,
   "id": "72f6196a-4026-48fe-8f77-9b98c563ab84",
   "metadata": {},
   "outputs": [
    {
     "name": "stdin",
     "output_type": "stream",
     "text": [
      "Enter a number:  45\n"
     ]
    },
    {
     "name": "stdout",
     "output_type": "stream",
     "text": [
      "The number is odd.\n"
     ]
    }
   ],
   "source": [
    "def check_even_or_odd(num):\n",
    "    if num % 2 == 0:\n",
    "        print(\"The number is even.\")\n",
    "    else:\n",
    "        print(\"The number is odd.\")\n",
    "\n",
    "# Test the function\n",
    "number = int(input(\"Enter a number: \"))\n",
    "check_even_or_odd(number)\n"
   ]
  },
  {
   "cell_type": "code",
   "execution_count": 7,
   "id": "cce08d89-9fd2-40f5-9124-54a4e703bcc2",
   "metadata": {},
   "outputs": [
    {
     "name": "stdin",
     "output_type": "stream",
     "text": [
      "Enter a number:  45\n"
     ]
    },
    {
     "name": "stdout",
     "output_type": "stream",
     "text": [
      "The absolute value of the number is: 45.0\n"
     ]
    }
   ],
   "source": [
    "def absolute_value(num):\n",
    "    if num < 0:\n",
    "        return -num\n",
    "    else:\n",
    "        return num\n",
    "\n",
    "# Test the function\n",
    "number = float(input(\"Enter a number: \"))\n",
    "print(\"The absolute value of the number is:\", absolute_value(number))\n"
   ]
  },
  {
   "cell_type": "code",
   "execution_count": 8,
   "id": "a993b85c-de22-4783-8118-9813ce391833",
   "metadata": {},
   "outputs": [
    {
     "name": "stdin",
     "output_type": "stream",
     "text": [
      "Enter the first number:  1\n",
      "Enter the second number:  2\n",
      "Enter the third number:  3\n"
     ]
    },
    {
     "name": "stdout",
     "output_type": "stream",
     "text": [
      "The maximum of the three numbers is: 3.0\n"
     ]
    }
   ],
   "source": [
    "def max_of_three_numbers(a, b, c):\n",
    "    if a >= b and a >= c:\n",
    "        return a\n",
    "    elif b >= a and b >= c:\n",
    "        return b\n",
    "    else:\n",
    "        return c\n",
    "\n",
    "# Test the function\n",
    "num1 = float(input(\"Enter the first number: \"))\n",
    "num2 = float(input(\"Enter the second number: \"))\n",
    "num3 = float(input(\"Enter the third number: \"))\n",
    "print(\"The maximum of the three numbers is:\", max_of_three_numbers(num1, num2, num3))\n"
   ]
  },
  {
   "cell_type": "code",
   "execution_count": 9,
   "id": "d14eb6ce-5c42-4608-8222-735b5dc544ff",
   "metadata": {},
   "outputs": [
    {
     "name": "stdin",
     "output_type": "stream",
     "text": [
      "Enter a string:  xghxghghgh\n"
     ]
    },
    {
     "name": "stdout",
     "output_type": "stream",
     "text": [
      "The string is not a palindrome.\n"
     ]
    }
   ],
   "source": [
    "def is_palindrome(string):\n",
    "    if string == string[::-1]:\n",
    "        return True\n",
    "    else:\n",
    "        return False\n",
    "\n",
    "# Test the function\n",
    "string = input(\"Enter a string: \")\n",
    "if is_palindrome(string):\n",
    "    print(\"The string is a palindrome.\")\n",
    "else:\n",
    "    print(\"The string is not a palindrome.\")\n"
   ]
  },
  {
   "cell_type": "code",
   "execution_count": 10,
   "id": "49e1673d-d551-4167-b1d8-8b75de5c589f",
   "metadata": {},
   "outputs": [
    {
     "name": "stdin",
     "output_type": "stream",
     "text": [
      "Enter the student's score:  45\n"
     ]
    },
    {
     "name": "stdout",
     "output_type": "stream",
     "text": [
      "The student's grade is: F\n"
     ]
    }
   ],
   "source": [
    "def calculate_grade(score):\n",
    "    if score >= 90:\n",
    "        return 'A'\n",
    "    elif score >= 80:\n",
    "        return 'B'\n",
    "    elif score >= 70:\n",
    "        return 'C'\n",
    "    elif score >= 60:\n",
    "        return 'D'\n",
    "    else:\n",
    "        return 'F'\n",
    "\n",
    "# Test the function\n",
    "student_score = float(input(\"Enter the student's score: \"))\n",
    "print(\"The student's grade is:\", calculate_grade(student_score))\n"
   ]
  },
  {
   "cell_type": "raw",
   "id": "7b3a1f00-93b8-4d44-93d1-4ef3eaf7ae51",
   "metadata": {},
   "source": [
    "11. Write a program to find the largest among three numbers using nested if-else statements.\n",
    "12. Implement a program to determine if a triangle is equilateral, isosceles, or scalene.\n",
    "13. Develop a program that checks if a year is a leap year and also if it is a century year.\n",
    "14. Write a Python script to determine if a number is positive, negative, or zero.\n",
    "15. Create a program to check if a person is a teenager (between 13 and 19 years old).\n",
    "16. Develop a program that determines the type of angle based on its measure (acute, obtuse, or right).\n",
    "17. Write a Python program to calculate the roots of a quadratic equation.\n",
    "18. Implement a program to determine the day of the week based on a user-provided number (1 for Monday, 2\n",
    "for Tuesday, etc.).\n",
    "19. Create a program that determines if a year is a leap year and also if it is evenly divisible by 400.\n",
    "20. Develop a program that checks if a given number is prime or not using nested if-else statements."
   ]
  },
  {
   "cell_type": "code",
   "execution_count": 11,
   "id": "9ca03ba0-eaba-4750-813a-9e1c21738dde",
   "metadata": {},
   "outputs": [
    {
     "name": "stdin",
     "output_type": "stream",
     "text": [
      "Enter the first number:  45\n",
      "Enter the second number:  55\n",
      "Enter the third number:  66\n"
     ]
    },
    {
     "name": "stdout",
     "output_type": "stream",
     "text": [
      "The largest number is: 66.0\n"
     ]
    }
   ],
   "source": [
    "def find_largest(num1, num2, num3):\n",
    "    if num1 >= num2:\n",
    "        if num1 >= num3:\n",
    "            return num1\n",
    "        else:\n",
    "            return num3\n",
    "    else:\n",
    "        if num2 >= num3:\n",
    "            return num2\n",
    "        else:\n",
    "            return num3\n",
    "\n",
    "# Test the function\n",
    "num1 = float(input(\"Enter the first number: \"))\n",
    "num2 = float(input(\"Enter the second number: \"))\n",
    "num3 = float(input(\"Enter the third number: \"))\n",
    "print(\"The largest number is:\", find_largest(num1, num2, num3))\n"
   ]
  },
  {
   "cell_type": "code",
   "execution_count": 12,
   "id": "56e8349b-c129-4136-b245-eddeb7a8123f",
   "metadata": {},
   "outputs": [
    {
     "name": "stdin",
     "output_type": "stream",
     "text": [
      "Enter the length of side 1:  5\n",
      "Enter the length of side 2:  6\n",
      "Enter the length of side 3:  8\n"
     ]
    },
    {
     "name": "stdout",
     "output_type": "stream",
     "text": [
      "The triangle is: Scalene\n"
     ]
    }
   ],
   "source": [
    "def triangle_type(a, b, c):\n",
    "    if a == b == c:\n",
    "        return \"Equilateral\"\n",
    "    elif a == b or b == c or a == c:\n",
    "        return \"Isosceles\"\n",
    "    else:\n",
    "        return \"Scalene\"\n",
    "\n",
    "# Test the function\n",
    "side1 = float(input(\"Enter the length of side 1: \"))\n",
    "side2 = float(input(\"Enter the length of side 2: \"))\n",
    "side3 = float(input(\"Enter the length of side 3: \"))\n",
    "print(\"The triangle is:\", triangle_type(side1, side2, side3))\n"
   ]
  },
  {
   "cell_type": "code",
   "execution_count": 13,
   "id": "9b36e54d-1a08-4ba4-ab14-cb83d6ea1bf4",
   "metadata": {},
   "outputs": [
    {
     "name": "stdin",
     "output_type": "stream",
     "text": [
      "Enter a year:  2025\n"
     ]
    },
    {
     "name": "stdout",
     "output_type": "stream",
     "text": [
      "2025 is not a leap year.\n",
      "2025 is not a century year.\n"
     ]
    }
   ],
   "source": [
    "def is_leap_year(year):\n",
    "    if (year % 4 == 0 and year % 100 != 0) or (year % 400 == 0):\n",
    "        return True\n",
    "    else:\n",
    "        return False\n",
    "\n",
    "def is_century_year(year):\n",
    "    if year % 100 == 0:\n",
    "        return True\n",
    "    else:\n",
    "        return False\n",
    "\n",
    "# Test the functions\n",
    "year = int(input(\"Enter a year: \"))\n",
    "if is_leap_year(year):\n",
    "    print(year, \"is a leap year.\")\n",
    "else:\n",
    "    print(year, \"is not a leap year.\")\n",
    "\n",
    "if is_century_year(year):\n",
    "    print(year, \"is a century year.\")\n",
    "else:\n",
    "    print(year, \"is not a century year.\")\n"
   ]
  },
  {
   "cell_type": "code",
   "execution_count": 14,
   "id": "2956f14f-4bb1-4c7d-baac-0ea37662fc21",
   "metadata": {},
   "outputs": [
    {
     "name": "stdin",
     "output_type": "stream",
     "text": [
      "Enter a number:  45\n"
     ]
    },
    {
     "name": "stdout",
     "output_type": "stream",
     "text": [
      "The number is: Positive\n"
     ]
    }
   ],
   "source": [
    "def check_number(num):\n",
    "    if num > 0:\n",
    "        return \"Positive\"\n",
    "    elif num < 0:\n",
    "        return \"Negative\"\n",
    "    else:\n",
    "        return \"Zero\"\n",
    "\n",
    "# Test the function\n",
    "number = float(input(\"Enter a number: \"))\n",
    "print(\"The number is:\", check_number(number))\n"
   ]
  },
  {
   "cell_type": "code",
   "execution_count": 15,
   "id": "9311ce1d-b573-4aa6-a8e6-3fc6ed1a2903",
   "metadata": {},
   "outputs": [
    {
     "name": "stdin",
     "output_type": "stream",
     "text": [
      "Enter your age:  5\n"
     ]
    },
    {
     "name": "stdout",
     "output_type": "stream",
     "text": [
      "You are not a teenager.\n"
     ]
    }
   ],
   "source": [
    "def is_teenager(age):\n",
    "    if age >= 13 and age <= 19:\n",
    "        return True\n",
    "    else:\n",
    "        return False\n",
    "\n",
    "# Test the function\n",
    "age = int(input(\"Enter your age: \"))\n",
    "if is_teenager(age):\n",
    "    print(\"You are a teenager.\")\n",
    "else:\n",
    "    print(\"You are not a teenager.\")\n"
   ]
  },
  {
   "cell_type": "code",
   "execution_count": 16,
   "id": "0e56d201-4ede-41e8-bdec-768e5268d207",
   "metadata": {},
   "outputs": [
    {
     "name": "stdin",
     "output_type": "stream",
     "text": [
      "Enter the measure of the angle in degrees:  56\n"
     ]
    },
    {
     "name": "stdout",
     "output_type": "stream",
     "text": [
      "The angle is: Acute\n"
     ]
    }
   ],
   "source": [
    "def angle_type(angle):\n",
    "    if angle < 90:\n",
    "        return \"Acute\"\n",
    "    elif angle == 90:\n",
    "        return \"Right\"\n",
    "    else:\n",
    "        return \"Obtuse\"\n",
    "\n",
    "# Test the function\n",
    "angle = float(input(\"Enter the measure of the angle in degrees: \"))\n",
    "print(\"The angle is:\", angle_type(angle))\n"
   ]
  },
  {
   "cell_type": "code",
   "execution_count": 17,
   "id": "d3c23d11-1f05-4f8e-ad3f-dd1270fcbff8",
   "metadata": {},
   "outputs": [
    {
     "name": "stdin",
     "output_type": "stream",
     "text": [
      "Enter the coefficient of x^2:  7\n",
      "Enter the coefficient of x:  5\n",
      "Enter the constant term:  4\n"
     ]
    },
    {
     "name": "stdout",
     "output_type": "stream",
     "text": [
      "The roots are: No real roots\n"
     ]
    }
   ],
   "source": [
    "import math\n",
    "\n",
    "def quadratic_roots(a, b, c):\n",
    "    discriminant = b**2 - 4*a*c\n",
    "    if discriminant > 0:\n",
    "        root1 = (-b + math.sqrt(discriminant)) / (2*a)\n",
    "        root2 = (-b - math.sqrt(discriminant)) / (2*a)\n",
    "        return root1, root2\n",
    "    elif discriminant == 0:\n",
    "        root = -b / (2*a)\n",
    "        return root, root\n",
    "    else:\n",
    "        return \"No real roots\"\n",
    "\n",
    "# Test the function\n",
    "a = float(input(\"Enter the coefficient of x^2: \"))\n",
    "b = float(input(\"Enter the coefficient of x: \"))\n",
    "c = float(input(\"Enter the constant term: \"))\n",
    "print(\"The roots are:\", quadratic_roots(a, b, c))\n"
   ]
  },
  {
   "cell_type": "code",
   "execution_count": 18,
   "id": "aa4e13a3-ab0f-491c-9308-d3118d570bf1",
   "metadata": {},
   "outputs": [
    {
     "name": "stdin",
     "output_type": "stream",
     "text": [
      "Enter a number (1-7):  5\n"
     ]
    },
    {
     "name": "stdout",
     "output_type": "stream",
     "text": [
      "The day of the week is: Friday\n"
     ]
    }
   ],
   "source": [
    "def day_of_the_week(day_num):\n",
    "    days = [\"Monday\", \"Tuesday\", \"Wednesday\", \"Thursday\", \"Friday\", \"Saturday\", \"Sunday\"]\n",
    "    if day_num >= 1 and day_num <= 7:\n",
    "        return days[day_num - 1]\n",
    "    else:\n",
    "        return \"Invalid input\"\n",
    "\n",
    "# Test the function\n",
    "num = int(input(\"Enter a number (1-7): \"))\n",
    "print(\"The day of the week is:\", day_of_the_week(num))\n"
   ]
  },
  {
   "cell_type": "code",
   "execution_count": 19,
   "id": "e8ffe8e4-73fd-43be-a8fb-18290478afe9",
   "metadata": {},
   "outputs": [
    {
     "name": "stdin",
     "output_type": "stream",
     "text": [
      "Enter a year:  2022\n"
     ]
    },
    {
     "name": "stdout",
     "output_type": "stream",
     "text": [
      "2022 is not a leap year.\n",
      "2022 is not evenly divisible by 400.\n"
     ]
    }
   ],
   "source": [
    "def is_leap_year(year):\n",
    "    if (year % 4 == 0 and year % 100 != 0) or (year % 400 == 0):\n",
    "        return True\n",
    "    else:\n",
    "        return False\n",
    "\n",
    "# Test the function\n",
    "year = int(input(\"Enter a year: \"))\n",
    "if is_leap_year(year):\n",
    "    print(year, \"is a leap year.\")\n",
    "else:\n",
    "    print(year, \"is not a leap year.\")\n",
    "\n",
    "if year % 400 == 0:\n",
    "    print(year, \"is evenly divisible by 400.\")\n",
    "else:\n",
    "    print(year, \"is not evenly divisible by 400.\")\n"
   ]
  },
  {
   "cell_type": "code",
   "execution_count": 21,
   "id": "da4021b1-e739-4475-b8ac-0f5f8683e181",
   "metadata": {},
   "outputs": [
    {
     "name": "stdin",
     "output_type": "stream",
     "text": [
      "Enter a number:  45\n"
     ]
    },
    {
     "name": "stdout",
     "output_type": "stream",
     "text": [
      "45 is not a prime number.\n"
     ]
    }
   ],
   "source": [
    "def is_prime(num):\n",
    "    if num > 1:\n",
    "        for i in range(2, int(num/2) + 1):\n",
    "            if num % i == 0:\n",
    "                return False\n",
    "        else:\n",
    "            return True\n",
    "    else:\n",
    "        return False\n",
    "\n",
    "# Test the function\n",
    "number = int(input(\"Enter a number: \"))\n",
    "if is_prime(number):\n",
    "    print(number, \"is a prime number.\")\n",
    "else:\n",
    "    print(number, \"is not a prime number.\")\n",
    "\n"
   ]
  },
  {
   "cell_type": "raw",
   "id": "6b9199d4-ac3c-4518-bc15-007c78b32320",
   "metadata": {},
   "source": [
    "21. Write a Python program to assign grades based on different ranges of scores using elif statements.\n",
    "22. Implement a program to determine the type of a triangle based on its angles.\n",
    "23. Develop a program to categorize a given person's BMI into underweight, normal, overweight, or obese using\n",
    "elif statements.\n",
    "24. Create a program that determines whether a given number is positive, negative, or zero using elif\n",
    "statements.\n",
    "25. Write a Python script to determine the type of a character (uppercase, lowercase, or special) using elif\n",
    "statements.\n",
    "26. Implement a program to calculate the discounted price based on different purchase amounts using elif\n",
    "statements.\n",
    "27. Develop a program to calculate the electricity bill based on different consumption slabs using elif\n",
    "statements.\n",
    "28. Create a program to determine the type of quadrilateral based on its angles and sides using elif\n",
    "statements.\n",
    "29. Write a Python script to determine the season based on a user-provided month using elif statements.\n",
    "30. Implement a program to determine the type of a year (leap or common) and month (30 or 31 days) using\n",
    "elif statements."
   ]
  },
  {
   "cell_type": "code",
   "execution_count": 22,
   "id": "74bc8f0d-98a9-4501-9ab3-356edbd0652d",
   "metadata": {},
   "outputs": [
    {
     "name": "stdin",
     "output_type": "stream",
     "text": [
      "Enter the student's score:  88\n"
     ]
    },
    {
     "name": "stdout",
     "output_type": "stream",
     "text": [
      "The student's grade is: B\n"
     ]
    }
   ],
   "source": [
    "def assign_grade(score):\n",
    "    if score >= 90:\n",
    "        return 'A'\n",
    "    elif score >= 80:\n",
    "        return 'B'\n",
    "    elif score >= 70:\n",
    "        return 'C'\n",
    "    elif score >= 60:\n",
    "        return 'D'\n",
    "    else:\n",
    "        return 'F'\n",
    "\n",
    "# Test the function\n",
    "student_score = float(input(\"Enter the student's score: \"))\n",
    "print(\"The student's grade is:\", assign_grade(student_score))\n"
   ]
  },
  {
   "cell_type": "code",
   "execution_count": 23,
   "id": "3ebe57e2-4b6b-49e3-99a2-1988c5eb37a0",
   "metadata": {},
   "outputs": [
    {
     "name": "stdin",
     "output_type": "stream",
     "text": [
      "Enter the first angle:  45\n",
      "Enter the second angle:  45\n",
      "Enter the third angle:  45\n"
     ]
    },
    {
     "name": "stdout",
     "output_type": "stream",
     "text": [
      "The triangle is: Equilateral\n"
     ]
    }
   ],
   "source": [
    "def triangle_type(a, b, c):\n",
    "    if a == b == c:\n",
    "        return \"Equilateral\"\n",
    "    elif a == 90 or b == 90 or c == 90:\n",
    "        return \"Right\"\n",
    "    elif a < 90 and b < 90 and c < 90:\n",
    "        return \"Acute\"\n",
    "    else:\n",
    "        return \"Obtuse\"\n",
    "\n",
    "# Test the function\n",
    "angle1 = float(input(\"Enter the first angle: \"))\n",
    "angle2 = float(input(\"Enter the second angle: \"))\n",
    "angle3 = float(input(\"Enter the third angle: \"))\n",
    "print(\"The triangle is:\", triangle_type(angle1, angle2, angle3))\n"
   ]
  },
  {
   "cell_type": "code",
   "execution_count": 24,
   "id": "baee918a-dcaf-4a13-812f-ed967458b480",
   "metadata": {},
   "outputs": [
    {
     "name": "stdin",
     "output_type": "stream",
     "text": [
      "Enter the height in meters:  175\n",
      "Enter the weight in kilograms:  80\n"
     ]
    },
    {
     "name": "stdout",
     "output_type": "stream",
     "text": [
      "BMI: 0.0026122448979591837\n",
      "You are Underweight\n"
     ]
    }
   ],
   "source": [
    "def calculate_bmi(height, weight):\n",
    "    return weight / (height**2)\n",
    "\n",
    "def categorize_bmi(bmi):\n",
    "    if bmi < 18.5:\n",
    "        return \"Underweight\"\n",
    "    elif bmi < 25:\n",
    "        return \"Normal\"\n",
    "    elif bmi < 30:\n",
    "        return \"Overweight\"\n",
    "    else:\n",
    "        return \"Obese\"\n",
    "\n",
    "# Test the functions\n",
    "height = float(input(\"Enter the height in meters: \"))\n",
    "weight = float(input(\"Enter the weight in kilograms: \"))\n",
    "bmi = calculate_bmi(height, weight)\n",
    "print(\"BMI:\", bmi)\n",
    "print(\"You are\", categorize_bmi(bmi))\n"
   ]
  },
  {
   "cell_type": "code",
   "execution_count": 25,
   "id": "29eff614-7608-4a33-955d-00dff2560df2",
   "metadata": {},
   "outputs": [
    {
     "name": "stdin",
     "output_type": "stream",
     "text": [
      "Enter a number:  45\n"
     ]
    },
    {
     "name": "stdout",
     "output_type": "stream",
     "text": [
      "The number is: Positive\n"
     ]
    }
   ],
   "source": [
    "def check_number(num):\n",
    "    if num > 0:\n",
    "        return \"Positive\"\n",
    "    elif num < 0:\n",
    "        return \"Negative\"\n",
    "    else:\n",
    "        return \"Zero\"\n",
    "\n",
    "# Test the function\n",
    "number = float(input(\"Enter a number: \"))\n",
    "print(\"The number is:\", check_number(number))\n"
   ]
  },
  {
   "cell_type": "code",
   "execution_count": 26,
   "id": "af089b4a-5f63-49dd-a1c2-a63cf660b523",
   "metadata": {},
   "outputs": [
    {
     "name": "stdin",
     "output_type": "stream",
     "text": [
      "Enter a character:  j\n"
     ]
    },
    {
     "name": "stdout",
     "output_type": "stream",
     "text": [
      "The character is: Lowercase\n"
     ]
    }
   ],
   "source": [
    "def check_character_type(char):\n",
    "    if char.isupper():\n",
    "        return \"Uppercase\"\n",
    "    elif char.islower():\n",
    "        return \"Lowercase\"\n",
    "    else:\n",
    "        return \"Special character\"\n",
    "\n",
    "# Test the function\n",
    "character = input(\"Enter a character: \")\n",
    "print(\"The character is:\", check_character_type(character))\n"
   ]
  },
  {
   "cell_type": "code",
   "execution_count": 27,
   "id": "df5d6e4f-3534-4aac-96eb-1cc1f007d5f0",
   "metadata": {},
   "outputs": [
    {
     "name": "stdin",
     "output_type": "stream",
     "text": [
      "Enter the purchase amount:  450\n"
     ]
    },
    {
     "name": "stdout",
     "output_type": "stream",
     "text": [
      "Discount amount: 0\n",
      "Final price after discount: 450.0\n"
     ]
    }
   ],
   "source": [
    "def calculate_discount(price):\n",
    "    if price >= 1000:\n",
    "        return price * 0.1\n",
    "    elif price >= 500:\n",
    "        return price * 0.05\n",
    "    else:\n",
    "        return 0\n",
    "\n",
    "# Test the function\n",
    "purchase_amount = float(input(\"Enter the purchase amount: \"))\n",
    "discount = calculate_discount(purchase_amount)\n",
    "print(\"Discount amount:\", discount)\n",
    "print(\"Final price after discount:\", purchase_amount - discount)\n"
   ]
  },
  {
   "cell_type": "code",
   "execution_count": 28,
   "id": "a071fb7e-e42d-4e2b-a2f2-32fc0a8e6047",
   "metadata": {},
   "outputs": [
    {
     "name": "stdin",
     "output_type": "stream",
     "text": [
      "Enter the consumed units:  345\n"
     ]
    },
    {
     "name": "stdout",
     "output_type": "stream",
     "text": [
      "Electricity bill: 1720\n"
     ]
    }
   ],
   "source": [
    "def calculate_electricity_bill(units):\n",
    "    if units <= 50:\n",
    "        return units * 3\n",
    "    elif units <= 100:\n",
    "        return 50 * 3 + (units - 50) * 4\n",
    "    elif units <= 200:\n",
    "        return 50 * 3 + 50 * 4 + (units - 100) * 5\n",
    "    else:\n",
    "        return 50 * 3 + 50 * 4 + 100 * 5 + (units - 200) * 6\n",
    "\n",
    "# Test the function\n",
    "consumed_units = int(input(\"Enter the consumed units: \"))\n",
    "print(\"Electricity bill:\", calculate_electricity_bill(consumed_units))\n"
   ]
  },
  {
   "cell_type": "code",
   "execution_count": 29,
   "id": "a9a4ee4b-c8bd-4657-bf35-1b3938341947",
   "metadata": {},
   "outputs": [
    {
     "name": "stdin",
     "output_type": "stream",
     "text": [
      "Enter the first angle:  4\n",
      "Enter the second angle:  8\n",
      "Enter the third angle:  99\n",
      "Enter the fourth angle:  888\n"
     ]
    },
    {
     "name": "stdout",
     "output_type": "stream",
     "text": [
      "The quadrilateral is a: Quadrilateral\n"
     ]
    }
   ],
   "source": [
    "def determine_quadrilateral_type(a, b, c, d):\n",
    "    if a == b == c == d:\n",
    "        return \"Square\"\n",
    "    elif a == b and c == d:\n",
    "        return \"Rectangle\"\n",
    "    elif (a == b and c != d) or (a == c and b != d) or (a == d and b != c):\n",
    "        return \"Rhombus\"\n",
    "    else:\n",
    "        return \"Quadrilateral\"\n",
    "\n",
    "# Test the function\n",
    "angle1 = float(input(\"Enter the first angle: \"))\n",
    "angle2 = float(input(\"Enter the second angle: \"))\n",
    "angle3 = float(input(\"Enter the third angle: \"))\n",
    "angle4 = float(input(\"Enter the fourth angle: \"))\n",
    "print(\"The quadrilateral is a:\", determine_quadrilateral_type(angle1, angle2, angle3, angle4))\n"
   ]
  },
  {
   "cell_type": "code",
   "execution_count": 31,
   "id": "2cdcdd9a-acfa-4af5-be05-8396137ae781",
   "metadata": {},
   "outputs": [
    {
     "name": "stdin",
     "output_type": "stream",
     "text": [
      "Enter the month (1-12):  5\n"
     ]
    },
    {
     "name": "stdout",
     "output_type": "stream",
     "text": [
      "The season is: Spring\n"
     ]
    }
   ],
   "source": [
    "def determine_season(month):\n",
    "    if month in (3, 4, 5):\n",
    "        return \"Spring\"\n",
    "    elif month in (6, 7, 8):\n",
    "        return \"Summer\"\n",
    "    elif month in (9, 10, 11):\n",
    "        return \"Autumn\"\n",
    "    else:\n",
    "        return \"Winter\"\n",
    "\n",
    "# Test the function\n",
    "month = int(input(\"Enter the month (1-12): \"))\n",
    "print(\"The season is:\", determine_season(month))\n"
   ]
  },
  {
   "cell_type": "code",
   "execution_count": 32,
   "id": "62dac74f-f01f-419e-ae8b-1454c884c45d",
   "metadata": {},
   "outputs": [
    {
     "name": "stdin",
     "output_type": "stream",
     "text": [
      "Enter the year:  2024\n",
      "Enter the month (1-12):  5\n"
     ]
    },
    {
     "name": "stdout",
     "output_type": "stream",
     "text": [
      "2024 is a leap year.\n",
      "Number of days in the month: 31\n"
     ]
    }
   ],
   "source": [
    "def is_leap_year(year):\n",
    "    if (year % 4 == 0 and year % 100 != 0) or (year % 400 == 0):\n",
    "        return True\n",
    "    else:\n",
    "        return False\n",
    "\n",
    "def days_in_month(month, year):\n",
    "    if month in (1, 3, 5, 7, 8, 10, 12):\n",
    "        return 31\n",
    "    elif month in (4, 6, 9, 11):\n",
    "        return 30\n",
    "    else:\n",
    "        if is_leap_year(year):\n",
    "            return 29\n",
    "        else:\n",
    "            return 28\n",
    "\n",
    "# Test the functions\n",
    "year = int(input(\"Enter the year: \"))\n",
    "month = int(input(\"Enter the month (1-12): \"))\n",
    "if is_leap_year(year):\n",
    "    print(year, \"is a leap year.\")\n",
    "else:\n",
    "    print(year, \"is not a leap year.\")\n",
    "\n",
    "print(\"Number of days in the month:\", days_in_month(month, year))\n"
   ]
  },
  {
   "cell_type": "raw",
   "id": "bbd01ef8-7a20-4e45-a0c8-efbe5aea5e50",
   "metadata": {},
   "source": [
    "Write a Python program that checks if a given number is positive, negative, or zero.\n",
    "2. Create a program to determine if a person is eligible to vote based on their age.\n",
    "3. Write a program to find the maximum of two given numbers using conditional statements.\n",
    "4. Develop a program that calculates the grade of a student based on their exam score.\n",
    "5. Create a program that checks if a year is a leap year or not.\n",
    "6. Write a program to classify a triangle based on its sides' lengths.\n",
    "7. Build a program that determines the largest of three given numbers.\n",
    "8. Develop a program that checks whether a character is a vowel or a consonant.\n",
    "9. Create a program to calculate the total cost of a shopping cart based on discounts.\n",
    "10. Write a program that checks if a given number is even or odd."
   ]
  },
  {
   "cell_type": "code",
   "execution_count": 33,
   "id": "64038ee6-f5a0-4aba-aa37-f633afbcaf9a",
   "metadata": {},
   "outputs": [
    {
     "name": "stdin",
     "output_type": "stream",
     "text": [
      "Enter a number:  -88\n"
     ]
    },
    {
     "name": "stdout",
     "output_type": "stream",
     "text": [
      "Negative number\n"
     ]
    }
   ],
   "source": [
    "num = float(input(\"Enter a number: \"))\n",
    "\n",
    "if num > 0:\n",
    "    print(\"Positive number\")\n",
    "elif num < 0:\n",
    "    print(\"Negative number\")\n",
    "else:\n",
    "    print(\"Zero\")\n"
   ]
  },
  {
   "cell_type": "code",
   "execution_count": 34,
   "id": "01cc4433-0776-4ae0-aaba-7f23f4139002",
   "metadata": {},
   "outputs": [
    {
     "name": "stdin",
     "output_type": "stream",
     "text": [
      "Enter your age:  11111\n"
     ]
    },
    {
     "name": "stdout",
     "output_type": "stream",
     "text": [
      "You are eligible to vote.\n"
     ]
    }
   ],
   "source": [
    "age = int(input(\"Enter your age: \"))\n",
    "\n",
    "if age >= 18:\n",
    "    print(\"You are eligible to vote.\")\n",
    "else:\n",
    "    print(\"You are not eligible to vote yet.\")\n"
   ]
  },
  {
   "cell_type": "code",
   "execution_count": 35,
   "id": "c79c3ceb-ee54-4ea1-aaea-ad955edf8afa",
   "metadata": {},
   "outputs": [
    {
     "name": "stdin",
     "output_type": "stream",
     "text": [
      "Enter the first number:  5\n",
      "Enter the second number:  5\n"
     ]
    },
    {
     "name": "stdout",
     "output_type": "stream",
     "text": [
      "Maximum number: 5.0\n"
     ]
    }
   ],
   "source": [
    "num1 = float(input(\"Enter the first number: \"))\n",
    "num2 = float(input(\"Enter the second number: \"))\n",
    "\n",
    "if num1 > num2:\n",
    "    print(\"Maximum number:\", num1)\n",
    "else:\n",
    "    print(\"Maximum number:\", num2)\n"
   ]
  },
  {
   "cell_type": "code",
   "execution_count": 36,
   "id": "cf0081d7-a85a-4abb-a8b8-9f61f42289f2",
   "metadata": {},
   "outputs": [
    {
     "name": "stdin",
     "output_type": "stream",
     "text": [
      "Enter the first number:  12365\n",
      "Enter the second number:  2\n",
      "Enter the third number:  5\n"
     ]
    },
    {
     "name": "stdout",
     "output_type": "stream",
     "text": [
      "Largest number: 12365.0\n"
     ]
    }
   ],
   "source": [
    "num1 = float(input(\"Enter the first number: \"))\n",
    "num2 = float(input(\"Enter the second number: \"))\n",
    "num3 = float(input(\"Enter the third number: \"))\n",
    "\n",
    "max_num = num1\n",
    "if num2 > max_num:\n",
    "    max_num = num2\n",
    "if num3 > max_num:\n",
    "    max_num = num3\n",
    "\n",
    "print(\"Largest number:\", max_num)\n"
   ]
  },
  {
   "cell_type": "code",
   "execution_count": 37,
   "id": "713b5148-70ca-45e2-9a95-04fa483cb79f",
   "metadata": {},
   "outputs": [
    {
     "name": "stdin",
     "output_type": "stream",
     "text": [
      "Enter a character:  h\n"
     ]
    },
    {
     "name": "stdout",
     "output_type": "stream",
     "text": [
      "Consonant\n"
     ]
    }
   ],
   "source": [
    "char = input(\"Enter a character: \").lower()\n",
    "\n",
    "if char.isalpha():\n",
    "    if char in 'aeiou':\n",
    "        print(\"Vowel\")\n",
    "    else:\n",
    "        print(\"Consonant\")\n",
    "else:\n",
    "    print(\"Not a valid alphabet character\")\n"
   ]
  },
  {
   "cell_type": "code",
   "execution_count": 38,
   "id": "55731d08-e1a7-41bc-b11e-88b0f9485f6c",
   "metadata": {},
   "outputs": [
    {
     "name": "stdin",
     "output_type": "stream",
     "text": [
      "Enter the total cost:  5\n"
     ]
    },
    {
     "name": "stdout",
     "output_type": "stream",
     "text": [
      "Discount: 0\n",
      "Final cost: 5.0\n"
     ]
    }
   ],
   "source": [
    "total_cost = float(input(\"Enter the total cost: \"))\n",
    "\n",
    "if total_cost >= 100:\n",
    "    discount = 0.1 * total_cost\n",
    "else:\n",
    "    discount = 0\n",
    "\n",
    "final_cost = total_cost - discount\n",
    "print(\"Discount:\", discount)\n",
    "print(\"Final cost:\", final_cost)\n"
   ]
  },
  {
   "cell_type": "code",
   "execution_count": 39,
   "id": "6ce65c62-44d0-48f2-9652-047a56edebca",
   "metadata": {},
   "outputs": [
    {
     "name": "stdin",
     "output_type": "stream",
     "text": [
      "Enter a number:  5\n"
     ]
    },
    {
     "name": "stdout",
     "output_type": "stream",
     "text": [
      "Odd\n"
     ]
    }
   ],
   "source": [
    "num = int(input(\"Enter a number: \"))\n",
    "\n",
    "if num % 2 == 0:\n",
    "    print(\"Even\")\n",
    "else:\n",
    "    print(\"Odd\")\n"
   ]
  },
  {
   "cell_type": "raw",
   "id": "4c7eb88c-3345-4715-b7c0-91b5d896fa20",
   "metadata": {},
   "source": [
    "Write a program that calculates the roots of a quadratic equation .\n",
    "12. Create a program that determines the day of the week based on the day number (1-7).\n",
    "13. Develop a program that calculates the factorial of a given number using recursion.\n",
    "14. Write a program to find the largest among three numbers without using the `max()` function.\n",
    "15. Create a program that simulates a basic ATM transaction menu.\n",
    "16. Build a program that checks if a given string is a palindrome or not.\n",
    "17. Write a program that calculates the average of a list of numbers, excluding the smallest and largest values.\n",
    "18. Develop a program that converts a given temperature from Celsius to Fahrenheit.\n",
    "19. Create a program that simulates a basic calculator for addition, subtraction, multiplication, and division.\n",
    "20. Write a program that determines the roots of a cubic equation using the Cardano formula."
   ]
  },
  {
   "cell_type": "code",
   "execution_count": 40,
   "id": "d1defa1a-4d6b-4dfc-a1c3-81f94b844dd2",
   "metadata": {},
   "outputs": [
    {
     "name": "stdin",
     "output_type": "stream",
     "text": [
      "Enter the coefficient of x^2:  5\n",
      "Enter the coefficient of x:  4\n",
      "Enter the constant term:  4\n"
     ]
    },
    {
     "name": "stdout",
     "output_type": "stream",
     "text": [
      "Roots of the quadratic equation: ((-0.4, 0.8), (-0.4, -0.8))\n"
     ]
    }
   ],
   "source": [
    "import math\n",
    "\n",
    "def quadratic_roots(a, b, c):\n",
    "    discriminant = b**2 - 4*a*c\n",
    "    if discriminant > 0:\n",
    "        root1 = (-b + math.sqrt(discriminant)) / (2*a)\n",
    "        root2 = (-b - math.sqrt(discriminant)) / (2*a)\n",
    "        return root1, root2\n",
    "    elif discriminant == 0:\n",
    "        root = -b / (2*a)\n",
    "        return root, root\n",
    "    else:\n",
    "        real_part = -b / (2*a)\n",
    "        imaginary_part = math.sqrt(abs(discriminant)) / (2*a)\n",
    "        return (real_part, imaginary_part), (real_part, -imaginary_part)\n",
    "\n",
    "# Test the function\n",
    "a = float(input(\"Enter the coefficient of x^2: \"))\n",
    "b = float(input(\"Enter the coefficient of x: \"))\n",
    "c = float(input(\"Enter the constant term: \"))\n",
    "\n",
    "roots = quadratic_roots(a, b, c)\n",
    "print(\"Roots of the quadratic equation:\", roots)\n"
   ]
  },
  {
   "cell_type": "code",
   "execution_count": 41,
   "id": "59bf1770-cea8-46d5-94d7-dc14b10ef722",
   "metadata": {},
   "outputs": [
    {
     "name": "stdin",
     "output_type": "stream",
     "text": [
      "Enter the day number (1-7):  5\n"
     ]
    },
    {
     "name": "stdout",
     "output_type": "stream",
     "text": [
      "Day of the week: Friday\n"
     ]
    }
   ],
   "source": [
    "def day_of_week(day_number):\n",
    "    days = [\"Monday\", \"Tuesday\", \"Wednesday\", \"Thursday\", \"Friday\", \"Saturday\", \"Sunday\"]\n",
    "    if day_number >= 1 and day_number <= 7:\n",
    "        return days[day_number - 1]\n",
    "    else:\n",
    "        return \"Invalid day number\"\n",
    "\n",
    "# Test the function\n",
    "day_number = int(input(\"Enter the day number (1-7): \"))\n",
    "print(\"Day of the week:\", day_of_week(day_number))\n"
   ]
  },
  {
   "cell_type": "code",
   "execution_count": 42,
   "id": "d9fdec34-b910-4bb5-bea1-bedc0aa06ec0",
   "metadata": {},
   "outputs": [
    {
     "name": "stdin",
     "output_type": "stream",
     "text": [
      "Enter a number:  45\n"
     ]
    },
    {
     "name": "stdout",
     "output_type": "stream",
     "text": [
      "Factorial: 119622220865480194561963161495657715064383733760000000000\n"
     ]
    }
   ],
   "source": [
    "def factorial(n):\n",
    "    if n == 0:\n",
    "        return 1\n",
    "    else:\n",
    "        return n * factorial(n-1)\n",
    "\n",
    "# Test the function\n",
    "number = int(input(\"Enter a number: \"))\n",
    "print(\"Factorial:\", factorial(number))\n"
   ]
  },
  {
   "cell_type": "code",
   "execution_count": 43,
   "id": "7a3747e2-f927-47be-a07b-e67fbd68c21d",
   "metadata": {},
   "outputs": [
    {
     "name": "stdin",
     "output_type": "stream",
     "text": [
      "Enter the first number:  56\n",
      "Enter the second number:  56\n",
      "Enter the third number:  89\n"
     ]
    },
    {
     "name": "stdout",
     "output_type": "stream",
     "text": [
      "Largest number: 89.0\n"
     ]
    }
   ],
   "source": [
    "def find_largest(num1, num2, num3):\n",
    "    if num1 >= num2 and num1 >= num3:\n",
    "        return num1\n",
    "    elif num2 >= num1 and num2 >= num3:\n",
    "        return num2\n",
    "    else:\n",
    "        return num3\n",
    "\n",
    "# Test the function\n",
    "num1 = float(input(\"Enter the first number: \"))\n",
    "num2 = float(input(\"Enter the second number: \"))\n",
    "num3 = float(input(\"Enter the third number: \"))\n",
    "print(\"Largest number:\", find_largest(num1, num2, num3))\n"
   ]
  },
  {
   "cell_type": "code",
   "execution_count": 44,
   "id": "928dd35f-9acc-464e-840f-645d54eb06dc",
   "metadata": {},
   "outputs": [
    {
     "name": "stdout",
     "output_type": "stream",
     "text": [
      "1. Check balance\n",
      "2. Withdraw money\n",
      "3. Deposit money\n",
      "4. Exit\n"
     ]
    }
   ],
   "source": [
    "def atm_menu():\n",
    "    print(\"1. Check balance\")\n",
    "    print(\"2. Withdraw money\")\n",
    "    print(\"3. Deposit money\")\n",
    "    print(\"4. Exit\")\n",
    "\n",
    "# Test the function\n",
    "atm_menu()\n"
   ]
  },
  {
   "cell_type": "code",
   "execution_count": 45,
   "id": "42c3580b-6e5b-413c-92b3-59e42f452cd7",
   "metadata": {},
   "outputs": [
    {
     "name": "stdin",
     "output_type": "stream",
     "text": [
      "Enter a string:  satyam\n"
     ]
    },
    {
     "name": "stdout",
     "output_type": "stream",
     "text": [
      "Not a palindrome\n"
     ]
    }
   ],
   "source": [
    "def is_palindrome(s):\n",
    "    s = s.lower()\n",
    "    return s == s[::-1]\n",
    "\n",
    "# Test the function\n",
    "string = input(\"Enter a string: \")\n",
    "if is_palindrome(string):\n",
    "    print(\"Palindrome\")\n",
    "else:\n",
    "    print(\"Not a palindrome\")\n"
   ]
  },
  {
   "cell_type": "code",
   "execution_count": 47,
   "id": "7b6042c4-b01d-459f-ab69-13ebef8b779a",
   "metadata": {},
   "outputs": [
    {
     "name": "stdin",
     "output_type": "stream",
     "text": [
      "Enter numbers separated by space:  45\n"
     ]
    },
    {
     "name": "stdout",
     "output_type": "stream",
     "text": [
      "Average (excluding extremes): None\n"
     ]
    }
   ],
   "source": [
    "def average_without_extremes(lst):\n",
    "    if len(lst) <= 2:\n",
    "        return None\n",
    "\n",
    "    lst.sort()\n",
    "    return sum(lst[1:-1]) / (len(lst) - 2)\n",
    "\n",
    "# Test the function\n",
    "numbers = [float(x) for x in input(\"Enter numbers separated by space: \").split()]\n",
    "print(\"Average (excluding extremes):\", average_without_extremes(numbers))\n"
   ]
  },
  {
   "cell_type": "code",
   "execution_count": 48,
   "id": "6271e82f-bf93-4a38-8b9b-7538c8570b34",
   "metadata": {},
   "outputs": [
    {
     "name": "stdin",
     "output_type": "stream",
     "text": [
      "Enter temperature in Celsius:  42\n"
     ]
    },
    {
     "name": "stdout",
     "output_type": "stream",
     "text": [
      "Temperature in Fahrenheit: 107.6\n"
     ]
    }
   ],
   "source": [
    "def celsius_to_fahrenheit(celsius):\n",
    "    return (celsius * 9/5) + 32\n",
    "\n",
    "# Test the function\n",
    "celsius_temp = float(input(\"Enter temperature in Celsius: \"))\n",
    "print(\"Temperature in Fahrenheit:\", celsius_to_fahrenheit(celsius_temp))\n"
   ]
  },
  {
   "cell_type": "code",
   "execution_count": 49,
   "id": "e7f53d0a-f069-4d5f-9388-653d0b879858",
   "metadata": {},
   "outputs": [
    {
     "name": "stdin",
     "output_type": "stream",
     "text": [
      "Enter the first number:  5\n",
      "Enter the second number:  6\n",
      "Enter the operator (+, -, *, /):  +\n"
     ]
    },
    {
     "name": "stdout",
     "output_type": "stream",
     "text": [
      "Result: 11.0\n"
     ]
    }
   ],
   "source": [
    "def calculator(num1, num2, operator):\n",
    "    if operator == '+':\n",
    "        return num1 + num2\n",
    "    elif operator == '-':\n",
    "        return num1 - num2\n",
    "    elif operator == '*':\n",
    "        return num1 * num2\n",
    "    elif operator == '/':\n",
    "        if num2 != 0:\n",
    "            return num1 / num2\n",
    "        else:\n",
    "            return \"Cannot divide by zero\"\n",
    "    else:\n",
    "        return \"Invalid operator\"\n",
    "\n",
    "# Test the function\n",
    "num1 = float(input(\"Enter the first number: \"))\n",
    "num2 = float(input(\"Enter the second number: \"))\n",
    "op = input(\"Enter the operator (+, -, *, /): \")\n",
    "print(\"Result:\", calculator(num1, num2, op))\n"
   ]
  },
  {
   "cell_type": "code",
   "execution_count": 50,
   "id": "42f907cc-39fb-4043-8db1-2918c73077e0",
   "metadata": {},
   "outputs": [
    {
     "name": "stdin",
     "output_type": "stream",
     "text": [
      "Enter the coefficient of x^3:  5\n",
      "Enter the coefficient of x^2:  8\n",
      "Enter the coefficient of x:  7\n",
      "Enter the constant term:  99\n"
     ]
    },
    {
     "name": "stdout",
     "output_type": "stream",
     "text": [
      "Roots of the cubic equation: ((1.4103729875063473+2.325289589106574j), (-2.2077415062294494-4.027519710643544j))\n"
     ]
    }
   ],
   "source": [
    "import math\n",
    "\n",
    "def cubic_roots(a, b, c, d):\n",
    "    p = (3*a*c - b**2) / (3*a**2)\n",
    "    q = (2*b**3 - 9*a*b*c + 27*a**2*d) / (27*a**3)\n",
    "    discriminant = (q/2)**2 + (p/3)**3\n",
    "\n",
    "    if discriminant > 0:\n",
    "        u = (-q/2 + math.sqrt(discriminant))**(1/3)\n",
    "        v = (-q/2 - math.sqrt(discriminant))**(1/3)\n",
    "        real_root = u + v\n",
    "        imaginary_root = (u - v) * math.sqrt(3)\n",
    "        return real_root, imaginary_root\n",
    "    elif discriminant == 0:\n",
    "        real_root = (-q/2)**(1/3)\n",
    "        return real_root, real_root\n",
    "    else:\n",
    "        radius = math.sqrt((-p/3)**3)\n",
    "        theta = math.acos(-q/(2 * radius))\n",
    "        real_root = 2 * math.sqrt(-p/3) * math.cos(theta/3)\n",
    "        imaginary_root = 2 * math.sqrt(-p/3) * math.cos((theta + 2*math.pi)/3)\n",
    "        return real_root, imaginary_root\n",
    "\n",
    "# Test the function\n",
    "a = float(input(\"Enter the coefficient of x^3: \"))\n",
    "b = float(input(\"Enter the coefficient of x^2: \"))\n",
    "c = float(input(\"Enter the coefficient of x: \"))\n",
    "d = float(input(\"Enter the constant term: \"))\n",
    "\n",
    "roots = cubic_roots(a, b, c, d)\n",
    "print(\"Roots of the cubic equation:\", roots)\n"
   ]
  },
  {
   "cell_type": "raw",
   "id": "e928ad37-7abc-486e-bb1c-cfc87d0222e0",
   "metadata": {},
   "source": [
    "21. Create a program that calculates the income tax based on the user's income and tax brackets.\n",
    "22. Write a program that simulates a rock-paper-scissors game against the computer.\n",
    "23. Develop a program that generates a random password based on user preferences (length, complexity).\n",
    "24. Create a program that implements a simple text-based adventure game with branching scenarios.\n",
    "25. Build a program that solves a linear equation for x, considering different cases.\n",
    "26. Write a program that simulates a basic quiz game with multiple-choice questions and scoring.\n",
    "27. Develop a program that determines whether a given year is a prime number or not.\n",
    "28. Create a program that sorts three numbers in ascending order using conditional statements.\n",
    "29. Build a program that determines the roots of a quartic equation using numerical methods.\n",
    "30. Write a program that calculates the BMI (Body Mass Index) and provides health recommendations based\n",
    "on the user's input."
   ]
  },
  {
   "cell_type": "code",
   "execution_count": 51,
   "id": "f0b05a1a-a6b2-4481-a118-3806886c5c46",
   "metadata": {},
   "outputs": [
    {
     "name": "stdin",
     "output_type": "stream",
     "text": [
      "Enter your income:  50000\n"
     ]
    },
    {
     "name": "stdout",
     "output_type": "stream",
     "text": [
      "Income tax: 5000.0\n"
     ]
    }
   ],
   "source": [
    "def calculate_income_tax(income):\n",
    "    if income <= 10000:\n",
    "        tax = 0.05 * income\n",
    "    elif income <= 50000:\n",
    "        tax = 0.10 * income\n",
    "    else:\n",
    "        tax = 0.20 * income\n",
    "    return tax\n",
    "\n",
    "# Test the function\n",
    "income = float(input(\"Enter your income: \"))\n",
    "tax = calculate_income_tax(income)\n",
    "print(\"Income tax:\", tax)\n"
   ]
  },
  {
   "cell_type": "code",
   "execution_count": 52,
   "id": "23a09902-2805-4ed2-bf08-206b76da8809",
   "metadata": {},
   "outputs": [
    {
     "name": "stdin",
     "output_type": "stream",
     "text": [
      "Enter your choice (rock/paper/scissors):  rock\n"
     ]
    },
    {
     "name": "stdout",
     "output_type": "stream",
     "text": [
      "Computer's choice: scissors\n",
      "You win!\n"
     ]
    }
   ],
   "source": [
    "import random\n",
    "\n",
    "def rock_paper_scissors(player_choice):\n",
    "    choices = ['rock', 'paper', 'scissors']\n",
    "    computer_choice = random.choice(choices)\n",
    "\n",
    "    print(\"Computer's choice:\", computer_choice)\n",
    "\n",
    "    if player_choice == computer_choice:\n",
    "        return \"It's a tie!\"\n",
    "    elif (player_choice == 'rock' and computer_choice == 'scissors') or \\\n",
    "         (player_choice == 'paper' and computer_choice == 'rock') or \\\n",
    "         (player_choice == 'scissors' and computer_choice == 'paper'):\n",
    "        return \"You win!\"\n",
    "    else:\n",
    "        return \"Computer wins!\"\n",
    "\n",
    "# Test the function\n",
    "player_choice = input(\"Enter your choice (rock/paper/scissors): \").lower()\n",
    "print(rock_paper_scissors(player_choice))\n"
   ]
  },
  {
   "cell_type": "code",
   "execution_count": 53,
   "id": "485d2174-7a27-47d1-99b7-64b5be1bbf70",
   "metadata": {},
   "outputs": [
    {
     "name": "stdin",
     "output_type": "stream",
     "text": [
      "Enter the length of the password:  5\n",
      "Enter the complexity level (low/medium/high):  high\n"
     ]
    },
    {
     "name": "stdout",
     "output_type": "stream",
     "text": [
      "Generated password: &Luo)\n"
     ]
    }
   ],
   "source": [
    "import random\n",
    "import string\n",
    "\n",
    "def generate_password(length=8, complexity='medium'):\n",
    "    if complexity == 'low':\n",
    "        characters = string.ascii_letters + string.digits\n",
    "    elif complexity == 'medium':\n",
    "        characters = string.ascii_letters + string.digits + string.punctuation\n",
    "    else:\n",
    "        characters = string.ascii_letters + string.digits + string.punctuation + '£$€'\n",
    "    return ''.join(random.choice(characters) for _ in range(length))\n",
    "\n",
    "# Test the function\n",
    "password_length = int(input(\"Enter the length of the password: \"))\n",
    "password_complexity = input(\"Enter the complexity level (low/medium/high): \").lower()\n",
    "print(\"Generated password:\", generate_password(password_length, password_complexity))\n"
   ]
  },
  {
   "cell_type": "code",
   "execution_count": 54,
   "id": "88ff5338-4c6f-4acf-964f-752a4eae8398",
   "metadata": {},
   "outputs": [
    {
     "name": "stdout",
     "output_type": "stream",
     "text": [
      "Welcome to the Adventure Game!\n",
      "You find yourself in a dark cave. You see two paths ahead.\n"
     ]
    },
    {
     "name": "stdin",
     "output_type": "stream",
     "text": [
      "Which path will you take? (left/right):  right\n"
     ]
    },
    {
     "name": "stdout",
     "output_type": "stream",
     "text": [
      "You hear a growling sound.\n",
      "Oh no! It's a hungry bear!\n"
     ]
    }
   ],
   "source": [
    "def adventure_game():\n",
    "    print(\"Welcome to the Adventure Game!\")\n",
    "    print(\"You find yourself in a dark cave. You see two paths ahead.\")\n",
    "\n",
    "    choice = input(\"Which path will you take? (left/right): \").lower()\n",
    "\n",
    "    if choice == 'left':\n",
    "        print(\"You encounter a treasure chest!\")\n",
    "        print(\"Congratulations! You found the treasure.\")\n",
    "    elif choice == 'right':\n",
    "        print(\"You hear a growling sound.\")\n",
    "        print(\"Oh no! It's a hungry bear!\")\n",
    "    else:\n",
    "        print(\"Invalid choice. Please choose 'left' or 'right'.\")\n",
    "\n",
    "# Run the game\n",
    "adventure_game()\n"
   ]
  },
  {
   "cell_type": "code",
   "execution_count": 55,
   "id": "565a3041-4e05-4ed4-8460-61bddfe442b3",
   "metadata": {},
   "outputs": [
    {
     "name": "stdin",
     "output_type": "stream",
     "text": [
      "Enter the coefficient of x:  4\n",
      "Enter the constant term:  7\n"
     ]
    },
    {
     "name": "stdout",
     "output_type": "stream",
     "text": [
      "Solution: x = -1.75\n"
     ]
    }
   ],
   "source": [
    "def solve_linear_equation(a, b):\n",
    "    if a == 0:\n",
    "        if b == 0:\n",
    "            return \"Infinite solutions (all real numbers)\"\n",
    "        else:\n",
    "            return \"No solution\"\n",
    "    else:\n",
    "        x = -b / a\n",
    "        return f\"x = {x}\"\n",
    "\n",
    "# Test the function\n",
    "a = float(input(\"Enter the coefficient of x: \"))\n",
    "b = float(input(\"Enter the constant term: \"))\n",
    "print(\"Solution:\", solve_linear_equation(a, b))\n"
   ]
  },
  {
   "cell_type": "code",
   "execution_count": 56,
   "id": "bc8ba3d3-c278-44dd-9f8d-eb49e622f00b",
   "metadata": {},
   "outputs": [
    {
     "name": "stdout",
     "output_type": "stream",
     "text": [
      "What is the capital of France?\n"
     ]
    },
    {
     "name": "stdin",
     "output_type": "stream",
     "text": [
      "Your answer:  Delhi\n"
     ]
    },
    {
     "name": "stdout",
     "output_type": "stream",
     "text": [
      "Incorrect!\n",
      "Who wrote 'Romeo and Juliet'?\n"
     ]
    },
    {
     "name": "stdin",
     "output_type": "stream",
     "text": [
      "Your answer:  me\n"
     ]
    },
    {
     "name": "stdout",
     "output_type": "stream",
     "text": [
      "Incorrect!\n",
      "What is the chemical symbol for water?\n"
     ]
    },
    {
     "name": "stdin",
     "output_type": "stream",
     "text": [
      "Your answer:  d\n"
     ]
    },
    {
     "name": "stdout",
     "output_type": "stream",
     "text": [
      "Incorrect!\n",
      "Quiz completed!\n",
      "Your score: 0\n"
     ]
    }
   ],
   "source": [
    "def quiz_game():\n",
    "    questions = {\n",
    "        \"What is the capital of France?\": \"Paris\",\n",
    "        \"Who wrote 'Romeo and Juliet'?\": \"William Shakespeare\",\n",
    "        \"What is the chemical symbol for water?\": \"H2O\"\n",
    "    }\n",
    "\n",
    "    score = 0\n",
    "    for question, answer in questions.items():\n",
    "        print(question)\n",
    "        user_answer = input(\"Your answer: \")\n",
    "        if user_answer.lower() == answer.lower():\n",
    "            print(\"Correct!\")\n",
    "            score += 1\n",
    "        else:\n",
    "            print(\"Incorrect!\")\n",
    "\n",
    "    print(\"Quiz completed!\")\n",
    "    print(\"Your score:\", score)\n",
    "\n",
    "# Run the quiz game\n",
    "quiz_game()\n"
   ]
  },
  {
   "cell_type": "code",
   "execution_count": 57,
   "id": "3c13a729-f1f1-4890-98ee-abe669f88495",
   "metadata": {},
   "outputs": [
    {
     "name": "stdin",
     "output_type": "stream",
     "text": [
      "Enter the year:  2024\n"
     ]
    },
    {
     "name": "stdout",
     "output_type": "stream",
     "text": [
      "Not a prime year.\n"
     ]
    }
   ],
   "source": [
    "def is_prime_year(year):\n",
    "    if year <= 1:\n",
    "        return False\n",
    "    for i in range(2, year):\n",
    "        if year % i == 0:\n",
    "            return False\n",
    "    return True\n",
    "\n",
    "# Test the function\n",
    "year = int(input(\"Enter the year: \"))\n",
    "if is_prime_year(year):\n",
    "    print(\"Prime year!\")\n",
    "else:\n",
    "    print(\"Not a prime year.\")\n"
   ]
  },
  {
   "cell_type": "code",
   "execution_count": 58,
   "id": "0b4c6b80-9828-4e20-a710-48405d7ec7e9",
   "metadata": {},
   "outputs": [
    {
     "name": "stdin",
     "output_type": "stream",
     "text": [
      "Enter the first number:  56\n",
      "Enter the second number:  76\n",
      "Enter the third number:  89\n"
     ]
    },
    {
     "name": "stdout",
     "output_type": "stream",
     "text": [
      "Sorted numbers: (56.0, 76.0, 89.0)\n"
     ]
    }
   ],
   "source": [
    "def sort_numbers(a, b, c):\n",
    "    if a <= b <= c:\n",
    "        return a, b, c\n",
    "    elif a <= c <= b:\n",
    "        return a, c, b\n",
    "    elif b <= a <= c:\n",
    "        return b, a, c\n",
    "    elif b <= c <= a:\n",
    "        return b, c, a\n",
    "    elif c <= a <= b:\n",
    "        return c, a, b\n",
    "    else:\n",
    "        return c, b, a\n",
    "\n",
    "# Test the function\n",
    "num1 = float(input(\"Enter the first number: \"))\n",
    "num2 = float(input(\"Enter the second number: \"))\n",
    "num3 = float(input(\"Enter the third number: \"))\n",
    "\n",
    "sorted_nums = sort_numbers(num1, num2, num3)\n",
    "print(\"Sorted numbers:\", sorted_nums)\n"
   ]
  },
  {
   "cell_type": "code",
   "execution_count": 59,
   "id": "e873892f-1b64-469f-9c7c-261f203d7c14",
   "metadata": {},
   "outputs": [
    {
     "name": "stdout",
     "output_type": "stream",
     "text": [
      "Roots of the quartic equation: None\n"
     ]
    }
   ],
   "source": [
    "def solve_quartic_equation(a, b, c, d, e):\n",
    "    # Code to solve quartic equation\n",
    "    pass\n",
    "\n",
    "# Example usage\n",
    "a = 1\n",
    "b = 2\n",
    "c = 3\n",
    "d = 4\n",
    "e = 5\n",
    "roots = solve_quartic_equation(a, b, c, d, e)\n",
    "print(\"Roots of the quartic equation:\", roots)\n"
   ]
  },
  {
   "cell_type": "code",
   "execution_count": 60,
   "id": "2ec10607-abb7-4f51-aaf6-3d9c8918b6c7",
   "metadata": {},
   "outputs": [
    {
     "name": "stdin",
     "output_type": "stream",
     "text": [
      "Enter your weight in kilograms:  80\n",
      "Enter your height in meters:  175\n"
     ]
    },
    {
     "name": "stdout",
     "output_type": "stream",
     "text": [
      "Your BMI: 0.0026122448979591837\n",
      "Recommendations: Underweight - You may need to gain weight.\n"
     ]
    }
   ],
   "source": [
    "def calculate_bmi(weight, height):\n",
    "    bmi = weight / (height ** 2)\n",
    "    return bmi\n",
    "\n",
    "def bmi_recommendations(bmi):\n",
    "    if bmi < 18.5:\n",
    "        return \"Underweight - You may need to gain weight.\"\n",
    "    elif 18.5 <= bmi < 25:\n",
    "        return \"Normal weight - Keep up the good work!\"\n",
    "    elif 25 <= bmi < 30:\n",
    "        return \"Overweight - Consider losing some weight for better health.\"\n",
    "    else:\n",
    "        return \"Obese - It's important to prioritize weight loss for better health.\"\n",
    "\n",
    "# Test the functions\n",
    "weight = float(input(\"Enter your weight in kilograms: \"))\n",
    "height = float(input(\"Enter your height in meters: \"))\n",
    "bmi = calculate_bmi(weight, height)\n",
    "print(\"Your BMI:\", bmi)\n",
    "print(\"Recommendations:\", bmi_recommendations(bmi))\n"
   ]
  },
  {
   "cell_type": "code",
   "execution_count": null,
   "id": "b360d756-2008-42fc-a994-dedadc8049e7",
   "metadata": {},
   "outputs": [],
   "source": [
    "31. Create a program that validates a password based on complexity rules (length, characters, etc.).\n",
    "32. Develop a program that performs matrix addition and subtraction based on user input.\n",
    "33. Write a program that calculates the greatest common divisor (GCD) of two numbers using the Euclidean\n",
    "algorithm.\n",
    "34. Build a program that performs matrix multiplication using nested loops and conditional statements.\n",
    "35. Create a program that simulates a basic text-based tic-tac-toe game against the computer.\n",
    "36. Write a program that generates Fibonacci numbers up to a specified term using iterative methods.\n",
    "37. Develop a program that calculates the nth term of the Fibonacci sequence using memoization.\n",
    "38. Create a program that generates a calendar for a given month and year using conditional statements.\n",
    "39. Build a program that simulates a basic text-based blackjack game against the computer.\n",
    "40. Write a program that generates the prime factors of a given number using trial division."
   ]
  },
  {
   "cell_type": "code",
   "execution_count": 62,
   "id": "d701038e-ddea-4957-a388-e88df84b8781",
   "metadata": {},
   "outputs": [
    {
     "name": "stdin",
     "output_type": "stream",
     "text": [
      "Enter your password:  password\n"
     ]
    },
    {
     "name": "stdout",
     "output_type": "stream",
     "text": [
      "Invalid password\n"
     ]
    }
   ],
   "source": [
    "import re\n",
    "\n",
    "def validate_password(password):\n",
    "    # Password must be at least 8 characters long\n",
    "    if len(password) < 8:\n",
    "        return False\n",
    "    # Password must contain at least one uppercase letter\n",
    "    if not re.search(\"[A-Z]\", password):\n",
    "        return False\n",
    "    # Password must contain at least one lowercase letter\n",
    "    if not re.search(\"[a-z]\", password):\n",
    "        return False\n",
    "    # Password must contain at least one digit\n",
    "    if not re.search(\"[0-9]\", password):\n",
    "        return False\n",
    "    # Password must contain at least one special character\n",
    "    if not re.search(\"[!@#$%^&*()-_+=]\", password):\n",
    "        return False\n",
    "    return True\n",
    "\n",
    "# Test the function\n",
    "password = input(\"Enter your password: \")\n",
    "if validate_password(password):\n",
    "    print(\"Valid password\")\n",
    "else:\n",
    "    print(\"Invalid password\")\n"
   ]
  },
  {
   "cell_type": "code",
   "execution_count": 63,
   "id": "2cdafbda-775b-4bb4-8ade-4d728052dca6",
   "metadata": {},
   "outputs": [
    {
     "name": "stdout",
     "output_type": "stream",
     "text": [
      "Matrix addition: [[6, 8], [10, 12]]\n",
      "Matrix subtraction: [[-4, -4], [-4, -4]]\n"
     ]
    }
   ],
   "source": [
    "def matrix_addition(matrix1, matrix2):\n",
    "    result = [[0 for _ in range(len(matrix1[0]))] for _ in range(len(matrix1))]\n",
    "    for i in range(len(matrix1)):\n",
    "        for j in range(len(matrix1[0])):\n",
    "            result[i][j] = matrix1[i][j] + matrix2[i][j]\n",
    "    return result\n",
    "\n",
    "def matrix_subtraction(matrix1, matrix2):\n",
    "    result = [[0 for _ in range(len(matrix1[0]))] for _ in range(len(matrix1))]\n",
    "    for i in range(len(matrix1)):\n",
    "        for j in range(len(matrix1[0])):\n",
    "            result[i][j] = matrix1[i][j] - matrix2[i][j]\n",
    "    return result\n",
    "\n",
    "# Test the functions\n",
    "matrix1 = [[1, 2], [3, 4]]\n",
    "matrix2 = [[5, 6], [7, 8]]\n",
    "print(\"Matrix addition:\", matrix_addition(matrix1, matrix2))\n",
    "print(\"Matrix subtraction:\", matrix_subtraction(matrix1, matrix2))\n"
   ]
  },
  {
   "cell_type": "code",
   "execution_count": 64,
   "id": "59e67470-0ed5-495a-b2be-fbf8b984c707",
   "metadata": {},
   "outputs": [
    {
     "name": "stdin",
     "output_type": "stream",
     "text": [
      "Enter the first number:  5\n",
      "Enter the second number:  66\n"
     ]
    },
    {
     "name": "stdout",
     "output_type": "stream",
     "text": [
      "GCD: 1\n"
     ]
    }
   ],
   "source": [
    "def gcd(a, b):\n",
    "    while b:\n",
    "        a, b = b, a % b\n",
    "    return a\n",
    "\n",
    "# Test the function\n",
    "num1 = int(input(\"Enter the first number: \"))\n",
    "num2 = int(input(\"Enter the second number: \"))\n",
    "print(\"GCD:\", gcd(num1, num2))\n"
   ]
  },
  {
   "cell_type": "code",
   "execution_count": 65,
   "id": "adb896f8-4ddb-4ca9-9656-e9ed4cba64cc",
   "metadata": {},
   "outputs": [
    {
     "name": "stdout",
     "output_type": "stream",
     "text": [
      "Matrix multiplication: [[19, 22], [43, 50]]\n"
     ]
    }
   ],
   "source": [
    "def matrix_multiplication(matrix1, matrix2):\n",
    "    result = [[0 for _ in range(len(matrix2[0]))] for _ in range(len(matrix1))]\n",
    "    for i in range(len(matrix1)):\n",
    "        for j in range(len(matrix2[0])):\n",
    "            for k in range(len(matrix2)):\n",
    "                result[i][j] += matrix1[i][k] * matrix2[k][j]\n",
    "    return result\n",
    "\n",
    "# Test the function\n",
    "matrix1 = [[1, 2], [3, 4]]\n",
    "matrix2 = [[5, 6], [7, 8]]\n",
    "print(\"Matrix multiplication:\", matrix_multiplication(matrix1, matrix2))\n"
   ]
  },
  {
   "cell_type": "markdown",
   "id": "a40133b0-f471-409e-a79c-e4e1c5afe64f",
   "metadata": {},
   "source": [
    "# import random\n",
    "\n",
    "def print_board(board):\n",
    "    for row in board:\n",
    "        print(\" | \".join(row))\n",
    "        print(\"-\" * 5)\n",
    "\n",
    "def check_winner(board, player):\n",
    "    for row in board:\n",
    "        if all(cell == player for cell in row):\n",
    "            return True\n",
    "    for col in range(3):\n",
    "        if all(board[row][col] == player for row in range(3)):\n",
    "            return True\n",
    "    if all(board[i][i] == player for i in range(3)) or \\\n",
    "       all(board[i][2 - i] == player for i in range(3)):\n",
    "        return True\n",
    "    return False\n",
    "\n",
    "def tic_tac_toe():\n",
    "    board = [[\" \" for _ in range(3)] for _ in range(3)]\n",
    "    print(\"Welcome to Tic-Tac-Toe!\")\n",
    "    print_board(board)\n",
    "    players = ['X', 'O']\n",
    "    current_player = random.choice(players)\n",
    "    while True:\n",
    "        print(f\"Player {current_player}'s turn\")\n",
    "        row = int(input(\"Enter row (1-3): \")) - 1\n",
    "        col = int(input(\"Enter column (1-3): \")) - 1\n",
    "        if board[row][col] == \" \":\n",
    "            board[row][col] = current_player\n",
    "            print_board(board)\n",
    "            if check_winner(board, current_player):\n",
    "                print(f\"Player {current_player} wins!\")\n",
    "                break\n",
    "            if all(all(cell != \" \" for cell in row) for row in board):\n",
    "                print(\"It's a tie!\")\n",
    "                break\n",
    "            current_player = 'X' if current_player == 'O' else 'O'\n",
    "        else:\n",
    "            print(\"That cell is already occupied. Try again.\")\n",
    "\n",
    "# Run the game\n",
    "tic_tac_toe()\n"
   ]
  },
  {
   "cell_type": "code",
   "execution_count": 69,
   "id": "2de90fb7-1f6c-463b-8e56-030002e8c57a",
   "metadata": {},
   "outputs": [
    {
     "name": "stdin",
     "output_type": "stream",
     "text": [
      "Enter the number of Fibonacci terms to generate:  5\n"
     ]
    },
    {
     "name": "stdout",
     "output_type": "stream",
     "text": [
      "Fibonacci sequence: [0, 1, 1, 2, 3]\n"
     ]
    }
   ],
   "source": [
    "def generate_fibonacci(n):\n",
    "    fib_sequence = [0, 1]\n",
    "    for _ in range(2, n):\n",
    "        fib_sequence.append(fib_sequence[-1] + fib_sequence[-2])\n",
    "    return fib_sequence\n",
    "\n",
    "# Test the function\n",
    "n = int(input(\"Enter the number of Fibonacci terms to generate: \"))\n",
    "print(\"Fibonacci sequence:\", generate_fibonacci(n))\n"
   ]
  },
  {
   "cell_type": "code",
   "execution_count": 70,
   "id": "6eed3ec6-8e57-4612-96c3-352dd9f9d18b",
   "metadata": {},
   "outputs": [
    {
     "name": "stdin",
     "output_type": "stream",
     "text": [
      "Enter the value of n:  6\n"
     ]
    },
    {
     "name": "stdout",
     "output_type": "stream",
     "text": [
      "The 6th Fibonacci term is: 8\n"
     ]
    }
   ],
   "source": [
    "memo = {0: 0, 1: 1}\n",
    "\n",
    "def fibonacci(n):\n",
    "    if n not in memo:\n",
    "        memo[n] = fibonacci(n - 1) + fibonacci(n - 2)\n",
    "    return memo[n]\n",
    "\n",
    "# Test the function\n",
    "n = int(input(\"Enter the value of n: \"))\n",
    "print(f\"The {n}th Fibonacci term is:\", fibonacci(n))\n"
   ]
  },
  {
   "cell_type": "code",
   "execution_count": 71,
   "id": "06006ff2-bfe7-4a9d-96dc-ef1a855936e1",
   "metadata": {},
   "outputs": [
    {
     "name": "stdin",
     "output_type": "stream",
     "text": [
      "Enter the year:  1999\n",
      "Enter the month:  3\n"
     ]
    },
    {
     "name": "stdout",
     "output_type": "stream",
     "text": [
      "     March 1999\n",
      "Mo Tu We Th Fr Sa Su\n",
      " 1  2  3  4  5  6  7\n",
      " 8  9 10 11 12 13 14\n",
      "15 16 17 18 19 20 21\n",
      "22 23 24 25 26 27 28\n",
      "29 30 31\n",
      "\n"
     ]
    }
   ],
   "source": [
    "import calendar\n",
    "\n",
    "def generate_calendar(year, month):\n",
    "    print(calendar.month(year, month))\n",
    "\n",
    "# Test the function\n",
    "year = int(input(\"Enter the year: \"))\n",
    "month = int(input(\"Enter the month: \"))\n",
    "generate_calendar(year, month)\n"
   ]
  },
  {
   "cell_type": "code",
   "execution_count": 73,
   "id": "5fc644a9-8278-4a4c-9663-39349bc1653d",
   "metadata": {},
   "outputs": [
    {
     "name": "stdout",
     "output_type": "stream",
     "text": [
      "Player's cards: [1, 2]\n",
      "Dealer's cards: [5, '*']\n"
     ]
    },
    {
     "name": "stdin",
     "output_type": "stream",
     "text": [
      "Hit or Stand? (h/s):  s\n"
     ]
    },
    {
     "name": "stdout",
     "output_type": "stream",
     "text": [
      "Dealer's cards: [5, 9, 7]\n",
      "Dealer wins!\n"
     ]
    }
   ],
   "source": [
    "import random\n",
    "\n",
    "def draw_card():\n",
    "    return random.randint(1, 11)\n",
    "\n",
    "def play_blackjack():\n",
    "    player_cards = [draw_card(), draw_card()]\n",
    "    dealer_cards = [draw_card(), draw_card()]\n",
    "    print(\"Player's cards:\", player_cards)\n",
    "    print(\"Dealer's cards:\", [dealer_cards[0], \"*\"])\n",
    "    while True:\n",
    "        choice = input(\"Hit or Stand? (h/s): \").lower()\n",
    "        if choice == 'h':\n",
    "            player_cards.append(draw_card())\n",
    "            print(\"Player's cards:\", player_cards)\n",
    "            if sum(player_cards) > 21:\n",
    "                print(\"Bust! You lose.\")\n",
    "                break\n",
    "        elif choice == 's':\n",
    "            while sum(dealer_cards) < 17:\n",
    "                dealer_cards.append(draw_card())\n",
    "            print(\"Dealer's cards:\", dealer_cards)\n",
    "            if sum(dealer_cards) > 21 or sum(dealer_cards) < sum(player_cards):\n",
    "                print(\"You win!\")\n",
    "            elif sum(dealer_cards) > sum(player_cards):\n",
    "                print(\"Dealer wins!\")\n",
    "            else:\n",
    "                print(\"It's a tie!\")\n",
    "            break\n",
    "        else:\n",
    "            print(\"Invalid choice. Please enter 'h' or 's'.\")\n",
    "\n",
    "# Run the game\n",
    "play_blackjack()\n"
   ]
  },
  {
   "cell_type": "code",
   "execution_count": 75,
   "id": "50093ae7-56da-4672-848d-c5d4d2c2127b",
   "metadata": {},
   "outputs": [
    {
     "name": "stdin",
     "output_type": "stream",
     "text": [
      "Enter a number:  55\n"
     ]
    },
    {
     "name": "stdout",
     "output_type": "stream",
     "text": [
      "Prime factors: [5, 11]\n"
     ]
    }
   ],
   "source": [
    "def prime_factors(n):\n",
    "    factors = []\n",
    "    divisor = 2\n",
    "    while n > 1:\n",
    "        while n % divisor == 0:\n",
    "            factors.append(divisor)\n",
    "            n //= divisor\n",
    "        divisor += 1\n",
    "    return factors\n",
    "\n",
    "# Test the function\n",
    "number = int(input(\"Enter a number: \"))\n",
    "print(\"Prime factors:\", prime_factors(number))\n"
   ]
  },
  {
   "cell_type": "code",
   "execution_count": null,
   "id": "20cf01ab-aaa7-4a5d-9e75-2266cf950111",
   "metadata": {},
   "outputs": [],
   "source": []
  }
 ],
 "metadata": {
  "kernelspec": {
   "display_name": "Python 3 (ipykernel)",
   "language": "python",
   "name": "python3"
  },
  "language_info": {
   "codemirror_mode": {
    "name": "ipython",
    "version": 3
   },
   "file_extension": ".py",
   "mimetype": "text/x-python",
   "name": "python",
   "nbconvert_exporter": "python",
   "pygments_lexer": "ipython3",
   "version": "3.10.8"
  }
 },
 "nbformat": 4,
 "nbformat_minor": 5
}
