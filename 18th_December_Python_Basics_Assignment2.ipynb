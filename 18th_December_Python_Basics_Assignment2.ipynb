{
 "cells": [
  {
   "cell_type": "markdown",
   "id": "ebabfa72-4601-4862-b8e5-8ad9b1ff4e44",
   "metadata": {},
   "source": [
    "TOPIC: String Based Assignment Problem"
   ]
  },
  {
   "cell_type": "markdown",
   "id": "8e9bf94a-311d-49a3-b4d0-4c073bbd0cf2",
   "metadata": {},
   "source": [
    "1. Write a program to reverse a string."
   ]
  },
  {
   "cell_type": "code",
   "execution_count": 2,
   "id": "1b9430bc-1bee-4b24-a554-b2b61a8173b8",
   "metadata": {},
   "outputs": [
    {
     "name": "stdin",
     "output_type": "stream",
     "text": [
      "Enter any String:  Bishwajit\n"
     ]
    },
    {
     "name": "stdout",
     "output_type": "stream",
     "text": [
      "tijawhsiB\n"
     ]
    }
   ],
   "source": [
    "String = input(\"Enter any String: \")\n",
    "Reverse_String = String[::-1]\n",
    "print(Reverse_String)"
   ]
  },
  {
   "cell_type": "markdown",
   "id": "48c21613-98b5-48ca-8fdb-89b5177511c6",
   "metadata": {},
   "source": [
    "2. Check if a string is a palindrome."
   ]
  },
  {
   "cell_type": "code",
   "execution_count": 6,
   "id": "067b16d7-66da-4415-affd-6032de0129c3",
   "metadata": {},
   "outputs": [
    {
     "name": "stdin",
     "output_type": "stream",
     "text": [
      "Enter any String:  BishsiB\n"
     ]
    },
    {
     "name": "stdout",
     "output_type": "stream",
     "text": [
      "Yes this is Palindrome String\n"
     ]
    }
   ],
   "source": [
    "def isPalindrome(String):\n",
    "    return String == String[::-1]\n",
    "String = input(\"Enter any String: \")\n",
    "Result = isPalindrome(String)\n",
    " \n",
    "if Result:\n",
    "    print(\"Yes this is Palindrome String\")\n",
    "else:\n",
    "    print(\"No this is not Palindrome String\")"
   ]
  },
  {
   "cell_type": "markdown",
   "id": "427b4a16-c141-4068-8e6b-f9f19c6d9aa4",
   "metadata": {},
   "source": [
    "3. Convert a string to uppercase."
   ]
  },
  {
   "cell_type": "code",
   "execution_count": 1,
   "id": "8fc9e663-5e9c-43be-9a71-13918501b1a9",
   "metadata": {},
   "outputs": [
    {
     "name": "stdin",
     "output_type": "stream",
     "text": [
      "Enter any string Bishwajit\n"
     ]
    }
   ],
   "source": [
    "s = input(\"Enter any string\")"
   ]
  },
  {
   "cell_type": "code",
   "execution_count": 2,
   "id": "ae194172-c433-4bf9-a8c4-76e30ae8cbbc",
   "metadata": {},
   "outputs": [
    {
     "data": {
      "text/plain": [
       "'BISHWAJIT'"
      ]
     },
     "execution_count": 2,
     "metadata": {},
     "output_type": "execute_result"
    }
   ],
   "source": [
    "s.upper()"
   ]
  },
  {
   "cell_type": "markdown",
   "id": "132fdc51-6fe7-4ad0-9fd2-32004bae0980",
   "metadata": {},
   "source": [
    "4. Convert a string to lowercase."
   ]
  },
  {
   "cell_type": "code",
   "execution_count": 3,
   "id": "4ade9865-f3ca-4255-b6ef-e8e275aca3cd",
   "metadata": {},
   "outputs": [
    {
     "data": {
      "text/plain": [
       "'Bishwajit'"
      ]
     },
     "execution_count": 3,
     "metadata": {},
     "output_type": "execute_result"
    }
   ],
   "source": [
    "s"
   ]
  },
  {
   "cell_type": "code",
   "execution_count": 4,
   "id": "fe6d77d1-98ee-4f50-96ff-34bfd1fd1202",
   "metadata": {},
   "outputs": [
    {
     "data": {
      "text/plain": [
       "'bishwajit'"
      ]
     },
     "execution_count": 4,
     "metadata": {},
     "output_type": "execute_result"
    }
   ],
   "source": [
    "s.lower()"
   ]
  },
  {
   "cell_type": "markdown",
   "id": "135e4a74-25ff-4681-a2b6-05006caf99a8",
   "metadata": {},
   "source": [
    "5. Count the number of vowels in a string."
   ]
  },
  {
   "cell_type": "code",
   "execution_count": 6,
   "id": "80cae6d7-7f4b-40bd-b144-a2e96bccb0b7",
   "metadata": {},
   "outputs": [
    {
     "name": "stdin",
     "output_type": "stream",
     "text": [
      "Enter any string Bishwajit Kumar\n"
     ]
    },
    {
     "name": "stdout",
     "output_type": "stream",
     "text": [
      "5\n"
     ]
    }
   ],
   "source": [
    "s1 = input(\"Enter any string\")\n",
    "vowels = \"aeiouAEIOU\"\n",
    "\n",
    "count = sum(s1.count(vowel) for vowel in vowels)\n",
    "print(count)\n"
   ]
  },
  {
   "cell_type": "markdown",
   "id": "93b1d9ae-2326-4b57-b7ed-19d312cc128b",
   "metadata": {},
   "source": [
    "6. Count the number of consonants in a string."
   ]
  },
  {
   "cell_type": "code",
   "execution_count": 13,
   "id": "f9a5d47e-e370-4a86-bdb1-4d3bdb15dc47",
   "metadata": {},
   "outputs": [
    {
     "name": "stdin",
     "output_type": "stream",
     "text": [
      "Enter any string Bishwajit Kumar\n"
     ]
    },
    {
     "name": "stdout",
     "output_type": "stream",
     "text": [
      "Total no consonants are 9\n"
     ]
    }
   ],
   "source": [
    "vcount = 0;  \n",
    "ccount = 0;  \n",
    "str = input(\"Enter any string\")\n",
    "  \n",
    "str = str.lower();  \n",
    "for i in range(0,len(str)):   \n",
    "   \n",
    "    if str[i] in ('a',\"e\",\"i\",\"o\",\"u\"):  \n",
    "        vcount = vcount + 1;  \n",
    "    elif (str[i] >= 'a' and str[i] <= 'z'):  \n",
    "        ccount = ccount + 1;  \n",
    "print(\"Total no consonants are\", ccount );  "
   ]
  },
  {
   "cell_type": "markdown",
   "id": "47094e22-eed6-4956-8f9c-416ea5ab8cb1",
   "metadata": {},
   "source": [
    "7. Remove all whitespaces from a string."
   ]
  },
  {
   "cell_type": "code",
   "execution_count": 14,
   "id": "6b64d54f-cfc4-4897-9f80-181399c5d6cb",
   "metadata": {},
   "outputs": [
    {
     "data": {
      "text/plain": [
       "'aeioub'"
      ]
     },
     "execution_count": 14,
     "metadata": {},
     "output_type": "execute_result"
    }
   ],
   "source": [
    "s2"
   ]
  },
  {
   "cell_type": "code",
   "execution_count": 16,
   "id": "a52fa60a-4b48-4b86-90a8-76ad9410c13c",
   "metadata": {},
   "outputs": [],
   "source": [
    "S5 = \"bish wa jit kumar\""
   ]
  },
  {
   "cell_type": "code",
   "execution_count": 17,
   "id": "8c4c18fa-9132-4cc5-b253-a9a83f33ffff",
   "metadata": {},
   "outputs": [
    {
     "data": {
      "text/plain": [
       "'bishwajitkumar'"
      ]
     },
     "execution_count": 17,
     "metadata": {},
     "output_type": "execute_result"
    }
   ],
   "source": [
    "S5.replace(\" \",\"\")"
   ]
  },
  {
   "cell_type": "markdown",
   "id": "eb218b57-197e-4804-ba7f-2ccb0ef72a18",
   "metadata": {},
   "source": [
    "8. Find the length of a string without using the `len()` function."
   ]
  },
  {
   "cell_type": "code",
   "execution_count": 18,
   "id": "a6c32c67-75cc-4fcd-b5c2-42d7f61d5c9d",
   "metadata": {},
   "outputs": [
    {
     "name": "stdin",
     "output_type": "stream",
     "text": [
      "Enter any string Bishwajit\n"
     ]
    },
    {
     "name": "stdout",
     "output_type": "stream",
     "text": [
      "9\n"
     ]
    }
   ],
   "source": [
    "S3 = input(\"Enter any string\")\n",
    "\n",
    "count = 0\n",
    "\n",
    "for i in S3:\n",
    " \n",
    "    count+=1\n",
    "print(count)"
   ]
  },
  {
   "cell_type": "markdown",
   "id": "39583aaf-957e-4917-ba61-d630f3d55084",
   "metadata": {},
   "source": [
    "9. Check if a string contains a specific word."
   ]
  },
  {
   "cell_type": "code",
   "execution_count": 27,
   "id": "22d889a8-4e54-4c4c-8a5e-5c0a1bf68741",
   "metadata": {},
   "outputs": [
    {
     "name": "stdin",
     "output_type": "stream",
     "text": [
      "Enter a string:  My name is Bishwajit\n",
      "Enter the specific word to check for:  Bishwajit\n"
     ]
    },
    {
     "name": "stdout",
     "output_type": "stream",
     "text": [
      "The string contains the word 'Bishwajit'.\n"
     ]
    }
   ],
   "source": [
    "input_string = input(\"Enter a string: \")\n",
    "specific_word = input(\"Enter the specific word to check for: \")\n",
    "\n",
    "if specific_word in input_string:\n",
    "    print(f\"The string contains the word '{specific_word}'.\")\n",
    "else:\n",
    "    print(f\"The string does not contain the word '{specific_word}'.\")"
   ]
  },
  {
   "cell_type": "markdown",
   "id": "580b9e2b-02d6-4082-8e6c-5ab934cca562",
   "metadata": {},
   "source": [
    "10. Replace a word in a string with another word."
   ]
  },
  {
   "cell_type": "code",
   "execution_count": 29,
   "id": "c691f6b3-4fd7-4107-b15d-43bced4dbe08",
   "metadata": {},
   "outputs": [
    {
     "name": "stdin",
     "output_type": "stream",
     "text": [
      "Enter a sentence:  My name is Bishwajit\n",
      "Enter the word to be replaced:  Bishwajit\n",
      "Enter the new word:  Bissu\n"
     ]
    },
    {
     "name": "stdout",
     "output_type": "stream",
     "text": [
      "Modified string: My name is Bissu\n"
     ]
    }
   ],
   "source": [
    "input_string = input(\"Enter a sentence: \")\n",
    "\n",
    "old_word = input(\"Enter the word to be replaced: \")\n",
    "new_word = input(\"Enter the new word: \")\n",
    "\n",
    "modified_string = input_string.replace(old_word, new_word)\n",
    "\n",
    "print(\"Modified string:\", modified_string)"
   ]
  },
  {
   "cell_type": "markdown",
   "id": "3094f8b4-e2ee-46ee-be14-9a3148a93532",
   "metadata": {},
   "source": [
    "11. Count the occurrences of a word in a string."
   ]
  },
  {
   "cell_type": "code",
   "execution_count": 3,
   "id": "702cf49e-0dfe-4393-9145-a00a1defed75",
   "metadata": {},
   "outputs": [
    {
     "name": "stdin",
     "output_type": "stream",
     "text": [
      "Enter your String Bishwajit 'Bishwajit'\n"
     ]
    },
    {
     "name": "stdout",
     "output_type": "stream",
     "text": [
      "The word 'Bishwajit' appears 1 times in the input string.\n"
     ]
    }
   ],
   "source": [
    "def count_word_occurrences(input_string, target_word):\n",
    "    word_count = 0\n",
    "    words = input_string.split()\n",
    "    for word in words:\n",
    "        if word == target_word:\n",
    "            word_count += 1\n",
    "    return word_count\n",
    "input_string = input(\"Enter your String\")\n",
    "\n",
    "target_word = \"Bishwajit\"\n",
    "\n",
    "result = count_word_occurrences(input_string, target_word)\n",
    "print(f\"The word '{target_word}' appears {result} times in the input string.\")"
   ]
  },
  {
   "cell_type": "markdown",
   "id": "01e8206d-e565-473e-86c1-6538a8a1dba6",
   "metadata": {},
   "source": [
    "12. Find the first occurrence of a word in a string."
   ]
  },
  {
   "cell_type": "code",
   "execution_count": 5,
   "id": "69f292d8-406c-488d-88bf-dd70818ecee2",
   "metadata": {},
   "outputs": [
    {
     "name": "stdout",
     "output_type": "stream",
     "text": [
      "Index of the first occurrence: 6\n"
     ]
    }
   ],
   "source": [
    "def find_first_occurrence(text, word):\n",
    "    index = text.find(word)\n",
    "    if index == -1:\n",
    "        return None \n",
    "    return index\n",
    "text = \"Bissu Hero hai.\"\n",
    "word = \"Hero\"\n",
    "result = find_first_occurrence(text, word)\n",
    "print(\"Index of the first occurrence:\", result)"
   ]
  },
  {
   "cell_type": "markdown",
   "id": "9b7913b8-c937-4d72-b575-27b75c20e7c0",
   "metadata": {},
   "source": [
    "13. Find the last occurrence of a word in a string."
   ]
  },
  {
   "cell_type": "code",
   "execution_count": 7,
   "id": "05250d20-09dc-4b01-8185-9021d8acf763",
   "metadata": {},
   "outputs": [
    {
     "name": "stdout",
     "output_type": "stream",
     "text": [
      "Index of the last occurrence: 28\n"
     ]
    }
   ],
   "source": [
    "def find_last_occurrence(text, word):\n",
    "    index = text.rfind(word)\n",
    "    if index == -1:\n",
    "        return None  \n",
    "    return index\n",
    "\n",
    "text = \"Bissu Hero hai or Bishwajit Hero hai\"\n",
    "word = \"Hero\"\n",
    "result = find_last_occurrence(text, word)\n",
    "print(\"Index of the last occurrence:\", result)"
   ]
  },
  {
   "cell_type": "markdown",
   "id": "3396774d-a8f5-484e-b6ad-22984ae766f5",
   "metadata": {},
   "source": [
    "14. Split a string into a list of words."
   ]
  },
  {
   "cell_type": "code",
   "execution_count": 8,
   "id": "7c64c8a3-4034-49ef-a0ff-df264877fb39",
   "metadata": {},
   "outputs": [
    {
     "data": {
      "text/plain": [
       "['My', 'name', 'is', 'Bishwajit']"
      ]
     },
     "execution_count": 8,
     "metadata": {},
     "output_type": "execute_result"
    }
   ],
   "source": [
    "S1 = \"My name is Bishwajit\"\n",
    "S1.split()"
   ]
  },
  {
   "cell_type": "markdown",
   "id": "142e6b5a-9841-4460-90c0-fdb0b056e70a",
   "metadata": {},
   "source": [
    "15. Join a list of words into a string."
   ]
  },
  {
   "cell_type": "code",
   "execution_count": 14,
   "id": "11645950-b892-498e-8eae-a877bf5d4744",
   "metadata": {},
   "outputs": [
    {
     "name": "stdout",
     "output_type": "stream",
     "text": [
      "My name is Bishwajit\n"
     ]
    }
   ],
   "source": [
    "S2 = [\"My\", \"name\", \"is\", \"Bishwajit\"]\n",
    "joined_string = ' '.join(S2)\n",
    "print(joined_string)"
   ]
  },
  {
   "cell_type": "markdown",
   "id": "d8d39a2c-f20c-483d-8444-0f96cd1c4f7a",
   "metadata": {},
   "source": [
    "16. Convert a string where words are separated by spaces to one where words are separated by underscores."
   ]
  },
  {
   "cell_type": "code",
   "execution_count": 15,
   "id": "b4244ef4-e82f-4792-9276-d70aae544a4c",
   "metadata": {},
   "outputs": [
    {
     "data": {
      "text/plain": [
       "'Jai_Shree_Ram'"
      ]
     },
     "execution_count": 15,
     "metadata": {},
     "output_type": "execute_result"
    }
   ],
   "source": [
    "S3 = \"Jai Shree Ram\"\n",
    "S3.replace(\" \",\"_\")"
   ]
  },
  {
   "cell_type": "markdown",
   "id": "fa7b4382-e114-4c1e-a149-65d0b5f030eb",
   "metadata": {},
   "source": [
    "17. Check if a string starts with a specific word or phrase."
   ]
  },
  {
   "cell_type": "code",
   "execution_count": 16,
   "id": "b13deb15-0354-4f2a-8c70-2808c305ba48",
   "metadata": {},
   "outputs": [
    {
     "name": "stdout",
     "output_type": "stream",
     "text": [
      "The text starts with the prefix.\n"
     ]
    }
   ],
   "source": [
    "def starts_with(text, prefix):\n",
    "    is_start = text.startswith(prefix)\n",
    "    return is_start\n",
    "text = \"Mr. Bishwajit Kumar\"\n",
    "prefix = \"Mr.\"\n",
    "result = starts_with(text, prefix)\n",
    "if result:\n",
    "    print(\"The text starts with the prefix.\")\n",
    "else:\n",
    "    print(\"The text does not start with the prefix.\")"
   ]
  },
  {
   "cell_type": "markdown",
   "id": "090458ee-92f2-4447-bacd-2fe839e4bb9c",
   "metadata": {},
   "source": [
    "18. Check if a string ends with a specific word or phrase."
   ]
  },
  {
   "cell_type": "code",
   "execution_count": 17,
   "id": "775214e0-e379-4e78-acdd-2e3ad5a5ee33",
   "metadata": {},
   "outputs": [
    {
     "name": "stdout",
     "output_type": "stream",
     "text": [
      "The text does not end with the suffix.\n"
     ]
    }
   ],
   "source": [
    "def ends_with(text, suffix):\n",
    "    is_end = text.endswith(suffix)\n",
    "    return is_end\n",
    "text = \"Mr. Bishwajit Kumar\"\n",
    "suffix = \"Mr.\"\n",
    "result = ends_with(text, suffix)\n",
    "if result:\n",
    "    print(\"The text ends with the suffix.\")\n",
    "else:\n",
    "    print(\"The text does not end with the suffix.\")"
   ]
  },
  {
   "cell_type": "markdown",
   "id": "82a34b4d-f49f-47da-8de3-a8f8889db31c",
   "metadata": {},
   "source": [
    "19. Convert a string to title case (e.g., \"hello world\" to \"Hello World\")."
   ]
  },
  {
   "cell_type": "code",
   "execution_count": 18,
   "id": "0e3dcb19-dfd1-4a0a-b0bf-e29785e32aa3",
   "metadata": {},
   "outputs": [
    {
     "data": {
      "text/plain": [
       "'Jai Shree Ram'"
      ]
     },
     "execution_count": 18,
     "metadata": {},
     "output_type": "execute_result"
    }
   ],
   "source": [
    "S3"
   ]
  },
  {
   "cell_type": "code",
   "execution_count": 20,
   "id": "cc52b955-915e-47f4-b397-6a40e80c0a8e",
   "metadata": {},
   "outputs": [
    {
     "data": {
      "text/plain": [
       "'Jai Shree Ram'"
      ]
     },
     "execution_count": 20,
     "metadata": {},
     "output_type": "execute_result"
    }
   ],
   "source": [
    "S4 = \"jai shree ram\"\n",
    "S4.title()"
   ]
  },
  {
   "cell_type": "markdown",
   "id": "fb26dbd7-dd3a-417d-85f7-50a31e4a663c",
   "metadata": {},
   "source": [
    "20. Find the longest word in a string."
   ]
  },
  {
   "cell_type": "code",
   "execution_count": 21,
   "id": "cf7ecf79-8625-4955-9d56-8b1ab8c2af50",
   "metadata": {},
   "outputs": [
    {
     "name": "stdout",
     "output_type": "stream",
     "text": [
      "Longest word: longest\n"
     ]
    }
   ],
   "source": [
    "def find_longest_word(text):\n",
    "    words = text.split()\n",
    "    longest_word = \"\"\n",
    "    max_length = 0\n",
    "    for word in words:\n",
    "        if len(word) > max_length:\n",
    "            max_length = len(word)\n",
    "            longest_word = word\n",
    "    return longest_word\n",
    "text = \"Find the longest word in a string.\"\n",
    "longest_word = find_longest_word(text)\n",
    "print(\"Longest word:\", longest_word)"
   ]
  },
  {
   "cell_type": "markdown",
   "id": "6e1477db-4c99-4769-9720-45c6c9b543ba",
   "metadata": {},
   "source": [
    "21. Find the shortest word in a string."
   ]
  },
  {
   "cell_type": "code",
   "execution_count": 22,
   "id": "ad0106d5-41f1-40e6-b761-ce4d06fe1172",
   "metadata": {},
   "outputs": [
    {
     "name": "stdout",
     "output_type": "stream",
     "text": [
      "Shortest word: a\n"
     ]
    }
   ],
   "source": [
    "def find_shortest_word(text):\n",
    "    words = text.split()\n",
    "    shortest_word = None\n",
    "    min_length = float('inf')  \n",
    "    for word in words:\n",
    "        if len(word) < min_length:\n",
    "            min_length = len(word)\n",
    "            shortest_word = word\n",
    "    return shortest_word\n",
    "text = \"Find the shortest word in a string.\"\n",
    "shortest_word = find_shortest_word(text)\n",
    "print(\"Shortest word:\", shortest_word)"
   ]
  },
  {
   "cell_type": "markdown",
   "id": "8ca0f090-bd51-4c70-807a-fe5e3f8339f1",
   "metadata": {},
   "source": [
    "22. Reverse the order of words in a string."
   ]
  },
  {
   "cell_type": "code",
   "execution_count": 26,
   "id": "27702b85-397b-4fdd-a65e-76bb93271946",
   "metadata": {},
   "outputs": [
    {
     "data": {
      "text/plain": [
       "'jai shree ram'"
      ]
     },
     "execution_count": 26,
     "metadata": {},
     "output_type": "execute_result"
    }
   ],
   "source": [
    "S4"
   ]
  },
  {
   "cell_type": "code",
   "execution_count": 27,
   "id": "c6a384a9-d090-4424-92af-bfaf3868c6c4",
   "metadata": {},
   "outputs": [
    {
     "name": "stdout",
     "output_type": "stream",
     "text": [
      "ram shree jai\n"
     ]
    }
   ],
   "source": [
    "s = S4.split()[::-1]\n",
    "l = []\n",
    "for i in s:\n",
    "\tl.append(i)\n",
    "print(\" \".join(l))"
   ]
  },
  {
   "cell_type": "markdown",
   "id": "c61595a3-f0f8-444d-b4e2-e84e9c458abe",
   "metadata": {},
   "source": [
    "23. Check if a string is alphanumeric."
   ]
  },
  {
   "cell_type": "code",
   "execution_count": 34,
   "id": "c3ba5f05-caa6-415c-99d8-39fc8ba49307",
   "metadata": {},
   "outputs": [
    {
     "name": "stdout",
     "output_type": "stream",
     "text": [
      "The string is alphanumeric.\n"
     ]
    }
   ],
   "source": [
    "def is_alphanumeric(text):\n",
    "    return text.isalnum()\n",
    "text = \"Bishu123\"\n",
    "result = is_alphanumeric(text)\n",
    "if result:\n",
    "    print(\"The string is alphanumeric.\")\n",
    "else:\n",
    "    print(\"The string is not alphanumeric.\")"
   ]
  },
  {
   "cell_type": "markdown",
   "id": "cd4307e4-35c3-4452-96a5-5acbe96f8413",
   "metadata": {},
   "source": [
    "24. Extract all digits from a string."
   ]
  },
  {
   "cell_type": "code",
   "execution_count": 35,
   "id": "a4dbb93d-8451-495b-a04c-be5bae8d5c76",
   "metadata": {},
   "outputs": [
    {
     "name": "stdout",
     "output_type": "stream",
     "text": [
      "Extracted digits: 6426455216452\n"
     ]
    }
   ],
   "source": [
    "def extract_digits(text):\n",
    "    digits = \"\"\n",
    "    for char in text:\n",
    "        if char.isdigit():\n",
    "            digits += char\n",
    "    return digits\n",
    "text = \"hdihh6426455216452grweufguwgfy\"\n",
    "extracted_digits = extract_digits(text)\n",
    "print(\"Extracted digits:\", extracted_digits)"
   ]
  },
  {
   "cell_type": "markdown",
   "id": "6e48c4b7-4473-46bc-aea3-4ddd1fd989d5",
   "metadata": {},
   "source": [
    "25. Extract all alphabets from a string."
   ]
  },
  {
   "cell_type": "code",
   "execution_count": 36,
   "id": "122d4569-ab1b-4a75-ba33-37ddffb550e7",
   "metadata": {},
   "outputs": [
    {
     "name": "stdout",
     "output_type": "stream",
     "text": [
      "B i s s u\n"
     ]
    }
   ],
   "source": [
    "def extract_alphabets(input_string):\n",
    "    alphabets = ' '.join([char for char in input_string if char.isalpha()])\n",
    "    return alphabets\n",
    "\n",
    "input_string = \"75472462B5352i5235s44s425453u4554\"\n",
    "result = extract_alphabets(input_string)\n",
    "print(result)"
   ]
  },
  {
   "cell_type": "markdown",
   "id": "9076d376-4b5e-43b4-996b-0410b413bfd0",
   "metadata": {},
   "source": [
    "26. Count the number of uppercase letters in a string."
   ]
  },
  {
   "cell_type": "code",
   "execution_count": 37,
   "id": "f061b385-09bf-4f6c-8e10-1495bac4745d",
   "metadata": {},
   "outputs": [
    {
     "name": "stdout",
     "output_type": "stream",
     "text": [
      "5\n"
     ]
    }
   ],
   "source": [
    "def count_uppercase(input_string):\n",
    "    uppercase_count = sum(1 for char in input_string if char.isupper())\n",
    "    return uppercase_count\n",
    "input_string = \"bhfadfnBIhhSShhU\"\n",
    "result = count_uppercase(input_string)\n",
    "print(result)"
   ]
  },
  {
   "cell_type": "markdown",
   "id": "7cda9dc3-0bfa-4442-bdfd-9637fd050b86",
   "metadata": {},
   "source": [
    "27. Count the number of lowercase letters in a string."
   ]
  },
  {
   "cell_type": "code",
   "execution_count": 38,
   "id": "51a3c35f-1637-49de-b069-d53ad6e212b2",
   "metadata": {},
   "outputs": [
    {
     "name": "stdout",
     "output_type": "stream",
     "text": [
      "13\n"
     ]
    }
   ],
   "source": [
    "def count_lowercase(input_string):\n",
    "    lowercase_count = sum(1 for char in input_string if char.islower())\n",
    "    return lowercase_count\n",
    "input_string = \"BokaroBishwajit\"\n",
    "result = count_lowercase(input_string)\n",
    "print(result)"
   ]
  },
  {
   "cell_type": "markdown",
   "id": "1ad0e38a-ed1f-43db-9129-b1ca63573ea5",
   "metadata": {},
   "source": [
    "28. Swap the case of each character in a string."
   ]
  },
  {
   "cell_type": "code",
   "execution_count": 39,
   "id": "d2ee54ba-90cc-433a-8781-870a10f84c80",
   "metadata": {},
   "outputs": [
    {
     "name": "stdout",
     "output_type": "stream",
     "text": [
      "bIssUbIshWAJIT\n"
     ]
    }
   ],
   "source": [
    "def swap_case(input_string):\n",
    "    swapped_string = input_string.swapcase()\n",
    "    return swapped_string\n",
    "\n",
    "input_string = \"BiSSuBiSHwajit\"\n",
    "result = swap_case(input_string)\n",
    "print(result)"
   ]
  },
  {
   "cell_type": "markdown",
   "id": "80b11844-0de8-4195-a352-27a30424e3ce",
   "metadata": {},
   "source": [
    "29. Remove a specific word from a string."
   ]
  },
  {
   "cell_type": "code",
   "execution_count": 40,
   "id": "edad5aba-f709-47fe-bc16-ca70636ecb29",
   "metadata": {},
   "outputs": [
    {
     "name": "stdout",
     "output_type": "stream",
     "text": [
      "My name is Bishwajit Kumar\n"
     ]
    }
   ],
   "source": [
    "def remove_word(input_string, word_to_remove):\n",
    "    words = input_string.split()  \n",
    "    filtered_words = [word for word in words if word != word_to_remove]  \n",
    "    modified_string = ' '.join(filtered_words)  \n",
    "    return modified_string\n",
    "\n",
    "input_string = \"My name is Bishu Bishwajit Kumar\"\n",
    "word_to_remove = \"Bishu\"\n",
    "result = remove_word(input_string, word_to_remove)\n",
    "print(result)"
   ]
  },
  {
   "cell_type": "markdown",
   "id": "9c6e6f5b-b746-4767-a817-f84eb0705529",
   "metadata": {},
   "source": [
    "30. Check if a string is a valid email address."
   ]
  },
  {
   "cell_type": "code",
   "execution_count": 42,
   "id": "5df12bf3-9ebe-443c-aa60-6ba81226ddf8",
   "metadata": {},
   "outputs": [
    {
     "name": "stdout",
     "output_type": "stream",
     "text": [
      "True\n"
     ]
    }
   ],
   "source": [
    "import re  \n",
    "def is_valid_email(email):\n",
    "    pattern = r'^[\\w\\.-]+@[\\w\\.-]+\\.\\w+$'  \n",
    "    if re.match(pattern, email):\n",
    "        return True\n",
    "    else:\n",
    "        return False\n",
    "\n",
    "email1 = \"bishwajit@email.com\"\n",
    "result1 = is_valid_email(email1)\n",
    "print(result1)"
   ]
  },
  {
   "cell_type": "markdown",
   "id": "6fa84788-c70a-44f3-9167-dd7d9dfd29f8",
   "metadata": {},
   "source": [
    "31. Extract the username from an email address string."
   ]
  },
  {
   "cell_type": "code",
   "execution_count": 44,
   "id": "09411a2f-1aa3-40dd-b95c-e86d025df252",
   "metadata": {},
   "outputs": [
    {
     "name": "stdout",
     "output_type": "stream",
     "text": [
      "bishwajitkumar1000\n"
     ]
    }
   ],
   "source": [
    "def extract_username(email):\n",
    "    username = email.split('@')[0]  \n",
    "    return username\n",
    "email = \"bishwajitkumar1000@email.com\"\n",
    "result = extract_username(email)\n",
    "print(result)"
   ]
  },
  {
   "cell_type": "markdown",
   "id": "46f5f5d7-eb5c-4062-a047-21da51a7b6b7",
   "metadata": {},
   "source": [
    "32. Extract the domain name from an email address string."
   ]
  },
  {
   "cell_type": "code",
   "execution_count": 45,
   "id": "9c1a8c35-32c9-4420-a8ea-ec57ab32396b",
   "metadata": {},
   "outputs": [
    {
     "name": "stdout",
     "output_type": "stream",
     "text": [
      "email.com\n"
     ]
    }
   ],
   "source": [
    "def extract_domain(email):\n",
    "    domain = email.split('@')[1]  \n",
    "    return domain\n",
    "\n",
    "email = \"bishwajitkumar1000@email.com\"\n",
    "result = extract_domain(email)\n",
    "print(result)"
   ]
  },
  {
   "cell_type": "markdown",
   "id": "f4230f6a-8a91-4a9d-bfca-6060da14d1de",
   "metadata": {},
   "source": [
    "33. Replace multiple spaces in a string with a single space."
   ]
  },
  {
   "cell_type": "code",
   "execution_count": 46,
   "id": "c1e5ef00-0577-4c63-ae9e-0c127c7fc508",
   "metadata": {},
   "outputs": [
    {
     "name": "stdout",
     "output_type": "stream",
     "text": [
      "Hey bro kaise ho\n"
     ]
    }
   ],
   "source": [
    "def replace_multiple_spaces(input_string):\n",
    "    cleaned_string = ' '.join(input_string.split())  \n",
    "    return cleaned_string\n",
    "\n",
    "input_string = \"Hey           bro kaise       ho          \"\n",
    "result = replace_multiple_spaces(input_string)\n",
    "print(result)"
   ]
  },
  {
   "cell_type": "markdown",
   "id": "81b7131f-fa46-4cd8-b782-3edced0d5b5c",
   "metadata": {},
   "source": [
    "34. Check if a string is a valid URL."
   ]
  },
  {
   "cell_type": "code",
   "execution_count": 47,
   "id": "dd951106-39f6-4a28-b147-b313f6235446",
   "metadata": {},
   "outputs": [
    {
     "name": "stdout",
     "output_type": "stream",
     "text": [
      "True\n"
     ]
    }
   ],
   "source": [
    "from urllib.parse import urlparse\n",
    "\n",
    "def is_valid_url(url):\n",
    "    try:\n",
    "        result = urlparse(url)\n",
    "        return all([result.scheme, result.netloc])  \n",
    "    except ValueError:\n",
    "        return False\n",
    "\n",
    "url1 = \"https://www.pwskills.com\"\n",
    "result1 = is_valid_url(url1)\n",
    "print(result1)  \n"
   ]
  },
  {
   "cell_type": "markdown",
   "id": "5041da1b-c4a1-4362-8760-e9a069bc4b93",
   "metadata": {},
   "source": [
    "35. Extract the protocol (http or https) from a URL string."
   ]
  },
  {
   "cell_type": "code",
   "execution_count": 48,
   "id": "25e527ea-7686-4827-9199-8341d52e5d1e",
   "metadata": {},
   "outputs": [
    {
     "name": "stdout",
     "output_type": "stream",
     "text": [
      "Protocol 1: https\n",
      "Protocol 2: http\n",
      "Protocol 3: ftp\n"
     ]
    }
   ],
   "source": [
    "def extract_protocol(url):\n",
    "    protocol_end = url.find(\"://\")\n",
    "\n",
    "    if protocol_end != -1:\n",
    "        protocol = url[:protocol_end]\n",
    "        return protocol\n",
    "    else:\n",
    "        return None\n",
    "\n",
    "url1 = \"https://www.example.com\"\n",
    "url2 = \"http://google.com\"\n",
    "url3 = \"ftp://ftp.example.com\"\n",
    "\n",
    "protocol1 = extract_protocol(url1)\n",
    "protocol2 = extract_protocol(url2)\n",
    "protocol3 = extract_protocol(url3)\n",
    "\n",
    "print(\"Protocol 1:\", protocol1)\n",
    "print(\"Protocol 2:\", protocol2)\n",
    "print(\"Protocol 3:\", protocol3)"
   ]
  },
  {
   "cell_type": "markdown",
   "id": "5d03a9c5-5b86-47c7-91c7-17ae0b80fc53",
   "metadata": {},
   "source": [
    "36. Find the frequency of each character in a string."
   ]
  },
  {
   "cell_type": "code",
   "execution_count": 50,
   "id": "562bf0e0-4225-4f77-850d-7dc1c13dfd2b",
   "metadata": {},
   "outputs": [
    {
     "name": "stdout",
     "output_type": "stream",
     "text": [
      "Character: 'B', Frequency: 3\n",
      "Character: 'i', Frequency: 4\n",
      "Character: 's', Frequency: 5\n",
      "Character: 'h', Frequency: 1\n",
      "Character: 'w', Frequency: 1\n",
      "Character: 'a', Frequency: 2\n",
      "Character: 'j', Frequency: 1\n",
      "Character: 't', Frequency: 1\n",
      "Character: ' ', Frequency: 4\n",
      "Character: 'K', Frequency: 1\n",
      "Character: 'u', Frequency: 3\n",
      "Character: 'm', Frequency: 1\n",
      "Character: 'r', Frequency: 1\n",
      "Character: 'b', Frequency: 4\n"
     ]
    }
   ],
   "source": [
    "def character_frequency(input_string):\n",
    "    frequency = {}  \n",
    "\n",
    "    for char in input_string:\n",
    "        if char in frequency:\n",
    "            frequency[char] += 1  \n",
    "        else:\n",
    "            frequency[char] = 1   \n",
    "\n",
    "    return frequency\n",
    "\n",
    "input_str = \"Bishwajit Kumar Bissu bbbb Bissu\"\n",
    "\n",
    "char_freq = character_frequency(input_str)\n",
    "\n",
    "for char, freq in char_freq.items():\n",
    "    print(f\"Character: '{char}', Frequency: {freq}\")"
   ]
  },
  {
   "cell_type": "markdown",
   "id": "72cfb1eb-6d78-4c5a-ba6b-32d7052177c6",
   "metadata": {},
   "source": [
    "37. Remove all punctuation from a string."
   ]
  },
  {
   "cell_type": "code",
   "execution_count": 52,
   "id": "04892842-8cbc-4262-874b-3a60c2de9cac",
   "metadata": {},
   "outputs": [
    {
     "name": "stdout",
     "output_type": "stream",
     "text": [
      "Original string: hey!! Bro$ kaise ho????\n",
      "Cleaned string: hey Bro kaise ho\n"
     ]
    }
   ],
   "source": [
    "import string\n",
    "\n",
    "def remove_punctuation(input_string):\n",
    "    translator = str.maketrans(\"\", \"\", string.punctuation)\n",
    "    clean_string = input_string.translate(translator)\n",
    "\n",
    "    return clean_string\n",
    "\n",
    "input_str = \"hey!! Bro$ kaise ho????\"\n",
    "\n",
    "cleaned_str = remove_punctuation(input_str)\n",
    "\n",
    "print(\"Original string:\", input_str)\n",
    "print(\"Cleaned string:\", cleaned_str)"
   ]
  },
  {
   "cell_type": "markdown",
   "id": "7826b887-31e5-40a2-8bdc-d0ec2e2d9848",
   "metadata": {},
   "source": [
    "38. Check if a string contains only digits."
   ]
  },
  {
   "cell_type": "code",
   "execution_count": 54,
   "id": "9811ac7c-6c4e-4417-ab81-7724fda914b4",
   "metadata": {},
   "outputs": [
    {
     "name": "stdout",
     "output_type": "stream",
     "text": [
      "'12345' contains only digits: True\n",
      "'Bissu123' contains only digits: False\n",
      "'456.789' contains only digits: False\n"
     ]
    }
   ],
   "source": [
    "def contains_only_digits(input_string):\n",
    "    return input_string.isdigit()\n",
    "string1 = \"12345\"\n",
    "string2 = \"Bissu123\"\n",
    "string3 = \"456.789\"\n",
    "\n",
    "result1 = contains_only_digits(string1)\n",
    "result2 = contains_only_digits(string2)\n",
    "result3 = contains_only_digits(string3)\n",
    "\n",
    "print(f\"'{string1}' contains only digits:\", result1)\n",
    "print(f\"'{string2}' contains only digits:\", result2)\n",
    "print(f\"'{string3}' contains only digits:\", result3)"
   ]
  },
  {
   "cell_type": "markdown",
   "id": "e271249b-7c18-4e99-b2dc-2fd489b829e7",
   "metadata": {},
   "source": [
    "39. Check if a string contains only alphabets."
   ]
  },
  {
   "cell_type": "code",
   "execution_count": 55,
   "id": "9108c93e-9beb-4664-9d24-be14e4ffb9cf",
   "metadata": {},
   "outputs": [
    {
     "name": "stdout",
     "output_type": "stream",
     "text": [
      "'Bishwajit' contains only alphabets: True\n",
      "'Bissu123' contains only alphabets: False\n",
      "'12345' contains only alphabets: False\n"
     ]
    }
   ],
   "source": [
    "def contains_only_alphabets(input_string):\n",
    "    return input_string.isalpha()\n",
    "\n",
    "string1 = \"Bishwajit\"\n",
    "string2 = \"Bissu123\"\n",
    "string3 = \"12345\"\n",
    "\n",
    "result1 = contains_only_alphabets(string1)\n",
    "result2 = contains_only_alphabets(string2)\n",
    "result3 = contains_only_alphabets(string3)\n",
    "\n",
    "print(f\"'{string1}' contains only alphabets:\", result1)\n",
    "print(f\"'{string2}' contains only alphabets:\", result2)\n",
    "print(f\"'{string3}' contains only alphabets:\", result3)"
   ]
  },
  {
   "cell_type": "markdown",
   "id": "cf5db4ef-70d5-4350-9052-39e43d4cdc75",
   "metadata": {},
   "source": [
    "40. Convert a string to a list of characters."
   ]
  },
  {
   "cell_type": "code",
   "execution_count": 56,
   "id": "6423f684-ae7d-4911-85a9-8a0022b7afb2",
   "metadata": {},
   "outputs": [
    {
     "name": "stdout",
     "output_type": "stream",
     "text": [
      "Original string: Hi guys welcome back to my film\n",
      "List of characters: ['H', 'i', ' ', 'g', 'u', 'y', 's', ' ', 'w', 'e', 'l', 'c', 'o', 'm', 'e', ' ', 'b', 'a', 'c', 'k', ' ', 't', 'o', ' ', 'm', 'y', ' ', 'f', 'i', 'l', 'm']\n"
     ]
    }
   ],
   "source": [
    "def string_to_list(input_string):\n",
    "    char_list = list(input_string)\n",
    "    return char_list\n",
    "input_str = \"Hi guys welcome back to my film\"\n",
    "\n",
    "char_list = string_to_list(input_str)\n",
    "\n",
    "print(\"Original string:\", input_str)\n",
    "print(\"List of characters:\", char_list)"
   ]
  },
  {
   "cell_type": "markdown",
   "id": "cf2206d8-2f33-43f5-88cd-74f7f3040ac6",
   "metadata": {},
   "source": [
    "41. Check if two strings are anagrams."
   ]
  },
  {
   "cell_type": "code",
   "execution_count": 57,
   "id": "bc7f30a0-d8c3-4c0f-984b-af0896a51dc9",
   "metadata": {},
   "outputs": [
    {
     "name": "stdout",
     "output_type": "stream",
     "text": [
      "'listen' and 'silent' are anagrams: True\n",
      "'hello' and 'world' are anagrams: False\n"
     ]
    }
   ],
   "source": [
    "def are_anagrams(str1, str2):\n",
    "    str1 = str1.replace(\" \", \"\").lower()\n",
    "    str2 = str2.replace(\" \", \"\").lower()\n",
    "\n",
    "    return sorted(str1) == sorted(str2)\n",
    "\n",
    "string1 = \"listen\"\n",
    "string2 = \"silent\"\n",
    "string3 = \"hello\"\n",
    "string4 = \"world\"\n",
    "\n",
    "result1 = are_anagrams(string1, string2)\n",
    "result2 = are_anagrams(string3, string4)\n",
    "\n",
    "print(f\"'{string1}' and '{string2}' are anagrams:\", result1)\n",
    "print(f\"'{string3}' and '{string4}' are anagrams:\", result2)"
   ]
  },
  {
   "cell_type": "markdown",
   "id": "cd79c27f-05a6-44bd-b4d5-1262ac53f8e9",
   "metadata": {},
   "source": [
    "42. Encode a string using a Caesar cipher."
   ]
  },
  {
   "cell_type": "code",
   "execution_count": 61,
   "id": "b8f9730d-97c6-4843-8696-404d7eeebe7c",
   "metadata": {},
   "outputs": [
    {
     "name": "stdout",
     "output_type": "stream",
     "text": [
      "Encoded text: mbwkrq\n"
     ]
    }
   ],
   "source": [
    "def caesar_cipher(text, shift):\n",
    "\n",
    "  encoded_text = \"\"\n",
    "\n",
    "  for char in text:\n",
    "\n",
    "    if char.isalpha():\n",
    "      encoded_char = chr((ord(char) + shift - ord('a')) % 26 + ord('a'))\n",
    "    else:\n",
    "      encoded_char = char\n",
    "    encoded_text += encoded_char\n",
    "\n",
    "  return encoded_text\n",
    "\n",
    "text = \"Python\"\n",
    "shift = 3\n",
    "encoded_text = caesar_cipher(text, shift)\n",
    "\n",
    "print(\"Encoded text:\", encoded_text)"
   ]
  },
  {
   "cell_type": "markdown",
   "id": "ef6e53ef-4f84-4bd8-8736-96634718f898",
   "metadata": {},
   "source": [
    "43. Decode a Caesar cipher encoded string."
   ]
  },
  {
   "cell_type": "code",
   "execution_count": 62,
   "id": "73e6cbf8-31d7-47dd-9dae-870102ee1a82",
   "metadata": {},
   "outputs": [
    {
     "name": "stdout",
     "output_type": "stream",
     "text": [
      "Decoded text: jython\n"
     ]
    }
   ],
   "source": [
    "def caesar_cipher_decoder(text, shift):\n",
    "    decoded_text = \"\"\n",
    "    for char in text:\n",
    "        if char.isalpha():\n",
    "            decoded_char = chr((ord(char) - shift - ord('a')) % 26 + ord('a'))\n",
    "        else:\n",
    "            decoded_char = char\n",
    "\n",
    "        decoded_text += decoded_char\n",
    "    return decoded_text\n",
    "\n",
    "text = \"mbwkrq\"\n",
    "shift = 3\n",
    "\n",
    "decoded_text = caesar_cipher_decoder(text, shift)\n",
    "\n",
    "print(\"Decoded text:\", decoded_text)"
   ]
  },
  {
   "cell_type": "markdown",
   "id": "ee95cb72-79ad-499f-b1a3-f2f0db52d026",
   "metadata": {},
   "source": [
    "44. Find the most frequent word in a string."
   ]
  },
  {
   "cell_type": "code",
   "execution_count": 67,
   "id": "d4a83798-1f4f-4392-ac7f-6679e1d9f7a5",
   "metadata": {},
   "outputs": [
    {
     "name": "stdout",
     "output_type": "stream",
     "text": [
      "Most frequent word: guys\n"
     ]
    }
   ],
   "source": [
    "import re\n",
    "from collections import Counter\n",
    "\n",
    "def most_frequent_word(input_string):\n",
    "    clean_string = re.sub(r'[^\\w\\s]', '', input_string).lower()\n",
    "    words = clean_string.split()\n",
    "    word_counter = Counter(words)\n",
    "\n",
    "    most_common_word = word_counter.most_common(1)[0][0]\n",
    "\n",
    "    return most_common_word\n",
    "\n",
    "input_str = \"hey guys how are you guys hello guys\"\n",
    "\n",
    "most_common = most_frequent_word(input_str)\n",
    "\n",
    "print(\"Most frequent word:\", most_common)"
   ]
  },
  {
   "cell_type": "markdown",
   "id": "169e463d-da8e-4f58-a093-24c8af317177",
   "metadata": {},
   "source": [
    "45. Find all unique words in a string."
   ]
  },
  {
   "cell_type": "code",
   "execution_count": 68,
   "id": "31c1f73f-0234-428e-a742-03d3be5dbc6a",
   "metadata": {},
   "outputs": [
    {
     "name": "stdout",
     "output_type": "stream",
     "text": [
      "Unique words: {'hows', 'world', 'there', 'the', 'hello'}\n"
     ]
    }
   ],
   "source": [
    "import re\n",
    "\n",
    "def unique_words(input_string):\n",
    "    clean_string = re.sub(r'[^\\w\\s]', '', input_string).lower()\n",
    "    words = set(clean_string.split())\n",
    "\n",
    "    return words\n",
    "input_str = \"Hello world, hello there! How's the world?\"\n",
    "\n",
    "unique_word_set = unique_words(input_str)\n",
    "\n",
    "print(\"Unique words:\", unique_word_set)"
   ]
  },
  {
   "cell_type": "markdown",
   "id": "6c634146-5582-402a-b0f8-cd297c58af25",
   "metadata": {},
   "source": [
    "46. Count the number of syllables in a string."
   ]
  },
  {
   "cell_type": "code",
   "execution_count": 69,
   "id": "b67c7e55-1a75-4e47-b0fb-37b10a8da99b",
   "metadata": {},
   "outputs": [
    {
     "name": "stdout",
     "output_type": "stream",
     "text": [
      "'hello' has 2 syllables.\n",
      "'banana' has 3 syllables.\n",
      "'syllable' has 3 syllables.\n"
     ]
    }
   ],
   "source": [
    "import re\n",
    "\n",
    "def count_syllables(word):\n",
    "    vowel_groups = re.findall(r'[aeiouy]+', word, re.IGNORECASE)\n",
    "\n",
    "    return len(vowel_groups)\n",
    "\n",
    "word1 = \"hello\"\n",
    "word2 = \"banana\"\n",
    "word3 = \"syllable\"\n",
    "\n",
    "syllables1 = count_syllables(word1)\n",
    "syllables2 = count_syllables(word2)\n",
    "syllables3 = count_syllables(word3)\n",
    "\n",
    "print(f\"'{word1}' has {syllables1} syllables.\")\n",
    "print(f\"'{word2}' has {syllables2} syllables.\")\n",
    "print(f\"'{word3}' has {syllables3} syllables.\")"
   ]
  },
  {
   "cell_type": "markdown",
   "id": "6496603e-9212-4d03-8b6f-4c98ad6ad88f",
   "metadata": {},
   "source": [
    "47. Check if a string contains any special characters."
   ]
  },
  {
   "cell_type": "code",
   "execution_count": 73,
   "id": "7c9cde0d-a4b1-4f93-ad3e-b3f74c060463",
   "metadata": {},
   "outputs": [
    {
     "name": "stdout",
     "output_type": "stream",
     "text": [
      "'Hello, world!' contains special characters: True\n",
      "'Hey' contains special characters: False\n",
      "'@@' contains special characters: True\n"
     ]
    }
   ],
   "source": [
    "import re\n",
    "\n",
    "def contains_special_characters(input_string):\n",
    "    pattern = re.compile(r'[!@#$%^&*()_+{}\\[\\]:;<>,.?~\\\\/]')\n",
    "    match = pattern.search(input_string)\n",
    "    return bool(match)\n",
    "string1 = \"Hello, world!\"\n",
    "string2 = \"Hey\"\n",
    "string3 = \"@@\"\n",
    "\n",
    "result1 = contains_special_characters(string1)\n",
    "result2 = contains_special_characters(string2)\n",
    "result3 = contains_special_characters(string3)\n",
    "\n",
    "print(f\"'{string1}' contains special characters:\", result1)\n",
    "print(f\"'{string2}' contains special characters:\", result2)\n",
    "print(f\"'{string3}' contains special characters:\", result3)"
   ]
  },
  {
   "cell_type": "markdown",
   "id": "0a900658-be2f-43e6-8d10-c9ecdcfe8fb1",
   "metadata": {},
   "source": [
    "48. Remove the nth word from a string."
   ]
  },
  {
   "cell_type": "code",
   "execution_count": 76,
   "id": "1127f078-12e0-46da-8070-0d6cd05f93bb",
   "metadata": {},
   "outputs": [
    {
     "name": "stdout",
     "output_type": "stream",
     "text": [
      "Original string: My name is Bishwajit Kumar\n",
      "Modified string: My name is Bishwajit\n",
      "Removed word: Kumar\n"
     ]
    }
   ],
   "source": [
    "def remove_nth_word(input_string, n):\n",
    "    words = input_string.split()\n",
    "\n",
    "    if n >= 1 and n <= len(words):\n",
    "        removed_word = words.pop(n - 1)\n",
    "        modified_string = ' '.join(words)\n",
    "\n",
    "        return modified_string, removed_word\n",
    "    else:\n",
    "        return None, None\n",
    "input_str = \"My name is Bishwajit Kumar\"\n",
    "n_value = 5\n",
    "\n",
    "modified_str, removed_word = remove_nth_word(input_str, n_value)\n",
    "\n",
    "print(\"Original string:\", input_str)\n",
    "if modified_str is not None:\n",
    "    print(\"Modified string:\", modified_str)\n",
    "    print(\"Removed word:\", removed_word)\n",
    "else:\n",
    "    print(\"Invalid n value.\")"
   ]
  },
  {
   "cell_type": "markdown",
   "id": "b0292a4d-1601-4fed-9084-e27667305489",
   "metadata": {},
   "source": [
    "49. Insert a word at the nth position in a string."
   ]
  },
  {
   "cell_type": "code",
   "execution_count": 77,
   "id": "60cc005f-f4cc-4ea4-a189-cc9e2157373c",
   "metadata": {},
   "outputs": [
    {
     "name": "stdin",
     "output_type": "stream",
     "text": [
      " Bissu\n"
     ]
    },
    {
     "name": "stdout",
     "output_type": "stream",
     "text": [
      "Original string: My name is Bishwajit Kumar\n",
      "Modified string: My name is Bishwajit\n",
      "Removed word: Kumar\n"
     ]
    }
   ],
   "source": [
    "n = input()\n",
    "def remove_nth_word(input_string, n):\n",
    "    words = input_string.split()\n",
    "\n",
    "    if n >= 1 and n <= len(words):\n",
    "        removed_word = words.pop(n - 1)\n",
    "        modified_string = ' '.join(words)\n",
    "\n",
    "        return modified_string, removed_word\n",
    "    else:\n",
    "        return None, None\n",
    "input_str = \"My name is Bishwajit Kumar\"\n",
    "n_value = 5\n",
    "\n",
    "modified_str, removed_word = remove_nth_word(input_str, n_value)\n",
    "\n",
    "print(\"Original string:\", input_str)\n",
    "if modified_str is not None:\n",
    "    print(\"Modified string:\", modified_str)\n",
    "    print(\"Removed word:\", removed_word)\n",
    "else:\n",
    "    print(\"Invalid n value.\")"
   ]
  },
  {
   "cell_type": "markdown",
   "id": "e7e1e21e-3f51-499e-baf7-fe7ee68fe44e",
   "metadata": {},
   "source": [
    "50. Convert a CSV string to a list of lists."
   ]
  },
  {
   "cell_type": "code",
   "execution_count": 79,
   "id": "ecceb958-d13e-4368-9a69-275da0fbbc84",
   "metadata": {},
   "outputs": [
    {
     "name": "stdout",
     "output_type": "stream",
     "text": [
      "['Name', ' Age', ' Country']\n",
      "['Bishwajit', ' 25', ' India']\n"
     ]
    }
   ],
   "source": [
    "def csv_string_to_list(csv_string):\n",
    "    lines = csv_string.split('\\n')\n",
    "    result = []\n",
    "\n",
    "    for line in lines:\n",
    "        fields = line.split(',')\n",
    "        result.append(fields)\n",
    "\n",
    "    return result\n",
    "\n",
    "csv_data = \"Name, Age, Country\\nBishwajit, 25, India\"\n",
    "\n",
    "list_of_lists = csv_string_to_list(csv_data)\n",
    "\n",
    "for row in list_of_lists:\n",
    "    print(row)"
   ]
  },
  {
   "cell_type": "markdown",
   "id": "9cbda781-1c4c-43bc-bfd6-d807bdb09440",
   "metadata": {},
   "source": [
    "List Based Practice Problem :"
   ]
  },
  {
   "cell_type": "markdown",
   "id": "6bdcb712-606d-4b6a-911d-0377e86ac121",
   "metadata": {},
   "source": [
    "1. Create a list with integers from 1 to 10."
   ]
  },
  {
   "cell_type": "code",
   "execution_count": 82,
   "id": "717d56b2-dd7c-4166-b684-2c58fbb5595f",
   "metadata": {},
   "outputs": [
    {
     "name": "stdout",
     "output_type": "stream",
     "text": [
      "[1, 2, 3, 4, 5, 6, 7, 8, 9, 10]\n"
     ]
    }
   ],
   "source": [
    "list = [i for i in range(1, 11)]\n",
    "\n",
    "print(list)"
   ]
  },
  {
   "cell_type": "markdown",
   "id": "dcc2b6be-a8ef-473f-8ef3-23e3ccf050f3",
   "metadata": {},
   "source": [
    "2. Find the length of a list without using the `len()` function."
   ]
  },
  {
   "cell_type": "code",
   "execution_count": 83,
   "id": "31137870-8230-4685-bcb6-d544a1168e5b",
   "metadata": {},
   "outputs": [
    {
     "name": "stdout",
     "output_type": "stream",
     "text": [
      "Length of the list: 5\n"
     ]
    }
   ],
   "source": [
    "def custom_len(input_list):\n",
    "    count = 0\n",
    "    for _ in input_list:\n",
    "        count += 1\n",
    "    return count\n",
    "\n",
    "my_list = [10, 20, 30, 40, 50]\n",
    "\n",
    "length = custom_len(my_list)\n",
    "\n",
    "print(\"Length of the list:\", length)"
   ]
  },
  {
   "cell_type": "markdown",
   "id": "28d2db17-04b9-49d8-a314-943af29575c8",
   "metadata": {},
   "source": [
    "3. Append an element to the end of a list."
   ]
  },
  {
   "cell_type": "code",
   "execution_count": 85,
   "id": "8b3146d0-ef82-483a-98bd-51df712a6df2",
   "metadata": {},
   "outputs": [
    {
     "name": "stdout",
     "output_type": "stream",
     "text": [
      "Updated list: [10, 20, 30, 40]\n"
     ]
    }
   ],
   "source": [
    "list = [10, 20, 30]\n",
    "\n",
    "new_element = 40\n",
    "\n",
    "list.append(new_element)\n",
    "\n",
    "print(\"Updated list:\", list)"
   ]
  },
  {
   "cell_type": "markdown",
   "id": "fb89c3c9-fdbe-4b91-883e-9b0781c2b93c",
   "metadata": {},
   "source": [
    "4. Insert an element at a specific index in a list."
   ]
  },
  {
   "cell_type": "code",
   "execution_count": 86,
   "id": "b162d52a-a360-47ef-94e8-9373a0a6725e",
   "metadata": {},
   "outputs": [
    {
     "name": "stdout",
     "output_type": "stream",
     "text": [
      "Updated list: [10, 20, 25, 30, 40, 50]\n"
     ]
    }
   ],
   "source": [
    "list = [10, 20, 30, 40, 50]\n",
    "\n",
    "new_element = 25\n",
    "\n",
    "index_to_insert = 2\n",
    "\n",
    "list.insert(index_to_insert, new_element)\n",
    "\n",
    "print(\"Updated list:\", list)"
   ]
  },
  {
   "cell_type": "markdown",
   "id": "e77209db-a019-437b-a7b0-bd6d46a0a9dc",
   "metadata": {},
   "source": [
    "5. Remove an element from a list by its value."
   ]
  },
  {
   "cell_type": "code",
   "execution_count": 88,
   "id": "e764da89-b11f-4ab4-8381-969f8e0bdcb7",
   "metadata": {},
   "outputs": [
    {
     "name": "stdout",
     "output_type": "stream",
     "text": [
      "Updated list: [10, 20, 40, 50]\n"
     ]
    }
   ],
   "source": [
    "list = [10, 20, 30, 40, 50]\n",
    "\n",
    "list.remove(30)\n",
    "\n",
    "print(\"Updated list:\", list)"
   ]
  },
  {
   "cell_type": "markdown",
   "id": "d73515cf-a39d-454d-81d1-f0a389e095db",
   "metadata": {},
   "source": [
    "6. Remove an element from a list by its index."
   ]
  },
  {
   "cell_type": "code",
   "execution_count": 89,
   "id": "e8c3f880-893b-45f3-92bd-ca4f27a689a6",
   "metadata": {},
   "outputs": [
    {
     "name": "stdout",
     "output_type": "stream",
     "text": [
      "Updated list: [10, 20, 40, 50]\n",
      "Removed element: 30\n"
     ]
    }
   ],
   "source": [
    "list = [10, 20, 30, 40, 50]\n",
    "\n",
    "index_to_remove = 2\n",
    "\n",
    "removed_element = my_list.pop(index_to_remove)\n",
    "\n",
    "print(\"Updated list:\", my_list)\n",
    "print(\"Removed element:\", removed_element)"
   ]
  },
  {
   "cell_type": "markdown",
   "id": "43a8a243-1e34-4587-b5eb-98f2a0e338e9",
   "metadata": {},
   "source": [
    "7. Check if an element exists in a list."
   ]
  },
  {
   "cell_type": "code",
   "execution_count": 92,
   "id": "e711709c-e357-420d-a9eb-be9d03ebc937",
   "metadata": {},
   "outputs": [
    {
     "name": "stdout",
     "output_type": "stream",
     "text": [
      "30 exists in the list.\n"
     ]
    }
   ],
   "source": [
    "list = [10, 20, 30, 40, 50]\n",
    "\n",
    "element_to_check = 30\n",
    "\n",
    "if element_to_check in list:\n",
    "    print(f\"{element_to_check} exists in the list.\")\n",
    "else:\n",
    "    print(f\"{element_to_check} does not exist in the list.\")"
   ]
  },
  {
   "cell_type": "markdown",
   "id": "2aaae248-9a7a-478a-b795-7743f7ad10da",
   "metadata": {},
   "source": [
    "8. Find the index of the first occurrence of an element in a list."
   ]
  },
  {
   "cell_type": "code",
   "execution_count": 93,
   "id": "4fec2f66-ae35-479e-ba36-7d04d6108635",
   "metadata": {},
   "outputs": [
    {
     "name": "stdout",
     "output_type": "stream",
     "text": [
      "The index of 30 is 2\n"
     ]
    }
   ],
   "source": [
    "list = [10, 20, 30, 40, 50, 30]\n",
    "\n",
    "element_to_find = 30\n",
    "\n",
    "index = list.index(element_to_find)\n",
    "\n",
    "print(f\"The index of {element_to_find} is {index}\")"
   ]
  },
  {
   "cell_type": "markdown",
   "id": "90abffbf-2893-4b04-985b-5b9cf0766feb",
   "metadata": {},
   "source": [
    "9. Count the occurrences of an element in a list."
   ]
  },
  {
   "cell_type": "code",
   "execution_count": 94,
   "id": "186b4c66-2963-4067-b4ac-b983f290e3e1",
   "metadata": {},
   "outputs": [
    {
     "name": "stdout",
     "output_type": "stream",
     "text": [
      "The element 30 occurs 3 times in the list.\n"
     ]
    }
   ],
   "source": [
    "my_list = [10, 20, 30, 40, 50, 30, 30]\n",
    "\n",
    "element_to_count = 30\n",
    "\n",
    "count = my_list.count(element_to_count)\n",
    "\n",
    "print(f\"The element {element_to_count} occurs {count} times in the list.\")"
   ]
  },
  {
   "cell_type": "markdown",
   "id": "32a00c06-0fe0-4bd3-81d0-bfb1f6cb7db1",
   "metadata": {},
   "source": [
    "10. Reverse the order of elements in a list."
   ]
  },
  {
   "cell_type": "code",
   "execution_count": 95,
   "id": "30907f08-ddcb-4fec-ab28-6c36cd6d7c45",
   "metadata": {},
   "outputs": [
    {
     "name": "stdout",
     "output_type": "stream",
     "text": [
      "Reversed list: [50, 40, 30, 20, 10]\n"
     ]
    }
   ],
   "source": [
    "my_list = [10, 20, 30, 40, 50]\n",
    "\n",
    "my_list.reverse()\n",
    "\n",
    "print(\"Reversed list:\", my_list)"
   ]
  },
  {
   "cell_type": "markdown",
   "id": "1086e337-fdc0-44c6-ab3a-3b37b7e609ed",
   "metadata": {},
   "source": [
    "11. Sort a list in ascending order."
   ]
  },
  {
   "cell_type": "code",
   "execution_count": 96,
   "id": "0e3de385-1c16-4fc6-a813-66e2ec564cf7",
   "metadata": {},
   "outputs": [
    {
     "name": "stdout",
     "output_type": "stream",
     "text": [
      "Sorted list in ascending order: [10, 20, 30, 40, 50]\n"
     ]
    }
   ],
   "source": [
    "my_list = [50, 10, 30, 40, 20]\n",
    "my_list.sort()\n",
    "print(\"Sorted list in ascending order:\", my_list)"
   ]
  },
  {
   "cell_type": "markdown",
   "id": "96615412-d772-4090-883c-38039d83aaa3",
   "metadata": {},
   "source": [
    "12. Sort a list in descending order."
   ]
  },
  {
   "cell_type": "code",
   "execution_count": 97,
   "id": "76ed8247-6c9f-4ec4-858e-34eede850a4c",
   "metadata": {},
   "outputs": [
    {
     "name": "stdout",
     "output_type": "stream",
     "text": [
      "Sorted list in descending order: [50, 40, 30, 20, 10]\n"
     ]
    }
   ],
   "source": [
    "my_list = [50, 10, 30, 40, 20]\n",
    "\n",
    "my_list.sort(reverse=True)\n",
    "\n",
    "print(\"Sorted list in descending order:\", my_list)"
   ]
  },
  {
   "cell_type": "markdown",
   "id": "e78f0ca0-53ac-462c-9929-5b23a090b16a",
   "metadata": {},
   "source": [
    "13. Create a list of even numbers from 1 to 20."
   ]
  },
  {
   "cell_type": "code",
   "execution_count": 98,
   "id": "766c6dfc-d8ba-4e58-ae20-370d23063bd7",
   "metadata": {},
   "outputs": [
    {
     "name": "stdout",
     "output_type": "stream",
     "text": [
      "List of even numbers: [2, 4, 6, 8, 10, 12, 14, 16, 18, 20]\n"
     ]
    }
   ],
   "source": [
    "even_numbers = [x for x in range(2, 21, 2)]\n",
    "\n",
    "print(\"List of even numbers:\", even_numbers)"
   ]
  },
  {
   "cell_type": "markdown",
   "id": "5c7dfe2f-e7fd-4d50-ae08-1292af272ea8",
   "metadata": {},
   "source": [
    "14. Create a list of odd numbers from 1 to 20."
   ]
  },
  {
   "cell_type": "code",
   "execution_count": 99,
   "id": "f6bfe812-a539-404b-9946-4e7b8e187dc8",
   "metadata": {},
   "outputs": [
    {
     "name": "stdout",
     "output_type": "stream",
     "text": [
      "List of odd numbers: [1, 3, 5, 7, 9, 11, 13, 15, 17, 19]\n"
     ]
    }
   ],
   "source": [
    "odd_numbers = [x for x in range(1, 21, 2)]\n",
    "\n",
    "print(\"List of odd numbers:\", odd_numbers)"
   ]
  },
  {
   "cell_type": "markdown",
   "id": "bfdc6c14-be32-4762-892d-1704223ef064",
   "metadata": {},
   "source": [
    "15. Find the sum of all elements in a list."
   ]
  },
  {
   "cell_type": "code",
   "execution_count": 100,
   "id": "78f250b8-ad9f-43e0-9b17-302275a7ba2b",
   "metadata": {},
   "outputs": [
    {
     "name": "stdout",
     "output_type": "stream",
     "text": [
      "Sum of elements: 150\n"
     ]
    }
   ],
   "source": [
    "my_list = [10, 20, 30, 40, 50]\n",
    "\n",
    "total_sum = sum(my_list)\n",
    "\n",
    "print(\"Sum of elements:\", total_sum)"
   ]
  },
  {
   "cell_type": "markdown",
   "id": "7e9d0d14-1045-463d-85a9-e833b5edbcb5",
   "metadata": {},
   "source": [
    "16. Find the maximum value in a list."
   ]
  },
  {
   "cell_type": "code",
   "execution_count": 101,
   "id": "51aaab58-ff48-4fba-bcf9-04b1a327328b",
   "metadata": {},
   "outputs": [
    {
     "name": "stdout",
     "output_type": "stream",
     "text": [
      "Maximum value: 50\n"
     ]
    }
   ],
   "source": [
    "my_list = [10, 20, 30, 40, 50]\n",
    "\n",
    "max_value = max(my_list)\n",
    "\n",
    "print(\"Maximum value:\", max_value)"
   ]
  },
  {
   "cell_type": "markdown",
   "id": "535bb595-ea2d-4c3e-afa7-26463311322b",
   "metadata": {},
   "source": [
    "17. Find the minimum value in a list."
   ]
  },
  {
   "cell_type": "code",
   "execution_count": 102,
   "id": "77f20514-8723-4870-8db5-adcb19fa2dd4",
   "metadata": {},
   "outputs": [
    {
     "name": "stdout",
     "output_type": "stream",
     "text": [
      "Minimum value: 10\n"
     ]
    }
   ],
   "source": [
    "my_list = [10, 20, 30, 40, 50]\n",
    "\n",
    "min_value = min(my_list)\n",
    "\n",
    "print(\"Minimum value:\", min_value)"
   ]
  },
  {
   "cell_type": "markdown",
   "id": "b8273b7c-2673-49f7-8cfa-b2ec6c86588e",
   "metadata": {},
   "source": [
    "18. Create a list of squares of numbers from 1 to 10."
   ]
  },
  {
   "cell_type": "code",
   "execution_count": 103,
   "id": "f979883b-155c-4094-a274-4bd0bc8e67f1",
   "metadata": {},
   "outputs": [
    {
     "name": "stdout",
     "output_type": "stream",
     "text": [
      "List of squares: [1, 4, 9, 16, 25, 36, 49, 64, 81, 100]\n"
     ]
    }
   ],
   "source": [
    "squares = [x ** 2 for x in range(1, 11)]\n",
    "\n",
    "print(\"List of squares:\", squares)"
   ]
  },
  {
   "cell_type": "markdown",
   "id": "e496bd2c-8fae-42f7-a318-5587ae6d145c",
   "metadata": {},
   "source": [
    "19. Create a list of random numbers."
   ]
  },
  {
   "cell_type": "code",
   "execution_count": 105,
   "id": "509de8ae-e7b0-4191-999c-bca2fe0628bf",
   "metadata": {},
   "outputs": [
    {
     "name": "stdout",
     "output_type": "stream",
     "text": [
      "List of random integers: [28, 51, 78, 59, 17, 33, 84, 21, 75, 68]\n"
     ]
    }
   ],
   "source": [
    "import random\n",
    "\n",
    "random_integers = [random.randint(1, 100) for _ in range(10)]\n",
    "\n",
    "print(\"List of random integers:\", random_integers)"
   ]
  },
  {
   "cell_type": "markdown",
   "id": "72802a8b-b168-4cb5-ba38-5ad986189439",
   "metadata": {},
   "source": [
    "20. Remove duplicates from a list."
   ]
  },
  {
   "cell_type": "code",
   "execution_count": 115,
   "id": "f329fb26-3d5a-46d7-abbf-8786dc90c1d5",
   "metadata": {},
   "outputs": [
    {
     "name": "stdout",
     "output_type": "stream",
     "text": [
      "List without duplicates: {40, 10, 50, 20, 60, 30}\n"
     ]
    }
   ],
   "source": [
    "list = [10, 20, 30, 20, 40, 10, 50, 30, 60]\n",
    "\n",
    "unique_list = set(list)\n",
    "\n",
    "print(\"List without duplicates:\", unique_list)"
   ]
  },
  {
   "cell_type": "markdown",
   "id": "dcde54a8-afde-470a-9749-3f6f64557825",
   "metadata": {},
   "source": [
    "21. Find the common elements between two lists."
   ]
  },
  {
   "cell_type": "code",
   "execution_count": 125,
   "id": "1a1d2566-f9d2-412e-a948-e25269b4ccc3",
   "metadata": {},
   "outputs": [
    {
     "name": "stdout",
     "output_type": "stream",
     "text": [
      "The common elements in the two lists are: \n",
      "[5, 6]\n"
     ]
    }
   ],
   "source": [
    "def common_member(list1, list2):\n",
    "\tresult = [i for i in list1 if i in list2]\n",
    "\treturn result\n",
    "\n",
    "list1 = [1, 2, 3, 4, 5, 6]\n",
    "list2 = [5, 6, 7, 8, 9, 10]\n",
    "\n",
    "print(\"The common elements in the two lists are: \")\n",
    "print(common_member(list1, list2))\n"
   ]
  },
  {
   "cell_type": "markdown",
   "id": "102cf33d-5133-434c-9220-0bbc761093ce",
   "metadata": {},
   "source": [
    "22. Find the difference between two lists."
   ]
  },
  {
   "cell_type": "code",
   "execution_count": 2,
   "id": "9ab32546-f8de-4bdd-bc5f-28bb6407e1e6",
   "metadata": {},
   "outputs": [
    {
     "name": "stdout",
     "output_type": "stream",
     "text": [
      "Difference between lists: [20, 10]\n"
     ]
    }
   ],
   "source": [
    "list1 = [10, 20, 30, 40, 50]\n",
    "list2 = [30, 40, 50, 60, 70]\n",
    "\n",
    "difference = list(set(list1).difference(list2))\n",
    "\n",
    "print(\"Difference between lists:\", difference)"
   ]
  },
  {
   "cell_type": "markdown",
   "id": "580219e9-ee6c-4738-9280-83115268d4b2",
   "metadata": {},
   "source": [
    "23. Merge two lists."
   ]
  },
  {
   "cell_type": "code",
   "execution_count": 3,
   "id": "3fc13745-aed8-41d9-bdb5-db1087d69686",
   "metadata": {},
   "outputs": [
    {
     "name": "stdout",
     "output_type": "stream",
     "text": [
      "Merged list: [10, 20, 30, 40, 50, 60]\n"
     ]
    }
   ],
   "source": [
    "list1 = [10, 20, 30]\n",
    "list2 = [40, 50, 60]\n",
    "\n",
    "merged_list = list1 + list2\n",
    "\n",
    "print(\"Merged list:\", merged_list)"
   ]
  },
  {
   "cell_type": "markdown",
   "id": "740297ba-e1e3-4655-b455-e892312bed37",
   "metadata": {},
   "source": [
    "24. Multiply all elements in a list by 2."
   ]
  },
  {
   "cell_type": "code",
   "execution_count": 4,
   "id": "7d4fc399-579c-4e56-9926-8a60944db1c5",
   "metadata": {},
   "outputs": [
    {
     "name": "stdout",
     "output_type": "stream",
     "text": [
      "Multiplied list: [20, 40, 60, 80, 100]\n"
     ]
    }
   ],
   "source": [
    "my_list = [10, 20, 30, 40, 50]\n",
    "\n",
    "multiplied_list = [x * 2 for x in my_list]\n",
    "\n",
    "print(\"Multiplied list:\", multiplied_list)"
   ]
  },
  {
   "cell_type": "markdown",
   "id": "34ad6fd0-cec2-44c8-a175-71fae17ad3eb",
   "metadata": {},
   "source": [
    "25. Filter out all even numbers from a list."
   ]
  },
  {
   "cell_type": "code",
   "execution_count": 6,
   "id": "b07fc74d-c333-41ca-8611-f237bc11e7e3",
   "metadata": {},
   "outputs": [
    {
     "name": "stdout",
     "output_type": "stream",
     "text": [
      "All even numbers are :  [2, 4]\n"
     ]
    }
   ],
   "source": [
    "list5 = [1, 2, 3, 4, 5]\n",
    "\n",
    "out = []\n",
    "\n",
    "for num in list5:\n",
    "\tif num % 2 == 0:\n",
    "\t\tout.append(num)\n",
    "\n",
    "print(\"All even numbers are : \", out)\n"
   ]
  },
  {
   "cell_type": "markdown",
   "id": "d42c9da7-8e63-4d30-abb8-dc17490cc4cd",
   "metadata": {},
   "source": [
    "26. Convert a list of strings to a list of integers."
   ]
  },
  {
   "cell_type": "code",
   "execution_count": 7,
   "id": "4c3ad538-1952-46a8-82f0-cd79abb1f34c",
   "metadata": {},
   "outputs": [
    {
     "name": "stdout",
     "output_type": "stream",
     "text": [
      "List of integers: [10, 20, 30, 40, 50]\n"
     ]
    }
   ],
   "source": [
    "string_list = [\"10\", \"20\", \"30\", \"40\", \"50\"]\n",
    "\n",
    "integer_list = [int(x) for x in string_list]\n",
    "\n",
    "print(\"List of integers:\", integer_list)"
   ]
  },
  {
   "cell_type": "markdown",
   "id": "1bb7c888-7034-4eff-a634-18e05dc37c3b",
   "metadata": {},
   "source": [
    "27. Convert a list of integers to a list of strings."
   ]
  },
  {
   "cell_type": "code",
   "execution_count": 8,
   "id": "6bb15f98-758e-413c-ab8c-baf4831f7e14",
   "metadata": {},
   "outputs": [
    {
     "name": "stdout",
     "output_type": "stream",
     "text": [
      "List of strings: ['10', '20', '30', '40', '50']\n"
     ]
    }
   ],
   "source": [
    "integer_list = [10, 20, 30, 40, 50]\n",
    "\n",
    "string_list = [str(x) for x in integer_list]\n",
    "\n",
    "print(\"List of strings:\", string_list)"
   ]
  },
  {
   "cell_type": "markdown",
   "id": "8bab61a3-c1c5-404b-b74e-ac8ba2e4360e",
   "metadata": {},
   "source": [
    "28. Flatten a nested list."
   ]
  },
  {
   "cell_type": "code",
   "execution_count": 9,
   "id": "2a0d6d54-6d62-4287-a0a4-931293a4b363",
   "metadata": {},
   "outputs": [
    {
     "name": "stdout",
     "output_type": "stream",
     "text": [
      "Flattened list: [1, 2, 3, 4, 5, 6, 7, 8, 9]\n"
     ]
    }
   ],
   "source": [
    "nested_list = [[1, 2, 3], [4, 5], [6, 7, 8, 9]]\n",
    "\n",
    "def flatten_list(nested):\n",
    "    flattened = []\n",
    "    for sublist in nested:\n",
    "        if isinstance(sublist, list):\n",
    "            flattened.extend(flatten_list(sublist))\n",
    "        else:\n",
    "            flattened.append(sublist)\n",
    "    return flattened\n",
    "\n",
    "flattened_list = flatten_list(nested_list)\n",
    "\n",
    "print(\"Flattened list:\", flattened_list)"
   ]
  },
  {
   "cell_type": "markdown",
   "id": "da3e5e92-804f-4036-b5d7-93aa44bed58a",
   "metadata": {},
   "source": [
    "29. Create a list of the first 10 Fibonacci numbers."
   ]
  },
  {
   "cell_type": "code",
   "execution_count": 10,
   "id": "1b50e3a7-f8e2-4bee-baae-5f22ff525e13",
   "metadata": {},
   "outputs": [
    {
     "name": "stdout",
     "output_type": "stream",
     "text": [
      "First 10 Fibonacci numbers: [0, 1]\n"
     ]
    }
   ],
   "source": [
    "def generate_fibonacci(n):\n",
    "    fibonacci_list = [0, 1]  \n",
    "\n",
    "    for i in range(2, n):\n",
    "        next_fibonacci = fibonacci_list[i - 1] + fibonacci_list[i - 2]\n",
    "        fibonacci_list.append(next_fibonacci)\n",
    "\n",
    "    return fibonacci_list\n",
    "\n",
    "\n",
    "fibonacci_numbers = generate_fibonacci(2)\n",
    "\n",
    "print(\"First 10 Fibonacci numbers:\", fibonacci_numbers)"
   ]
  },
  {
   "cell_type": "markdown",
   "id": "a115a14d-ecbc-41bf-ae73-1fc268856b6a",
   "metadata": {},
   "source": [
    "30. Check if a list is sorted."
   ]
  },
  {
   "cell_type": "code",
   "execution_count": 12,
   "id": "f277b021-566f-4f53-ac96-5e82945dd7f8",
   "metadata": {},
   "outputs": [
    {
     "name": "stdout",
     "output_type": "stream",
     "text": [
      "The list is sorted in ascending order.\n"
     ]
    }
   ],
   "source": [
    "def is_sorted_ascending(lst):\n",
    "    for i in range(1, len(lst)):\n",
    "        if lst[i] < lst[i - 1]:\n",
    "            return False\n",
    "    return True\n",
    "\n",
    "ascending_list = [10, 20, 30, 40, 50]\n",
    "\n",
    "if is_sorted_ascending(ascending_list):\n",
    "    print(\"The list is sorted in ascending order.\")\n",
    "else:\n",
    "    print(\"The list is not sorted in ascending order.\")"
   ]
  },
  {
   "cell_type": "markdown",
   "id": "b36d155f-0838-4f85-98ec-40b56f28354f",
   "metadata": {},
   "source": [
    "31. Rotate a list to the left by `n` positions."
   ]
  },
  {
   "cell_type": "code",
   "execution_count": 13,
   "id": "fccab5e9-e37b-4601-9803-1860eeb3ef4a",
   "metadata": {},
   "outputs": [
    {
     "name": "stdout",
     "output_type": "stream",
     "text": [
      "Rotated list: [3, 4, 5, 6, 1, 2]\n"
     ]
    }
   ],
   "source": [
    "def rotate_left(lst, n):\n",
    "    n = n % len(lst)  \n",
    "    rotated = lst[n:] + lst[:n]\n",
    "    return rotated\n",
    "my_list = [1, 2, 3, 4, 5, 6]\n",
    "n = 2\n",
    "rotated_list = rotate_left(my_list, n)\n",
    "print(\"Rotated list:\", rotated_list)"
   ]
  },
  {
   "cell_type": "markdown",
   "id": "c55d914a-f631-4f23-918c-09f40f27c843",
   "metadata": {},
   "source": [
    "32. Rotate a list to the right by `n` positions."
   ]
  },
  {
   "cell_type": "code",
   "execution_count": 14,
   "id": "7f87760c-18ae-470d-9f1d-664d4d5950fe",
   "metadata": {},
   "outputs": [
    {
     "name": "stdout",
     "output_type": "stream",
     "text": [
      "Rotated list: [5, 6, 1, 2, 3, 4]\n"
     ]
    }
   ],
   "source": [
    "def rotate_right(lst, n):\n",
    "    n = n % len(lst)  \n",
    "    rotated = lst[-n:] + lst[:-n]\n",
    "    return rotated\n",
    "my_list = [1, 2, 3, 4, 5, 6]\n",
    "n = 2\n",
    "rotated_list = rotate_right(my_list, n)\n",
    "print(\"Rotated list:\", rotated_list)"
   ]
  },
  {
   "cell_type": "markdown",
   "id": "75f04b22-46f9-45e6-a5c1-15a859962086",
   "metadata": {},
   "source": [
    "33. Create a list of prime numbers up to 50."
   ]
  },
  {
   "cell_type": "code",
   "execution_count": 15,
   "id": "52d18565-3445-4bd0-aa09-6037c266c3f9",
   "metadata": {},
   "outputs": [
    {
     "name": "stdout",
     "output_type": "stream",
     "text": [
      "5 25\n",
      "5 29\n",
      "List of prime numbers up to 50: [2, 3, 5, 7, 11, 13, 17, 19, 23, 29]\n"
     ]
    }
   ],
   "source": [
    "def is_prime(num):\n",
    "    if num <= 1:\n",
    "        return False\n",
    "    if num <= 3:\n",
    "        return True\n",
    "    if num % 2 == 0 or num % 3 == 0:\n",
    "        return False\n",
    "    i = 5\n",
    "    while i * i <= num:\n",
    "      print(i,num)\n",
    "      if num % i == 0 or num % (i + 2) == 0:\n",
    "          return False\n",
    "      i += 6\n",
    "    return True\n",
    "prime_numbers = [num for num in range(2,30) if is_prime(num)]\n",
    "print(\"List of prime numbers up to 50:\", prime_numbers)"
   ]
  },
  {
   "cell_type": "markdown",
   "id": "28881714-3d19-44bf-8eaa-5c01d699f191",
   "metadata": {},
   "source": [
    "34. Split a list into chunks of size `n`."
   ]
  },
  {
   "cell_type": "code",
   "execution_count": 16,
   "id": "b07f259f-6a1e-4cdd-8259-b171a8383d9b",
   "metadata": {},
   "outputs": [
    {
     "name": "stdout",
     "output_type": "stream",
     "text": [
      "List of prime numbers up to 50: [2, 3, 5, 7, 11, 13, 17, 19, 23, 29, 31, 37, 41, 43, 47]\n"
     ]
    }
   ],
   "source": [
    "def sieve_of_eratosthenes(limit):\n",
    "    primes = []\n",
    "    is_prime = [True] * (limit + 1)\n",
    "    is_prime[0] = is_prime[1] = False\n",
    "\n",
    "    for num in range(2, int(limit ** 0.5) + 1):\n",
    "        if is_prime[num]:\n",
    "            primes.append(num)\n",
    "            for multiple in range(num * num, limit + 1, num):\n",
    "                is_prime[multiple] = False\n",
    "\n",
    "    for num in range(int(limit ** 0.5) + 1, limit + 1):\n",
    "        if is_prime[num]:\n",
    "            primes.append(num)\n",
    "\n",
    "    return primes\n",
    "prime_numbers = sieve_of_eratosthenes(50)\n",
    "print(\"List of prime numbers up to 50:\", prime_numbers)"
   ]
  },
  {
   "cell_type": "markdown",
   "id": "427682e2-7469-494b-959e-980a036221be",
   "metadata": {},
   "source": [
    "35. Find the second largest number in a list."
   ]
  },
  {
   "cell_type": "code",
   "execution_count": 17,
   "id": "587158a6-36af-4728-a943-305a0d2a9bd6",
   "metadata": {},
   "outputs": [
    {
     "name": "stdout",
     "output_type": "stream",
     "text": [
      "Second largest number: 25\n"
     ]
    }
   ],
   "source": [
    "my_list = [10, 5, 20, 15, 30, 25]\n",
    "sorted_list = sorted(set(my_list))\n",
    "if len(sorted_list) >= 2:\n",
    "    second_largest = sorted_list[-2]\n",
    "    print(\"Second largest number:\", second_largest)\n",
    "else:\n",
    "    print(\"The list does not contain enough elements.\")"
   ]
  },
  {
   "cell_type": "markdown",
   "id": "e7b9117f-42d7-405f-8ccf-15f46cbb45f7",
   "metadata": {},
   "source": [
    "36. Replace every element in a list with its square."
   ]
  },
  {
   "cell_type": "code",
   "execution_count": 18,
   "id": "acdb352d-8001-496b-b278-9a4ec935665c",
   "metadata": {},
   "outputs": [
    {
     "name": "stdout",
     "output_type": "stream",
     "text": [
      "Squared list: [4, 16, 36, 64, 100]\n"
     ]
    }
   ],
   "source": [
    "my_list = [2, 4, 6, 8, 10]\n",
    "squared_list = [x ** 2 for x in my_list]\n",
    "print(\"Squared list:\", squared_list)"
   ]
  },
  {
   "cell_type": "markdown",
   "id": "d518317a-5171-4964-aa68-d6ce90fa816a",
   "metadata": {},
   "source": [
    "37. Convert a list to a dictionary where list elements become keys and their indices become values."
   ]
  },
  {
   "cell_type": "code",
   "execution_count": 19,
   "id": "c7aa434b-87b7-41aa-910d-a9e399de7cf8",
   "metadata": {},
   "outputs": [
    {
     "name": "stdout",
     "output_type": "stream",
     "text": [
      "Converted dictionary: {'apple': 0, 'banana': 1, 'cherry': 2, 'date': 3, 'elderberry': 4}\n"
     ]
    }
   ],
   "source": [
    "my_list = ['apple', 'banana', 'cherry', 'date', 'elderberry']\n",
    "my_dict = {element: index for index, element in enumerate(my_list)}\n",
    "print(\"Converted dictionary:\", my_dict)"
   ]
  },
  {
   "cell_type": "markdown",
   "id": "525c7795-e3a8-43d0-a73d-2b763ea0eef8",
   "metadata": {},
   "source": [
    "38. Shuffle the elements of a list randomly."
   ]
  },
  {
   "cell_type": "code",
   "execution_count": 20,
   "id": "2a128814-5d2c-48e9-a07d-8265eebaf964",
   "metadata": {},
   "outputs": [
    {
     "name": "stdout",
     "output_type": "stream",
     "text": [
      "Shuffled list: [5, 1, 4, 7, 10, 6, 3, 8, 2, 9]\n"
     ]
    }
   ],
   "source": [
    "import random\n",
    "my_list = [1, 2, 3, 4, 5, 6, 7, 8, 9, 10]\n",
    "random.shuffle(my_list)\n",
    "print(\"Shuffled list:\", my_list)"
   ]
  },
  {
   "cell_type": "markdown",
   "id": "cae621c7-eb86-45c1-bf64-fdbeba05d576",
   "metadata": {},
   "source": [
    "39. Create a list of the first 10 factorial numbers."
   ]
  },
  {
   "cell_type": "code",
   "execution_count": 21,
   "id": "11451fe0-29a7-407f-b353-5ec2b1f33202",
   "metadata": {},
   "outputs": [
    {
     "name": "stdout",
     "output_type": "stream",
     "text": [
      "List of the first 10 factorial numbers: [1, 1, 2, 6, 24, 120, 720, 5040, 40320, 362880]\n"
     ]
    }
   ],
   "source": [
    "def factorial(n):\n",
    "    if n == 0 or n == 1:\n",
    "        return 1\n",
    "    else:\n",
    "        return n * factorial(n - 1)\n",
    "factorial_numbers = [factorial(i) for i in range(10)]\n",
    "print(\"List of the first 10 factorial numbers:\", factorial_numbers)"
   ]
  },
  {
   "cell_type": "markdown",
   "id": "e8f5a06b-2454-45a4-a9a5-dafb83128c20",
   "metadata": {},
   "source": [
    "40. Check if two lists have at least one element in common."
   ]
  },
  {
   "cell_type": "code",
   "execution_count": 22,
   "id": "50a4f608-1de3-4405-8176-ac2cac94b953",
   "metadata": {},
   "outputs": [
    {
     "name": "stdout",
     "output_type": "stream",
     "text": [
      "The lists have at least one common element.\n"
     ]
    }
   ],
   "source": [
    "def has_common_element(list1, list2):\n",
    "    for item in list1:\n",
    "        if item in list2:\n",
    "            return True\n",
    "    return False\n",
    "list1 = [1, 2, 3, 4, 5]\n",
    "list2 = [4, 5, 6, 7, 8]\n",
    "if has_common_element(list1, list2):\n",
    "    print(\"The lists have at least one common element.\")\n",
    "else:\n",
    "    print(\"The lists do not have any common elements.\")"
   ]
  },
  {
   "cell_type": "markdown",
   "id": "fe614fc6-844b-45df-ba2b-85ca143dc1b8",
   "metadata": {},
   "source": [
    "41. Remove all elements from a list."
   ]
  },
  {
   "cell_type": "code",
   "execution_count": 23,
   "id": "ad62eb93-035b-4bed-8efc-f66b791f7d0f",
   "metadata": {},
   "outputs": [
    {
     "name": "stdout",
     "output_type": "stream",
     "text": [
      "Empty list: []\n"
     ]
    }
   ],
   "source": [
    "my_list = [1, 2, 3, 4, 5]\n",
    "my_list.clear()\n",
    "print(\"Empty list:\", my_list)"
   ]
  },
  {
   "cell_type": "markdown",
   "id": "f8710b31-7993-4dee-888e-efb31ab4c016",
   "metadata": {},
   "source": [
    "42. Replace negative numbers in a list with 0."
   ]
  },
  {
   "cell_type": "code",
   "execution_count": 24,
   "id": "a4ee777f-53a3-4c19-b8e9-284763ebcb7f",
   "metadata": {},
   "outputs": [
    {
     "name": "stdout",
     "output_type": "stream",
     "text": [
      "List after replacing negative numbers with 0: [10, 0, 20, 0, 30, 0]\n"
     ]
    }
   ],
   "source": [
    "my_list = [10, -5, 20, -15, 30, -25]\n",
    "for i in range(len(my_list)):\n",
    "    if my_list[i] < 0:\n",
    "        my_list[i] = 0\n",
    "print(\"List after replacing negative numbers with 0:\", my_list)"
   ]
  },
  {
   "cell_type": "markdown",
   "id": "0bed7748-31ad-4e4e-9e9a-b04242639bf8",
   "metadata": {},
   "source": [
    "43. Convert a string into a list of words."
   ]
  },
  {
   "cell_type": "code",
   "execution_count": 25,
   "id": "4a04d21a-1285-4108-907c-195ce7217242",
   "metadata": {},
   "outputs": [
    {
     "name": "stdout",
     "output_type": "stream",
     "text": [
      "List of words: ['Hello,', 'this', 'is', 'a', 'sample', 'sentence.']\n"
     ]
    }
   ],
   "source": [
    "my_string = \"Hello, this is a sample sentence.\"\n",
    "word_list = my_string.split()\n",
    "print(\"List of words:\", word_list)"
   ]
  },
  {
   "cell_type": "markdown",
   "id": "45631cbb-157e-479e-923e-eb43a6269407",
   "metadata": {},
   "source": [
    "44. Convert a list of words into a string."
   ]
  },
  {
   "cell_type": "code",
   "execution_count": 28,
   "id": "ffebf464-2027-4c3b-93b4-cb4739527788",
   "metadata": {},
   "outputs": [
    {
     "name": "stdout",
     "output_type": "stream",
     "text": [
      "Converted string: This, is my name\n"
     ]
    }
   ],
   "source": [
    "word_list = [\"This,\", \"is\", \"my\", \"name\"]\n",
    "my_string = \" \".join(word_list)\n",
    "print(\"Converted string:\", my_string)"
   ]
  },
  {
   "cell_type": "markdown",
   "id": "fca92b57-21f9-41d1-8af4-7740f85b97ca",
   "metadata": {},
   "source": [
    "45. Create a list of the first `n` powers of 2."
   ]
  },
  {
   "cell_type": "code",
   "execution_count": 29,
   "id": "c7274636-0c40-4a71-8c0f-cd50fb25ee2a",
   "metadata": {},
   "outputs": [
    {
     "name": "stdout",
     "output_type": "stream",
     "text": [
      "List of the first 5 powers of 2: [1, 2, 4, 8, 16]\n"
     ]
    }
   ],
   "source": [
    "n = 5\n",
    "power_list = [2 ** i for i in range(n)]\n",
    "print(\"List of the first\", n, \"powers of 2:\", power_list)"
   ]
  },
  {
   "cell_type": "markdown",
   "id": "947b8e63-5039-4dff-b4d3-4b6f2426c19c",
   "metadata": {},
   "source": [
    "46. Find the longest string in a list of strings."
   ]
  },
  {
   "cell_type": "code",
   "execution_count": 31,
   "id": "572cf480-4cce-4263-8b9a-f8abe06cf901",
   "metadata": {},
   "outputs": [
    {
     "name": "stdout",
     "output_type": "stream",
     "text": [
      "Longest string: Bishwajit\n"
     ]
    }
   ],
   "source": [
    "string_list = [\"My\", \"name\", \"is\", \"Bishwajit\", \"Kumar\"]\n",
    "longest_string = \"\"\n",
    "for s in string_list:\n",
    "    if len(s) > len(longest_string):\n",
    "        longest_string = s\n",
    "print(\"Longest string:\", longest_string)"
   ]
  },
  {
   "cell_type": "markdown",
   "id": "db57e992-d3c0-43f8-a011-c1f1042195c8",
   "metadata": {},
   "source": [
    "47. Find the shortest string in a list of strings."
   ]
  },
  {
   "cell_type": "code",
   "execution_count": 32,
   "id": "75ca5806-9f1c-4d8d-9311-e5391146293c",
   "metadata": {},
   "outputs": [
    {
     "name": "stdout",
     "output_type": "stream",
     "text": [
      "Shortest string: My\n"
     ]
    }
   ],
   "source": [
    "string_list = [\"My\", \"name\", \"is\", \"Bishwajit\", \"Kumar\"]\n",
    "shortest_string = string_list[0]  \n",
    "for s in string_list:\n",
    "    if len(s) < len(shortest_string):\n",
    "        shortest_string = s\n",
    "print(\"Shortest string:\", shortest_string)"
   ]
  },
  {
   "cell_type": "markdown",
   "id": "bebfb003-2096-48f3-b3fa-57925dbf7c1a",
   "metadata": {},
   "source": [
    "48. Create a list of the first `n` triangular numbers."
   ]
  },
  {
   "cell_type": "code",
   "execution_count": 33,
   "id": "398a61e9-5100-4571-a2d4-f083496319e0",
   "metadata": {},
   "outputs": [
    {
     "name": "stdout",
     "output_type": "stream",
     "text": [
      "List of the first 5 triangular numbers: [1, 3, 6, 10, 15]\n"
     ]
    }
   ],
   "source": [
    "def triangular_numbers(n):\n",
    "    return [i * (i + 1) // 2 for i in range(1, n + 1)]\n",
    "n = 5\n",
    "triangular_list = triangular_numbers(n)\n",
    "print(\"List of the first\", n, \"triangular numbers:\", triangular_list)"
   ]
  },
  {
   "cell_type": "markdown",
   "id": "1d3c14f6-2656-456d-a09d-d64c2969f721",
   "metadata": {},
   "source": [
    "49. Check if a list contains another list as a subsequence."
   ]
  },
  {
   "cell_type": "code",
   "execution_count": 34,
   "id": "4c7b2b2e-a00f-4377-8fb5-5521450ecae4",
   "metadata": {},
   "outputs": [
    {
     "name": "stdout",
     "output_type": "stream",
     "text": [
      "Main list contains the subsequence.\n"
     ]
    }
   ],
   "source": [
    "def is_subsequence(subsequence, main_list):\n",
    "    subseq_index = 0  \n",
    "    for element in main_list:\n",
    "        if element == subsequence[subseq_index]:\n",
    "            subseq_index += 1\n",
    "            if subseq_index == len(subsequence):\n",
    "                return True\n",
    "    return False\n",
    "main_list = [1, 2, 3, 4, 5, 6, 7, 8, 9, 10]\n",
    "subsequence = [3, 5, 8]\n",
    "if is_subsequence(subsequence, main_list):\n",
    "    print(\"Main list contains the subsequence.\")\n",
    "else:\n",
    "    print(\"Main list does not contain the subsequence.\")"
   ]
  },
  {
   "cell_type": "markdown",
   "id": "72b09367-88be-40ce-a254-c4914f9b732b",
   "metadata": {},
   "source": [
    "50. Swap two elements in a list by their indices."
   ]
  },
  {
   "cell_type": "code",
   "execution_count": 35,
   "id": "58a71133-592b-4b96-9c1e-4408ba29c1c7",
   "metadata": {},
   "outputs": [
    {
     "name": "stdout",
     "output_type": "stream",
     "text": [
      "List after swapping elements: [1, 4, 3, 2, 5]\n"
     ]
    }
   ],
   "source": [
    "my_list = [1, 2, 3, 4, 5]\n",
    "index1 = 1\n",
    "index2 = 3\n",
    "\n",
    "temp = my_list[index1]\n",
    "my_list[index1] = my_list[index2]\n",
    "my_list[index2] = temp\n",
    "\n",
    "print(\"List after swapping elements:\", my_list)"
   ]
  },
  {
   "cell_type": "markdown",
   "id": "5089b928-b395-4ad1-a76a-85dee780af63",
   "metadata": {},
   "source": [
    "Tuple Based Practice Problem :\n",
    "1. Create a tuple with integers from 1 to 5."
   ]
  },
  {
   "cell_type": "code",
   "execution_count": 36,
   "id": "bb2d6f9d-3af1-4f87-9cf5-14d4c21bb6c3",
   "metadata": {},
   "outputs": [],
   "source": [
    "my_tuple = (10, 20, 30, 40, 50)"
   ]
  },
  {
   "cell_type": "markdown",
   "id": "4e07814f-a7c2-415d-8de6-b56142ccdd14",
   "metadata": {},
   "source": [
    "2. Access the third element of a tuple."
   ]
  },
  {
   "cell_type": "code",
   "execution_count": 38,
   "id": "ce806204-0cf5-468d-a4fb-3cae01456cfd",
   "metadata": {},
   "outputs": [
    {
     "name": "stdout",
     "output_type": "stream",
     "text": [
      "The third element of the tuple is: 30\n"
     ]
    }
   ],
   "source": [
    "my_tuple = (10, 20, 30, 40, 50)\n",
    "\n",
    "third_element = my_tuple[2]\n",
    "print(\"The third element of the tuple is:\", third_element)"
   ]
  },
  {
   "cell_type": "markdown",
   "id": "30d4e97e-2c3c-4071-ac56-7fb51b12001e",
   "metadata": {},
   "source": [
    "3. Find the length of a tuple without using the `len()` function."
   ]
  },
  {
   "cell_type": "code",
   "execution_count": 39,
   "id": "8230bf93-0864-4d9c-92ab-71cf2b6f2ac5",
   "metadata": {},
   "outputs": [
    {
     "name": "stdout",
     "output_type": "stream",
     "text": [
      "The length of the tuple is: 5\n"
     ]
    }
   ],
   "source": [
    "my_tuple = (10, 20, 30, 40, 50)\n",
    "count = 0\n",
    "for _ in my_tuple:\n",
    "    count += 1\n",
    "print(\"The length of the tuple is:\", count)"
   ]
  },
  {
   "cell_type": "markdown",
   "id": "1609cfd4-6e31-4ec7-97e8-96f230e6bba7",
   "metadata": {},
   "source": [
    "4. Count the occurrences of an element in a tuple."
   ]
  },
  {
   "cell_type": "code",
   "execution_count": 40,
   "id": "d1c16d8f-02de-4d3b-9f3f-af7ec0f7b07d",
   "metadata": {},
   "outputs": [
    {
     "name": "stdout",
     "output_type": "stream",
     "text": [
      "The element 20 appears 3 times in the tuple.\n"
     ]
    }
   ],
   "source": [
    "my_tuple = (10, 20, 30, 20, 40, 50, 20)\n",
    "\n",
    "element_to_count = 20\n",
    "\n",
    "count = 0\n",
    "\n",
    "for item in my_tuple:\n",
    "    if item == element_to_count:\n",
    "        count += 1\n",
    "\n",
    "print(f\"The element {element_to_count} appears {count} times in the tuple.\")"
   ]
  },
  {
   "cell_type": "markdown",
   "id": "378995a6-35bd-47b3-8e92-be0be2c072b0",
   "metadata": {},
   "source": [
    "5. Find the index of the first occurrence of an element in a tuple."
   ]
  },
  {
   "cell_type": "code",
   "execution_count": 41,
   "id": "f1d84806-62ee-48b3-9b46-f9088dc1ba91",
   "metadata": {},
   "outputs": [
    {
     "name": "stdout",
     "output_type": "stream",
     "text": [
      "The first occurrence of 20 is at index 1.\n"
     ]
    }
   ],
   "source": [
    "my_tuple = (10, 20, 30, 20, 40, 50)\n",
    "\n",
    "element_to_find = 20\n",
    "\n",
    "index = -1 \n",
    "\n",
    "for i, item in enumerate(my_tuple):\n",
    "    if item == element_to_find:\n",
    "        index = i\n",
    "        break  \n",
    "if index != -1:\n",
    "    print(f\"The first occurrence of {element_to_find} is at index {index}.\")\n",
    "else:\n",
    "    print(f\"{element_to_find} is not found in the tuple.\")"
   ]
  },
  {
   "cell_type": "markdown",
   "id": "f43d355b-6561-42e0-a79b-e0f826cef8a0",
   "metadata": {},
   "source": [
    "6. Check if an element exists in a tuple."
   ]
  },
  {
   "cell_type": "code",
   "execution_count": 42,
   "id": "af937664-f9f0-4f1a-8c32-56aa4babce2c",
   "metadata": {},
   "outputs": [
    {
     "name": "stdout",
     "output_type": "stream",
     "text": [
      "30 exists in the tuple.\n"
     ]
    }
   ],
   "source": [
    "my_tuple = (10, 20, 30, 40, 50)\n",
    "\n",
    "element_to_check = 30\n",
    "\n",
    "if element_to_check in my_tuple:\n",
    "    print(f\"{element_to_check} exists in the tuple.\")\n",
    "else:\n",
    "    print(f\"{element_to_check} does not exist in the tuple.\")"
   ]
  },
  {
   "cell_type": "markdown",
   "id": "ebfd923a-797d-4f88-8112-eb332fb20936",
   "metadata": {},
   "source": [
    "7. Convert a tuple to a list."
   ]
  },
  {
   "cell_type": "code",
   "execution_count": 43,
   "id": "d425b39e-5354-47c2-a3b2-ad244955c1fe",
   "metadata": {},
   "outputs": [
    {
     "name": "stdout",
     "output_type": "stream",
     "text": [
      "Tuple: (10, 20, 30, 40, 50)\n",
      "List: [10, 20, 30, 40, 50]\n"
     ]
    }
   ],
   "source": [
    "my_tuple = (10, 20, 30, 40, 50)\n",
    "\n",
    "my_list = list(my_tuple)\n",
    "\n",
    "print(\"Tuple:\", my_tuple)\n",
    "print(\"List:\", my_list)"
   ]
  },
  {
   "cell_type": "markdown",
   "id": "441830d6-b5ee-4a08-bc89-3eae8a6687d8",
   "metadata": {},
   "source": [
    "8. Convert a list to a tuple."
   ]
  },
  {
   "cell_type": "code",
   "execution_count": 44,
   "id": "8ebd881f-8dae-4997-8629-1d40e4ae1f77",
   "metadata": {},
   "outputs": [
    {
     "name": "stdout",
     "output_type": "stream",
     "text": [
      "List: [10, 20, 30, 40, 50]\n",
      "Tuple: (10, 20, 30, 40, 50)\n"
     ]
    }
   ],
   "source": [
    "my_list = [10, 20, 30, 40, 50]\n",
    "\n",
    "my_tuple = tuple(my_list)\n",
    "\n",
    "print(\"List:\", my_list)\n",
    "print(\"Tuple:\", my_tuple)"
   ]
  },
  {
   "cell_type": "markdown",
   "id": "a0c6f186-1b4b-47be-b197-13b817951e2c",
   "metadata": {},
   "source": [
    "9. Unpack the elements of a tuple into variables."
   ]
  },
  {
   "cell_type": "code",
   "execution_count": 45,
   "id": "2a42d98d-cc92-475a-98d6-7191215bcb52",
   "metadata": {},
   "outputs": [
    {
     "name": "stdout",
     "output_type": "stream",
     "text": [
      "var1: 10\n",
      "var2: 20\n",
      "var3: 30\n"
     ]
    }
   ],
   "source": [
    "my_tuple = (10, 20, 30)\n",
    "\n",
    "var1, var2, var3 = my_tuple\n",
    "\n",
    "print(\"var1:\", var1)\n",
    "print(\"var2:\", var2)\n",
    "print(\"var3:\", var3)"
   ]
  },
  {
   "cell_type": "markdown",
   "id": "a1eefade-ef26-4cde-b9f5-42107a574a36",
   "metadata": {},
   "source": [
    "10. Create a tuple of even numbers from 1 to 10."
   ]
  },
  {
   "cell_type": "code",
   "execution_count": 46,
   "id": "4b654cae-cc61-4c11-9de5-8296591433ce",
   "metadata": {},
   "outputs": [
    {
     "name": "stdout",
     "output_type": "stream",
     "text": [
      "Tuple of even numbers: (2, 4, 6, 8, 10)\n"
     ]
    }
   ],
   "source": [
    "even_numbers_list = [num for num in range(2, 11, 2)]  \n",
    "\n",
    "even_numbers_tuple = tuple(even_numbers_list)\n",
    "\n",
    "print(\"Tuple of even numbers:\", even_numbers_tuple)"
   ]
  },
  {
   "cell_type": "markdown",
   "id": "85b737f6-1448-41bd-98a8-884b6cb517d2",
   "metadata": {},
   "source": [
    "11. Create a tuple of odd numbers from 1 to 10."
   ]
  },
  {
   "cell_type": "code",
   "execution_count": 48,
   "id": "e79169b9-d70f-40cd-b714-084a9a967659",
   "metadata": {},
   "outputs": [
    {
     "name": "stdout",
     "output_type": "stream",
     "text": [
      "Tuple of even numbers: (2, 4, 6, 8, 10)\n"
     ]
    }
   ],
   "source": [
    "even_numbers_list = [num for num in range(2, 11, 2)]  \n",
    "\n",
    "even_numbers_tuple = tuple(even_numbers_list)\n",
    "\n",
    "print(\"Tuple of even numbers:\", even_numbers_tuple)"
   ]
  },
  {
   "cell_type": "markdown",
   "id": "f0e8824b-cab8-4069-b4ed-c03d4b534c4f",
   "metadata": {},
   "source": [
    "12. Concatenate two tuples."
   ]
  },
  {
   "cell_type": "code",
   "execution_count": 49,
   "id": "b16d3ad6-defa-4605-88f6-93248bb03344",
   "metadata": {},
   "outputs": [
    {
     "name": "stdout",
     "output_type": "stream",
     "text": [
      "Concatenated tuple: (1, 2, 3, 4, 5, 6)\n"
     ]
    }
   ],
   "source": [
    "tuple1 = (1, 2, 3)\n",
    "tuple2 = (4, 5, 6)\n",
    "\n",
    "concatenated_tuple = tuple1 + tuple2\n",
    "\n",
    "print(\"Concatenated tuple:\", concatenated_tuple)"
   ]
  },
  {
   "cell_type": "markdown",
   "id": "c40af11b-c675-4cfc-ace7-d0f530103d34",
   "metadata": {},
   "source": [
    "13. Repeat a tuple three times."
   ]
  },
  {
   "cell_type": "code",
   "execution_count": 51,
   "id": "fc900e4d-9f99-4825-9fb7-59309abf84ba",
   "metadata": {},
   "outputs": [
    {
     "name": "stdout",
     "output_type": "stream",
     "text": [
      "Repeated tuple: (1, 2, 3, 1, 2, 3, 1, 2, 3)\n"
     ]
    }
   ],
   "source": [
    "original_tuple = (1, 2, 3)\n",
    "\n",
    "repeated_tuple = original_tuple * 3\n",
    "\n",
    "print(\"Repeated tuple:\", repeated_tuple)"
   ]
  },
  {
   "cell_type": "markdown",
   "id": "e6612e51-879f-414b-a819-465d7549dc48",
   "metadata": {},
   "source": [
    "14. Check if a tuple is empty."
   ]
  },
  {
   "cell_type": "code",
   "execution_count": 53,
   "id": "daa38e9f-1c7e-4ac3-8b85-88c31e23e900",
   "metadata": {},
   "outputs": [
    {
     "name": "stdout",
     "output_type": "stream",
     "text": [
      "The empty_tuple is not empty.\n",
      "The non_empty_tuple is not empty.\n"
     ]
    }
   ],
   "source": [
    "empty_tuple = (1)\n",
    "non_empty_tuple = (1, 2, 3)\n",
    "if not empty_tuple:\n",
    "    print(\"The empty_tuple is empty.\")\n",
    "else:\n",
    "    print(\"The empty_tuple is not empty.\")\n",
    "\n",
    "if not non_empty_tuple:\n",
    "    print(\"The non_empty_tuple is empty.\")\n",
    "else:\n",
    "    print(\"The non_empty_tuple is not empty.\")"
   ]
  },
  {
   "cell_type": "markdown",
   "id": "5454add9-7e37-4cdd-b611-fc297565af90",
   "metadata": {},
   "source": [
    "15. Create a nested tuple."
   ]
  },
  {
   "cell_type": "code",
   "execution_count": 54,
   "id": "f4d623bc-3273-41f0-a5aa-66f1110117e0",
   "metadata": {},
   "outputs": [
    {
     "name": "stdout",
     "output_type": "stream",
     "text": [
      "Nested tuple: ((1, 2, 3), ('a', 'b', 'c'), (True, False))\n"
     ]
    }
   ],
   "source": [
    "nested_tuple = ((1, 2, 3), ('a', 'b', 'c'), (True, False))\n",
    "\n",
    "print(\"Nested tuple:\", nested_tuple)"
   ]
  },
  {
   "cell_type": "markdown",
   "id": "d0adeadf-1dc9-47c8-97a8-41a3525232f4",
   "metadata": {},
   "source": [
    "16. Access the first element of a nested tuple."
   ]
  },
  {
   "cell_type": "code",
   "execution_count": 55,
   "id": "c9b1e577-9556-471c-88fc-f274d232f90b",
   "metadata": {},
   "outputs": [
    {
     "name": "stdout",
     "output_type": "stream",
     "text": [
      "First element of the nested tuple: (1, 2, 3)\n"
     ]
    }
   ],
   "source": [
    "nested_tuple = ((1, 2, 3), ('a', 'b', 'c'), (True, False))\n",
    "\n",
    "first_element = nested_tuple[0]\n",
    "\n",
    "print(\"First element of the nested tuple:\", first_element)"
   ]
  },
  {
   "cell_type": "markdown",
   "id": "860f513a-edd2-4e1d-a019-1ffac564c4b1",
   "metadata": {},
   "source": [
    "17. Create a tuple with a single element."
   ]
  },
  {
   "cell_type": "code",
   "execution_count": 56,
   "id": "06e464f8-bc60-4a10-bf56-4de85f3bbfe9",
   "metadata": {},
   "outputs": [
    {
     "name": "stdout",
     "output_type": "stream",
     "text": [
      "Single element tuple: (42,)\n"
     ]
    }
   ],
   "source": [
    "single_element_tuple = (42,)  \n",
    "\n",
    "print(\"Single element tuple:\", single_element_tuple)"
   ]
  },
  {
   "cell_type": "markdown",
   "id": "ccb90161-66ab-42bd-91d3-62e487ddcf6e",
   "metadata": {},
   "source": [
    "18. Compare two tuples."
   ]
  },
  {
   "cell_type": "code",
   "execution_count": 57,
   "id": "57e9c320-4297-4b3f-93db-b5416f0d2fc5",
   "metadata": {},
   "outputs": [
    {
     "name": "stdout",
     "output_type": "stream",
     "text": [
      "tuple1 == tuple2: False\n",
      "tuple1 != tuple2: True\n",
      "tuple1 < tuple2: True\n",
      "tuple1 <= tuple2: True\n",
      "tuple1 > tuple2: False\n",
      "tuple1 >= tuple2: False\n"
     ]
    }
   ],
   "source": [
    "tuple1 = (1, 2, 3)\n",
    "tuple2 = (1, 2, 4)\n",
    "\n",
    "print(\"tuple1 == tuple2:\", tuple1 == tuple2)  # Equality check\n",
    "print(\"tuple1 != tuple2:\", tuple1 != tuple2)  # Inequality check\n",
    "print(\"tuple1 < tuple2:\", tuple1 < tuple2)    # Less than check\n",
    "print(\"tuple1 <= tuple2:\", tuple1 <= tuple2)  # Less than or equal to check\n",
    "print(\"tuple1 > tuple2:\", tuple1 > tuple2)    # Greater than check\n",
    "print(\"tuple1 >= tuple2:\", tuple1 >= tuple2)  # Greater than or equal to check"
   ]
  },
  {
   "cell_type": "markdown",
   "id": "2874c1ce-dee0-4de2-9122-46657c4c8f32",
   "metadata": {},
   "source": [
    "19. Delete a tuple."
   ]
  },
  {
   "cell_type": "code",
   "execution_count": 6,
   "id": "90708f01-e92e-4c77-b502-9fa83517859c",
   "metadata": {},
   "outputs": [],
   "source": [
    "tuple1 = (1, 2, 3, 4, 5)"
   ]
  },
  {
   "cell_type": "code",
   "execution_count": 7,
   "id": "e17759fd-6268-4d27-8738-b2a0391904cd",
   "metadata": {},
   "outputs": [
    {
     "data": {
      "text/plain": [
       "(1, 2, 3, 4, 5)"
      ]
     },
     "execution_count": 7,
     "metadata": {},
     "output_type": "execute_result"
    }
   ],
   "source": [
    "tuple1"
   ]
  },
  {
   "cell_type": "markdown",
   "id": "45ef8775-c26e-4739-aff5-fef616ddb380",
   "metadata": {},
   "source": [
    "del tuple1\n",
    "\n",
    "print(tuple1) #error"
   ]
  },
  {
   "cell_type": "markdown",
   "id": "d2b9dedf-c7fb-41d2-9fa9-e2da26976491",
   "metadata": {},
   "source": [
    "20. Slice a tuple."
   ]
  },
  {
   "cell_type": "code",
   "execution_count": 10,
   "id": "ac995427-0a07-4c29-858e-0520f16a931e",
   "metadata": {},
   "outputs": [
    {
     "name": "stdout",
     "output_type": "stream",
     "text": [
      "Sliced tuple: (3, 4, 5, 6)\n"
     ]
    }
   ],
   "source": [
    "my_tuple = (1, 2, 3, 4, 5, 6, 7, 8, 9, 10)\n",
    "\n",
    "sliced_tuple = my_tuple[2:6] \n",
    "\n",
    "print(\"Sliced tuple:\", sliced_tuple)"
   ]
  },
  {
   "cell_type": "markdown",
   "id": "5a741afc-0e07-41e6-9419-22584c8d1b6f",
   "metadata": {},
   "source": [
    "21. Find the maximum value in a tuple."
   ]
  },
  {
   "cell_type": "code",
   "execution_count": 11,
   "id": "8499b669-22aa-40c8-8b7b-6a06323ce47f",
   "metadata": {},
   "outputs": [
    {
     "name": "stdout",
     "output_type": "stream",
     "text": [
      "Maximum value: 45\n"
     ]
    }
   ],
   "source": [
    "my_tuple = (10, 20, 5, 45, 30)\n",
    "max_value = max(my_tuple)\n",
    "print(\"Maximum value:\", max_value)"
   ]
  },
  {
   "cell_type": "markdown",
   "id": "150a4fbf-06bc-4544-b0a5-706e828c0818",
   "metadata": {},
   "source": [
    "22. Find the minimum value in a tuple."
   ]
  },
  {
   "cell_type": "code",
   "execution_count": 12,
   "id": "8dc9496d-5a67-45f2-b82c-1e0cf6712829",
   "metadata": {},
   "outputs": [
    {
     "name": "stdout",
     "output_type": "stream",
     "text": [
      "Minimum value: 5\n"
     ]
    }
   ],
   "source": [
    "my_tuple = (10, 20, 5, 45, 30)\n",
    "\n",
    "min_value = min(my_tuple)\n",
    "\n",
    "print(\"Minimum value:\", min_value)"
   ]
  },
  {
   "cell_type": "markdown",
   "id": "810ac3ed-0ad8-4809-a055-cfdbc466aaf9",
   "metadata": {},
   "source": [
    "23. Convert a string to a tuple of characters."
   ]
  },
  {
   "cell_type": "code",
   "execution_count": 14,
   "id": "28ac0965-f9fe-404a-8b94-ab7f4738ceea",
   "metadata": {},
   "outputs": [
    {
     "name": "stdout",
     "output_type": "stream",
     "text": [
      "Tuple of characters: ('B', 'i', 's', 'h', 'w', 'a', 'j', 'i', 't')\n"
     ]
    }
   ],
   "source": [
    "my_string = \"Bishwajit\"\n",
    "\n",
    "tuple_of_characters = tuple(my_string)\n",
    "\n",
    "print(\"Tuple of characters:\", tuple_of_characters)"
   ]
  },
  {
   "cell_type": "markdown",
   "id": "8e69750f-06ea-4c20-a3bc-4b9d74bbdca6",
   "metadata": {},
   "source": [
    "24. Convert a tuple of characters to a string."
   ]
  },
  {
   "cell_type": "code",
   "execution_count": 17,
   "id": "cc23a1dc-196a-4b25-aab4-a48dfc6143bb",
   "metadata": {},
   "outputs": [
    {
     "name": "stdout",
     "output_type": "stream",
     "text": [
      "String from tuple: Bishwajit\n"
     ]
    }
   ],
   "source": [
    "tuple_of_characters = ('B', 'i', 's', 'h', 'w', 'a', 'j', 'i', 't')\n",
    "\n",
    "string_from_tuple = ''.join(tuple_of_characters)\n",
    "\n",
    "print(\"String from tuple:\", string_from_tuple)"
   ]
  },
  {
   "cell_type": "markdown",
   "id": "72196e80-988c-41a4-9324-cc72d0f5ecfa",
   "metadata": {},
   "source": [
    "25. Create a tuple from multiple data types."
   ]
  },
  {
   "cell_type": "code",
   "execution_count": 18,
   "id": "1a51dd20-cc0e-4253-8a10-b5e01c595225",
   "metadata": {},
   "outputs": [
    {
     "name": "stdout",
     "output_type": "stream",
     "text": [
      "(1, 'hello', 3.14, True)\n"
     ]
    }
   ],
   "source": [
    "mixed_tuple = (1, \"hello\", 3.14, True)\n",
    "\n",
    "print(mixed_tuple)"
   ]
  },
  {
   "cell_type": "markdown",
   "id": "356b7e79-ee42-4a8f-95cf-4abb06c7b811",
   "metadata": {},
   "source": [
    "26. Check if two tuples are identical."
   ]
  },
  {
   "cell_type": "code",
   "execution_count": 19,
   "id": "50efea53-57c8-4dc8-ac71-ac69e206267c",
   "metadata": {},
   "outputs": [
    {
     "name": "stdout",
     "output_type": "stream",
     "text": [
      "tuple1 and tuple2 are identical: True\n",
      "tuple1 and tuple3 are identical: False\n"
     ]
    }
   ],
   "source": [
    "tuple1 = (1, 2, 3)\n",
    "tuple2 = (1, 2, 3)\n",
    "tuple3 = (4, 5, 6)\n",
    "\n",
    "are_identical1 = tuple1 == tuple2\n",
    "are_identical2 = tuple1 == tuple3\n",
    "\n",
    "print(\"tuple1 and tuple2 are identical:\", are_identical1)\n",
    "print(\"tuple1 and tuple3 are identical:\", are_identical2)"
   ]
  },
  {
   "cell_type": "markdown",
   "id": "22667334-b4cc-4087-9caf-c3ec436bb91d",
   "metadata": {},
   "source": [
    "27. Sort the elements of a tuple."
   ]
  },
  {
   "cell_type": "code",
   "execution_count": 20,
   "id": "06f6b6f7-1d91-4867-acf6-6e7d1e25dca0",
   "metadata": {},
   "outputs": [
    {
     "name": "stdout",
     "output_type": "stream",
     "text": [
      "Sorted tuple: (1, 2, 3, 5, 8)\n"
     ]
    }
   ],
   "source": [
    "my_tuple = (5, 2, 8, 1, 3)\n",
    "\n",
    "sorted_tuple = tuple(sorted(my_tuple))\n",
    "\n",
    "print(\"Sorted tuple:\", sorted_tuple)\n"
   ]
  },
  {
   "cell_type": "markdown",
   "id": "84f9b766-d7ac-428c-a7a6-f32f8bfab517",
   "metadata": {},
   "source": [
    "28. Convert a tuple of integers to a tuple of strings."
   ]
  },
  {
   "cell_type": "code",
   "execution_count": 21,
   "id": "ad91f338-ce03-4da7-84cb-70b74da96302",
   "metadata": {},
   "outputs": [
    {
     "name": "stdout",
     "output_type": "stream",
     "text": [
      "Tuple of strings: ('1', '2', '3', '4', '5')\n"
     ]
    }
   ],
   "source": [
    "tuple_of_integers = (1, 2, 3, 4, 5)\n",
    "\n",
    "tuple_of_strings = tuple(str(item) for item in tuple_of_integers)\n",
    "\n",
    "print(\"Tuple of strings:\", tuple_of_strings)"
   ]
  },
  {
   "cell_type": "markdown",
   "id": "263b6eb1-7c4d-4f08-a4bd-d9f75ebe2951",
   "metadata": {},
   "source": [
    "29. Convert a tuple of strings to a tuple of integers."
   ]
  },
  {
   "cell_type": "code",
   "execution_count": 22,
   "id": "a1640760-d478-47d8-9486-ad5d16f90afa",
   "metadata": {},
   "outputs": [
    {
     "name": "stdout",
     "output_type": "stream",
     "text": [
      "Tuple of integers: (10, 20, 30, 40, 50)\n"
     ]
    }
   ],
   "source": [
    "tuple_of_strings = ('10', '20', '30', '40', '50')\n",
    "\n",
    "tuple_of_integers = tuple(int(item) for item in tuple_of_strings)\n",
    "\n",
    "print(\"Tuple of integers:\", tuple_of_integers)"
   ]
  },
  {
   "cell_type": "markdown",
   "id": "40b52ec0-00ba-47dd-aefc-45c1eb099a11",
   "metadata": {},
   "source": [
    "30. Merge two tuples."
   ]
  },
  {
   "cell_type": "code",
   "execution_count": 23,
   "id": "e9662db8-65b0-4d69-9403-82024a2b63f1",
   "metadata": {},
   "outputs": [
    {
     "name": "stdout",
     "output_type": "stream",
     "text": [
      "Merged tuple: (1, 2, 3, 4, 5, 6)\n"
     ]
    }
   ],
   "source": [
    "tuple1 = (1, 2, 3)\n",
    "tuple2 = (4, 5, 6)\n",
    "\n",
    "merged_tuple = tuple1 + tuple2\n",
    "\n",
    "print(\"Merged tuple:\", merged_tuple)"
   ]
  },
  {
   "cell_type": "markdown",
   "id": "1ad613d0-1463-4f54-a59f-06996b6b56a8",
   "metadata": {},
   "source": [
    "31. Flatten a nested tuple."
   ]
  },
  {
   "cell_type": "code",
   "execution_count": 24,
   "id": "efb45c45-6fcc-4245-8fb3-71c0d7d941de",
   "metadata": {},
   "outputs": [
    {
     "name": "stdout",
     "output_type": "stream",
     "text": [
      "Flattened tuple: (1, 2, 3, 4, 5, 6, 7, 8)\n"
     ]
    }
   ],
   "source": [
    "def flatten_tuple(nested_tuple):\n",
    "    flattened = []\n",
    "    for item in nested_tuple:\n",
    "        if isinstance(item, tuple):\n",
    "            flattened.extend(flatten_tuple(item))\n",
    "        else:\n",
    "            flattened.append(item)\n",
    "    return flattened\n",
    "\n",
    "nested_tuple = ((1, 2), (3, 4, 5), (6, (7, 8)))\n",
    "\n",
    "flattened_tuple = tuple(flatten_tuple(nested_tuple))\n",
    "\n",
    "print(\"Flattened tuple:\", flattened_tuple)"
   ]
  },
  {
   "cell_type": "markdown",
   "id": "7b46cd47-28a6-404b-9f0e-2a10b56a8e2d",
   "metadata": {},
   "source": [
    "32. Create a tuple of the first 5 prime numbers."
   ]
  },
  {
   "cell_type": "code",
   "execution_count": 25,
   "id": "e44b2baf-32d7-4579-9729-c960e51b1612",
   "metadata": {},
   "outputs": [
    {
     "name": "stdout",
     "output_type": "stream",
     "text": [
      "Tuple of the first 5 prime numbers: (2, 3, 5, 7, 11)\n"
     ]
    }
   ],
   "source": [
    "def is_prime(num):\n",
    "    if num <= 1:\n",
    "        return False\n",
    "    for i in range(2, int(num ** 0.5) + 1):\n",
    "        if num % i == 0:\n",
    "            return False\n",
    "    return True\n",
    "\n",
    "prime_numbers_list = [num for num in range(2, 100) if is_prime(num)][:5]\n",
    "\n",
    "prime_numbers_tuple = tuple(prime_numbers_list)\n",
    "\n",
    "print(\"Tuple of the first 5 prime numbers:\", prime_numbers_tuple)"
   ]
  },
  {
   "cell_type": "markdown",
   "id": "3e0a1124-8c0f-49ca-b5f0-c8181edb9643",
   "metadata": {},
   "source": [
    "33. Check if a tuple is a palindrome."
   ]
  },
  {
   "cell_type": "code",
   "execution_count": 26,
   "id": "f322babf-df62-4abd-8730-04c942c163cd",
   "metadata": {},
   "outputs": [
    {
     "name": "stdout",
     "output_type": "stream",
     "text": [
      "palindrome_tuple is a palindrome: True\n",
      "non_palindrome_tuple is a palindrome: False\n"
     ]
    }
   ],
   "source": [
    "def is_palindrome(tup):\n",
    "    return tup == tup[::-1]\n",
    "\n",
    "palindrome_tuple = (1, 2, 3, 2, 1)\n",
    "non_palindrome_tuple = (1, 2, 3, 4, 5)\n",
    "\n",
    "is_palindrome1 = is_palindrome(palindrome_tuple)\n",
    "is_palindrome2 = is_palindrome(non_palindrome_tuple)\n",
    "\n",
    "print(\"palindrome_tuple is a palindrome:\", is_palindrome1)\n",
    "print(\"non_palindrome_tuple is a palindrome:\", is_palindrome2)"
   ]
  },
  {
   "cell_type": "markdown",
   "id": "079e3fda-37b9-4a8c-b267-579a40587e2b",
   "metadata": {},
   "source": [
    "34. Create a tuple of squares of numbers from 1 to 5."
   ]
  },
  {
   "cell_type": "code",
   "execution_count": 27,
   "id": "b15ae059-c019-485d-8ada-5a2e8a075509",
   "metadata": {},
   "outputs": [
    {
     "name": "stdout",
     "output_type": "stream",
     "text": [
      "Tuple of squares: (1, 4, 9, 16, 25)\n"
     ]
    }
   ],
   "source": [
    "squares_tuple = tuple(x ** 2 for x in range(1, 6))\n",
    "\n",
    "print(\"Tuple of squares:\", squares_tuple)"
   ]
  },
  {
   "cell_type": "markdown",
   "id": "e4c072b8-0fb4-4e49-9897-70fcbb537eb8",
   "metadata": {},
   "source": [
    "35. Filter out all even numbers from a tuple."
   ]
  },
  {
   "cell_type": "code",
   "execution_count": 28,
   "id": "59a31c78-38a0-4846-a613-066b31f359ae",
   "metadata": {},
   "outputs": [
    {
     "name": "stdout",
     "output_type": "stream",
     "text": [
      "Filtered tuple: (1, 3, 5, 7, 9)\n"
     ]
    }
   ],
   "source": [
    "original_tuple = (1, 2, 3, 4, 5, 6, 7, 8, 9, 10)\n",
    "\n",
    "filtered_tuple = tuple(num for num in original_tuple if num % 2 != 0)\n",
    "\n",
    "print(\"Filtered tuple:\", filtered_tuple)"
   ]
  },
  {
   "cell_type": "markdown",
   "id": "8d76840e-06c7-46b6-bda2-6327707abe1c",
   "metadata": {},
   "source": [
    "36. Multiply all elements in a tuple by 2."
   ]
  },
  {
   "cell_type": "code",
   "execution_count": 29,
   "id": "5d32779d-032c-45c5-9bd9-ccfbefa3db44",
   "metadata": {},
   "outputs": [
    {
     "name": "stdout",
     "output_type": "stream",
     "text": [
      "Doubled tuple: (2, 4, 6, 8, 10)\n"
     ]
    }
   ],
   "source": [
    "original_tuple = (1, 2, 3, 4, 5)\n",
    "\n",
    "doubled_tuple = tuple(num * 2 for num in original_tuple)\n",
    "\n",
    "print(\"Doubled tuple:\", doubled_tuple)"
   ]
  },
  {
   "cell_type": "markdown",
   "id": "8c3113d2-b7be-4f03-9cb6-1ab91e7bd310",
   "metadata": {},
   "source": [
    "37. Create a tuple of random numbers."
   ]
  },
  {
   "cell_type": "code",
   "execution_count": 30,
   "id": "aee934f4-1cd3-4180-b3b4-7ef3d949f09b",
   "metadata": {},
   "outputs": [
    {
     "name": "stdout",
     "output_type": "stream",
     "text": [
      "Random tuple: (49, 62, 90, 26, 67, 100, 74, 13, 49, 89)\n"
     ]
    }
   ],
   "source": [
    "import random\n",
    "\n",
    "random_tuple = tuple(random.randint(1, 100) for _ in range(10))  # Generating 10 random numbers between 1 and 100\n",
    "\n",
    "print(\"Random tuple:\", random_tuple)"
   ]
  },
  {
   "cell_type": "markdown",
   "id": "c12a034a-20f2-49a6-8668-068c6bdc4f30",
   "metadata": {},
   "source": [
    "38. Check if a tuple is sorted."
   ]
  },
  {
   "cell_type": "code",
   "execution_count": 31,
   "id": "f60850cc-2ebc-4747-b04e-7fd78b051568",
   "metadata": {},
   "outputs": [
    {
     "name": "stdout",
     "output_type": "stream",
     "text": [
      "sorted_tuple is sorted: True\n",
      "unsorted_tuple is sorted: False\n"
     ]
    }
   ],
   "source": [
    "def is_sorted(tup):\n",
    "    for i in range(len(tup) - 1):\n",
    "        if tup[i] > tup[i + 1]:\n",
    "            return False\n",
    "    return True\n",
    "\n",
    "sorted_tuple = (1, 2, 3, 4, 5)\n",
    "unsorted_tuple = (5, 3, 1, 4, 2)\n",
    "\n",
    "is_sorted1 = is_sorted(sorted_tuple)\n",
    "is_sorted2 = is_sorted(unsorted_tuple)\n",
    "\n",
    "print(\"sorted_tuple is sorted:\", is_sorted1)\n",
    "print(\"unsorted_tuple is sorted:\", is_sorted2)"
   ]
  },
  {
   "cell_type": "markdown",
   "id": "0f59e36f-df28-482e-9185-673e51cb321d",
   "metadata": {},
   "source": [
    "39. Rotate a tuple to the left by `n` positions."
   ]
  },
  {
   "cell_type": "code",
   "execution_count": 32,
   "id": "23da028e-1d83-4651-b34d-4f737d872dbc",
   "metadata": {},
   "outputs": [
    {
     "name": "stdout",
     "output_type": "stream",
     "text": [
      "(3, 4, 5, 1, 2)\n"
     ]
    }
   ],
   "source": [
    "def rotate_tuple_left(tup, n):\n",
    "    n = n % len(tup)  \n",
    "    rotated_tuple = tup[n:] + tup[:n]  \n",
    "    return rotated_tuple\n",
    "\n",
    "my_tuple = (1, 2, 3, 4, 5)\n",
    "n_positions = 2\n",
    "result = rotate_tuple_left(my_tuple, n_positions)\n",
    "print(result)"
   ]
  },
  {
   "cell_type": "markdown",
   "id": "cd5c7e2c-5276-4b94-ad37-ce9db9cb241b",
   "metadata": {},
   "source": [
    "40. Rotate a tuple to the right by `n` positions."
   ]
  },
  {
   "cell_type": "code",
   "execution_count": 33,
   "id": "1f1067dd-f4a1-4bbd-9b3f-4805f2b263b5",
   "metadata": {},
   "outputs": [
    {
     "name": "stdout",
     "output_type": "stream",
     "text": [
      "(4, 5, 1, 2, 3)\n"
     ]
    }
   ],
   "source": [
    "def rotate_tuple_right(tup, n):\n",
    "    n = n % len(tup)  \n",
    "    rotated_tuple = tup[-n:] + tup[:-n]  \n",
    "    return rotated_tuple\n",
    "\n",
    "my_tuple = (1, 2, 3, 4, 5)\n",
    "n_positions = 2\n",
    "result = rotate_tuple_right(my_tuple, n_positions)\n",
    "print(result)"
   ]
  },
  {
   "cell_type": "markdown",
   "id": "887a183c-c6b3-4173-abe5-0d06b6740ade",
   "metadata": {},
   "source": [
    "41. Create a tuple of the first 5 Fibonacci numbers."
   ]
  },
  {
   "cell_type": "code",
   "execution_count": 34,
   "id": "7a8e72fe-16ba-4052-ac10-d46d1072a227",
   "metadata": {},
   "outputs": [
    {
     "name": "stdout",
     "output_type": "stream",
     "text": [
      "(0, 1, 1, 2, 3)\n"
     ]
    }
   ],
   "source": [
    "def generate_fibonacci(n):\n",
    "    fibonacci = [0, 1]  \n",
    "    while len(fibonacci) < n:  \n",
    "        next_number = fibonacci[-1] + fibonacci[-2]  \n",
    "        fibonacci.append(next_number)  \n",
    "    return tuple(fibonacci)  \n",
    "\n",
    "fibonacci_tuple = generate_fibonacci(5)\n",
    "\n",
    "print(fibonacci_tuple)"
   ]
  },
  {
   "cell_type": "markdown",
   "id": "3d863cff-fdc0-409e-bd95-99f18a160689",
   "metadata": {},
   "source": [
    "42. Create a tuple from user input."
   ]
  },
  {
   "cell_type": "code",
   "execution_count": 35,
   "id": "330772ff-ddf8-4375-8d5a-65b276099ce2",
   "metadata": {},
   "outputs": [
    {
     "name": "stdin",
     "output_type": "stream",
     "text": [
      "Enter elements separated by commas:  My, name, is, Bishwajit\n"
     ]
    },
    {
     "name": "stdout",
     "output_type": "stream",
     "text": [
      "User input tuple: ('My', ' name', ' is', ' Bishwajit')\n"
     ]
    }
   ],
   "source": [
    "input_str = input(\"Enter elements separated by commas: \")\n",
    "\n",
    "input_list = input_str.split(',')\n",
    "\n",
    "user_tuple = tuple(input_list)\n",
    "\n",
    "print(\"User input tuple:\", user_tuple)"
   ]
  },
  {
   "cell_type": "markdown",
   "id": "925a2027-de31-4e0f-ad78-2e098d6019c5",
   "metadata": {},
   "source": [
    "43. Swap two elements in a tuple."
   ]
  },
  {
   "cell_type": "code",
   "execution_count": 36,
   "id": "9d7901b0-9eea-4f70-9b1d-7b4690e62437",
   "metadata": {},
   "outputs": [
    {
     "name": "stdout",
     "output_type": "stream",
     "text": [
      "Swapped tuple: (1, 4, 3, 2, 5)\n"
     ]
    }
   ],
   "source": [
    "my_tuple = (1, 2, 3, 4, 5)\n",
    "\n",
    "index1 = 1\n",
    "index2 = 3\n",
    "swapped_tuple = tuple(\n",
    "    my_tuple[i] if i not in (index1, index2) else\n",
    "    my_tuple[index2] if i == index1 else\n",
    "    my_tuple[index1]\n",
    "    for i in range(len(my_tuple))\n",
    ")\n",
    "\n",
    "print(\"Swapped tuple:\", swapped_tuple)"
   ]
  },
  {
   "cell_type": "markdown",
   "id": "3f59b649-7963-446f-be74-d7438e8759f7",
   "metadata": {},
   "source": [
    "44. Reverse the elements of a tuple."
   ]
  },
  {
   "cell_type": "code",
   "execution_count": 37,
   "id": "ea4ce9f8-d3d0-44cb-82a4-3798cbd68b67",
   "metadata": {},
   "outputs": [
    {
     "name": "stdout",
     "output_type": "stream",
     "text": [
      "Reversed tuple: (5, 4, 3, 2, 1)\n"
     ]
    }
   ],
   "source": [
    "my_tuple = (1, 2, 3, 4, 5)\n",
    "\n",
    "reversed_tuple = my_tuple[::-1]\n",
    "\n",
    "print(\"Reversed tuple:\", reversed_tuple)"
   ]
  },
  {
   "cell_type": "markdown",
   "id": "c71ee36d-3e1d-4112-924a-f9da671ab070",
   "metadata": {},
   "source": [
    "45. Create a tuple of the first `n` powers of 2."
   ]
  },
  {
   "cell_type": "code",
   "execution_count": 38,
   "id": "bc0140fe-040b-4370-8324-bb13d6e97f4a",
   "metadata": {},
   "outputs": [
    {
     "name": "stdout",
     "output_type": "stream",
     "text": [
      "Tuple of the first 5 powers of 2: (1, 2, 4, 8, 16)\n"
     ]
    }
   ],
   "source": [
    "n = 5\n",
    "powers_of_2_tuple = tuple(2 ** i for i in range(n))\n",
    "print(\"Tuple of the first\", n, \"powers of 2:\", powers_of_2_tuple)"
   ]
  },
  {
   "cell_type": "markdown",
   "id": "80abfc4c-50a6-4285-8ecc-cc1450cff37a",
   "metadata": {},
   "source": [
    "46. Find the longest string in a tuple of strings."
   ]
  },
  {
   "cell_type": "code",
   "execution_count": 40,
   "id": "8aac21fb-1e93-4a24-8234-a0010a6affcf",
   "metadata": {},
   "outputs": [
    {
     "name": "stdout",
     "output_type": "stream",
     "text": [
      "Longest string: Bishwajit\n"
     ]
    }
   ],
   "source": [
    "string_tuple = (\"My\", \"name\", \"is\", \"Bishwajit\", \"Kumar\")\n",
    "\n",
    "longest_string = max(string_tuple, key=len)\n",
    "\n",
    "print(\"Longest string:\", longest_string)"
   ]
  },
  {
   "cell_type": "markdown",
   "id": "54d374cf-791c-4bd5-9237-3f135295bd2c",
   "metadata": {},
   "source": [
    "47. Find the shortest string in a tuple of strings."
   ]
  },
  {
   "cell_type": "code",
   "execution_count": 41,
   "id": "83dc7f47-fb6e-4654-bb6f-8178d7acc295",
   "metadata": {},
   "outputs": [
    {
     "name": "stdout",
     "output_type": "stream",
     "text": [
      "Shortest string: My\n"
     ]
    }
   ],
   "source": [
    "string_tuple = (\"My\", \"name\", \"is\", \"Bishwajit\", \"Kumar\")\n",
    "\n",
    "shortest_string = min(string_tuple, key=len)\n",
    "\n",
    "print(\"Shortest string:\", shortest_string)"
   ]
  },
  {
   "cell_type": "markdown",
   "id": "2c6c9fbe-5455-4675-b4d5-f7324334b5bc",
   "metadata": {},
   "source": [
    "48. Create a tuple of the first `n` triangular numbers."
   ]
  },
  {
   "cell_type": "code",
   "execution_count": 44,
   "id": "3294575a-41de-4337-bc91-ee9d444380e0",
   "metadata": {},
   "outputs": [
    {
     "name": "stdout",
     "output_type": "stream",
     "text": [
      "Tuple of the first 10 triangular numbers: (1, 3, 6, 10, 15, 21, 28, 36, 45, 55)\n"
     ]
    }
   ],
   "source": [
    "n = 10\n",
    "\n",
    "triangular_numbers_tuple = tuple((i * (i + 1)) // 2 for i in range(1, n + 1))\n",
    "\n",
    "print(\"Tuple of the first\", n, \"triangular numbers:\", triangular_numbers_tuple)"
   ]
  },
  {
   "cell_type": "markdown",
   "id": "29626885-aa8d-4e78-9fbc-aeddacd086f0",
   "metadata": {},
   "source": [
    "49. Check if a tuple contains another tuple as a subsequence."
   ]
  },
  {
   "cell_type": "code",
   "execution_count": 45,
   "id": "f0eac695-833c-46db-a919-24e7dd73ffa1",
   "metadata": {},
   "outputs": [
    {
     "name": "stdout",
     "output_type": "stream",
     "text": [
      "Main tuple contains subsequence tuple: True\n"
     ]
    }
   ],
   "source": [
    "def contains_subsequence(main_tuple, sub_tuple):\n",
    "    sub_length = len(sub_tuple)\n",
    "    for i in range(len(main_tuple) - sub_length + 1):\n",
    "        if main_tuple[i:i+sub_length] == sub_tuple:\n",
    "            return True\n",
    "    return False\n",
    "\n",
    "main_tuple = (1, 2, 3, 4, 5, 6, 7, 8, 9)\n",
    "\n",
    "sub_tuple = (3, 4, 5)\n",
    "\n",
    "contains_subseq = contains_subsequence(main_tuple, sub_tuple)\n",
    "\n",
    "print(\"Main tuple contains subsequence tuple:\", contains_subseq)"
   ]
  },
  {
   "cell_type": "markdown",
   "id": "dc992a14-c1e1-4e52-a14b-3264d3e66680",
   "metadata": {},
   "source": [
    "50. Create a tuple of alternating 1s and 0s of length `n`."
   ]
  },
  {
   "cell_type": "code",
   "execution_count": 46,
   "id": "ca2b1ffe-d7ff-4847-a158-50c1ec03c33f",
   "metadata": {},
   "outputs": [
    {
     "name": "stdout",
     "output_type": "stream",
     "text": [
      "Tuple of alternating 1s and 0s: (0, 1, 0, 1, 0, 1, 0, 1, 0, 1)\n"
     ]
    }
   ],
   "source": [
    "n = 10\n",
    "\n",
    "alternating_tuple = tuple(i % 2 for i in range(n))\n",
    "\n",
    "print(\"Tuple of alternating 1s and 0s:\", alternating_tuple)"
   ]
  },
  {
   "cell_type": "markdown",
   "id": "ccddd3a9-bb21-45d3-a08a-2b39456e1acd",
   "metadata": {},
   "source": [
    "Set Based Practice Problem :\n",
    "1. Create a set with integers from 1 to 5."
   ]
  },
  {
   "cell_type": "code",
   "execution_count": 49,
   "id": "305db486-c20a-4a34-8b34-bf1f03cea4bc",
   "metadata": {},
   "outputs": [
    {
     "name": "stdout",
     "output_type": "stream",
     "text": [
      "{1, 2, 3, 4, 5}\n"
     ]
    }
   ],
   "source": [
    "my_set = set()\n",
    "\n",
    "my_set.add(1)\n",
    "my_set.add(2)\n",
    "my_set.add(3)\n",
    "my_set.add(4)\n",
    "my_set.add(5)\n",
    "\n",
    "print(my_set)"
   ]
  },
  {
   "cell_type": "markdown",
   "id": "634f0dbf-5689-4f8c-9f1f-7be175cfbbe7",
   "metadata": {},
   "source": [
    "2. Add an element to a set."
   ]
  },
  {
   "cell_type": "code",
   "execution_count": 50,
   "id": "bad4c585-f312-458a-8830-682d9b5f0efc",
   "metadata": {},
   "outputs": [
    {
     "name": "stdout",
     "output_type": "stream",
     "text": [
      "Original set: {1, 2, 3, 4, 5}\n",
      "Set after adding element: {1, 2, 3, 4, 5, 6}\n"
     ]
    }
   ],
   "source": [
    "my_set = {1, 2, 3, 4, 5}\n",
    "\n",
    "print(\"Original set:\", my_set)\n",
    "\n",
    "element_to_add = 6\n",
    "my_set.add(element_to_add)\n",
    "\n",
    "print(\"Set after adding element:\", my_set)"
   ]
  },
  {
   "cell_type": "markdown",
   "id": "14ae0c5f-f160-4013-8dc6-e6ae9c9724c9",
   "metadata": {},
   "source": [
    "3. Remove an element from a set."
   ]
  },
  {
   "cell_type": "code",
   "execution_count": 51,
   "id": "4bf1bb6f-8e94-4549-ab29-71b3d917ccb7",
   "metadata": {},
   "outputs": [
    {
     "name": "stdout",
     "output_type": "stream",
     "text": [
      "Original Set: {1, 2, 3, 4, 5}\n",
      "Set after removing 3 : {1, 2, 4, 5}\n"
     ]
    }
   ],
   "source": [
    "my_set = {1, 2, 3, 4, 5}\n",
    "\n",
    "print(\"Original Set:\", my_set)\n",
    "\n",
    "element_to_remove = 3\n",
    "\n",
    "my_set.remove(element_to_remove)\n",
    "\n",
    "print(\"Set after removing\", element_to_remove, \":\", my_set)"
   ]
  },
  {
   "cell_type": "markdown",
   "id": "2f314d77-2a4e-427d-ae18-4ae01c3e4b3a",
   "metadata": {},
   "source": [
    "4. Check if an element exists in a set."
   ]
  },
  {
   "cell_type": "code",
   "execution_count": 52,
   "id": "af5c8338-9f7b-41a1-b243-9402e4c879ea",
   "metadata": {},
   "outputs": [
    {
     "name": "stdin",
     "output_type": "stream",
     "text": [
      "Enter the element to check:  7\n"
     ]
    },
    {
     "name": "stdout",
     "output_type": "stream",
     "text": [
      "7 exists in the set.\n"
     ]
    }
   ],
   "source": [
    "my_set = {1, 3, 5, 7, 9}\n",
    "\n",
    "element_to_check = int(input(\"Enter the element to check: \"))\n",
    "\n",
    "if element_to_check in my_set:\n",
    "    print(f\"{element_to_check} exists in the set.\")\n",
    "else:\n",
    "    print(f\"{element_to_check} does not exist in the set.\")"
   ]
  },
  {
   "cell_type": "markdown",
   "id": "b27adc47-0f48-40f8-b042-91be7c6b459b",
   "metadata": {},
   "source": [
    "5. Find the length of a set without using the `len()` function."
   ]
  },
  {
   "cell_type": "code",
   "execution_count": 53,
   "id": "3fd7e146-4cfe-4e5c-877c-4ffce9be25da",
   "metadata": {},
   "outputs": [
    {
     "name": "stdout",
     "output_type": "stream",
     "text": [
      "Length of the set: 5\n"
     ]
    }
   ],
   "source": [
    "my_set = {1, 2, 3, 4, 5}\n",
    "count = 0\n",
    "for _ in my_set:\n",
    "    count += 1\n",
    "print(\"Length of the set:\", count)"
   ]
  },
  {
   "cell_type": "markdown",
   "id": "b7030136-1745-42f0-aeba-2c5dd20af990",
   "metadata": {},
   "source": [
    "6. Clear all elements from a set."
   ]
  },
  {
   "cell_type": "code",
   "execution_count": 54,
   "id": "3d681494-3c01-4f16-9288-17e0fb433207",
   "metadata": {},
   "outputs": [
    {
     "name": "stdout",
     "output_type": "stream",
     "text": [
      "Original set: {1, 2, 3, 4, 5}\n",
      "Set after clearing: set()\n"
     ]
    }
   ],
   "source": [
    "my_set = {1, 2, 3, 4, 5}\n",
    "\n",
    "print(\"Original set:\", my_set)\n",
    "my_set.clear()\n",
    "\n",
    "print(\"Set after clearing:\", my_set)"
   ]
  },
  {
   "cell_type": "markdown",
   "id": "5c3afc14-d9fe-404f-bf17-02adf3363850",
   "metadata": {},
   "source": [
    "7. Create a set of even numbers from 1 to 10."
   ]
  },
  {
   "cell_type": "code",
   "execution_count": 55,
   "id": "003d47df-7aba-4a20-9c7b-e472ff67ff07",
   "metadata": {},
   "outputs": [
    {
     "name": "stdout",
     "output_type": "stream",
     "text": [
      "{2, 4, 6, 8, 10}\n"
     ]
    }
   ],
   "source": [
    "even_numbers_set = set()\n",
    "for num in range(1, 11):\n",
    "    if num % 2 == 0:\n",
    "        even_numbers_set.add(num)\n",
    "\n",
    "print(even_numbers_set)"
   ]
  },
  {
   "cell_type": "markdown",
   "id": "a0abd64c-0c19-4bbe-b151-e4bf97b5b920",
   "metadata": {},
   "source": [
    "8. Create a set of odd numbers from 1 to 10."
   ]
  },
  {
   "cell_type": "code",
   "execution_count": 56,
   "id": "81f69b46-fd0e-40e9-a9a9-586c5a61f535",
   "metadata": {},
   "outputs": [
    {
     "name": "stdout",
     "output_type": "stream",
     "text": [
      "{1, 3, 5, 7, 9}\n"
     ]
    }
   ],
   "source": [
    "odd_numbers_set = set()\n",
    "for num in range(1, 11):\n",
    "    if num % 2 != 0:\n",
    "        odd_numbers_set.add(num)\n",
    "print(odd_numbers_set)"
   ]
  },
  {
   "cell_type": "markdown",
   "id": "3fc7c23d-5949-43d0-8583-9b245a226383",
   "metadata": {},
   "source": [
    "9. Find the union of two sets."
   ]
  },
  {
   "cell_type": "code",
   "execution_count": 57,
   "id": "cb61c512-a86d-4ff7-8170-ac1f07a4f48c",
   "metadata": {},
   "outputs": [
    {
     "name": "stdout",
     "output_type": "stream",
     "text": [
      "Set 1: {1, 2, 3, 4, 5}\n",
      "Set 2: {4, 5, 6, 7, 8}\n",
      "Union of Set 1 and Set 2: {1, 2, 3, 4, 5, 6, 7, 8}\n"
     ]
    }
   ],
   "source": [
    "set1 = {1, 2, 3, 4, 5}\n",
    "set2 = {4, 5, 6, 7, 8}\n",
    "\n",
    "union_result = set1.union(set2)\n",
    "\n",
    "print(\"Set 1:\", set1)\n",
    "print(\"Set 2:\", set2)\n",
    "print(\"Union of Set 1 and Set 2:\", union_result)"
   ]
  },
  {
   "cell_type": "markdown",
   "id": "919b3b83-5101-4572-b98e-2d49e9d9ee1d",
   "metadata": {},
   "source": [
    "10. Find the intersection of two sets."
   ]
  },
  {
   "cell_type": "code",
   "execution_count": 58,
   "id": "9de28a92-44f5-49eb-919a-ed0351dcfbc8",
   "metadata": {},
   "outputs": [
    {
     "name": "stdout",
     "output_type": "stream",
     "text": [
      "Set 1: {1, 2, 3, 4, 5}\n",
      "Set 2: {3, 4, 5, 6, 7}\n",
      "Intersection: {3, 4, 5}\n"
     ]
    }
   ],
   "source": [
    "set1 = {1, 2, 3, 4, 5}\n",
    "set2 = {3, 4, 5, 6, 7}\n",
    "\n",
    "intersection_result = set1.intersection(set2)\n",
    "\n",
    "print(\"Set 1:\", set1)\n",
    "print(\"Set 2:\", set2)\n",
    "print(\"Intersection:\", intersection_result)"
   ]
  },
  {
   "cell_type": "markdown",
   "id": "f8090ebd-e8de-4143-acaf-065e4199b1f9",
   "metadata": {},
   "source": [
    "11. Find the difference between two sets."
   ]
  },
  {
   "cell_type": "code",
   "execution_count": 59,
   "id": "251f0e04-9793-461c-84c8-4ddbdbec8bc1",
   "metadata": {},
   "outputs": [
    {
     "name": "stdout",
     "output_type": "stream",
     "text": [
      "Set 1: {1, 2, 3, 4, 5}\n",
      "Set 2: {3, 4, 5, 6, 7}\n",
      "Difference: {1, 2}\n"
     ]
    }
   ],
   "source": [
    "set1 = {1, 2, 3, 4, 5}\n",
    "set2 = {3, 4, 5, 6, 7}\n",
    "\n",
    "difference_set = set1.difference(set2)\n",
    "\n",
    "print(\"Set 1:\", set1)\n",
    "print(\"Set 2:\", set2)\n",
    "print(\"Difference:\", difference_set)"
   ]
  },
  {
   "cell_type": "markdown",
   "id": "3da22612-9496-4a46-9efe-9e848b6d06c0",
   "metadata": {},
   "source": [
    "12. Check if a set is a subset of another set."
   ]
  },
  {
   "cell_type": "code",
   "execution_count": 60,
   "id": "669a78ca-0e69-4ffd-8ecb-920383b4163a",
   "metadata": {},
   "outputs": [
    {
     "name": "stdout",
     "output_type": "stream",
     "text": [
      "Is set1 a subset of set2: True\n"
     ]
    }
   ],
   "source": [
    "set1 = {1, 2, 3}\n",
    "set2 = {1, 2, 3, 4, 5}\n",
    "\n",
    "is_subset = set1.issubset(set2)\n",
    "\n",
    "print(\"Is set1 a subset of set2:\", is_subset)"
   ]
  },
  {
   "cell_type": "markdown",
   "id": "b0edec84-ec63-459f-bd46-5486db5bd3bd",
   "metadata": {},
   "source": [
    "13. Check if a set is a superset of another set."
   ]
  },
  {
   "cell_type": "code",
   "execution_count": 61,
   "id": "2bb4baff-e614-4eb2-8d9b-f1f2f7c9157a",
   "metadata": {},
   "outputs": [
    {
     "name": "stdout",
     "output_type": "stream",
     "text": [
      "set1 is a superset of set2\n"
     ]
    }
   ],
   "source": [
    "set1 = {1, 2, 3, 4, 5, 6}\n",
    "set2 = {3, 4}\n",
    "is_superset = set1.issuperset(set2)\n",
    "if is_superset:\n",
    "    print(\"set1 is a superset of set2\")\n",
    "else:\n",
    "    print(\"set1 is not a superset of set2\")"
   ]
  },
  {
   "cell_type": "markdown",
   "id": "138b1a4c-f499-4cd6-b6ca-6da6f275b3af",
   "metadata": {},
   "source": [
    "14. Create a set from a list."
   ]
  },
  {
   "cell_type": "code",
   "execution_count": 62,
   "id": "c8d5e4b4-9194-4e02-a898-137034434223",
   "metadata": {},
   "outputs": [
    {
     "name": "stdout",
     "output_type": "stream",
     "text": [
      "Original List: [2, 4, 1, 4, 3, 2, 5]\n",
      "Set from List: {1, 2, 3, 4, 5}\n"
     ]
    }
   ],
   "source": [
    "my_list = [2, 4, 1, 4, 3, 2, 5]\n",
    "\n",
    "my_set = set(my_list)\n",
    "\n",
    "print(\"Original List:\", my_list)\n",
    "print(\"Set from List:\", my_set)"
   ]
  },
  {
   "cell_type": "markdown",
   "id": "a9a71022-bc13-4722-9af2-97c5b2af20e6",
   "metadata": {},
   "source": [
    "15. Convert a set to a list."
   ]
  },
  {
   "cell_type": "code",
   "execution_count": 63,
   "id": "3b424b95-cac1-43d4-ba38-d7cf52ce5534",
   "metadata": {},
   "outputs": [
    {
     "name": "stdout",
     "output_type": "stream",
     "text": [
      "Original Set: {1, 2, 3, 4, 5, 6, 9}\n",
      "Converted List: [1, 2, 3, 4, 5, 6, 9]\n"
     ]
    }
   ],
   "source": [
    "my_set = {3, 1, 4, 1, 5, 9, 2, 6, 5}\n",
    "my_list = list(my_set)\n",
    "\n",
    "print(\"Original Set:\", my_set)\n",
    "print(\"Converted List:\", my_list)"
   ]
  },
  {
   "cell_type": "markdown",
   "id": "1107db1d-9700-4a12-92c6-bd21c876b671",
   "metadata": {},
   "source": [
    "16. Remove a random element from a set."
   ]
  },
  {
   "cell_type": "code",
   "execution_count": 64,
   "id": "94a6855b-480e-438c-96a7-04d3f9d07ed0",
   "metadata": {},
   "outputs": [
    {
     "name": "stdout",
     "output_type": "stream",
     "text": [
      "Original set: {1, 2, 3, 4, 5}\n",
      "Updated set after removing 4 : {1, 2, 3, 5}\n"
     ]
    }
   ],
   "source": [
    "import random  \n",
    "my_set = {1, 2, 3, 4, 5}\n",
    "print(\"Original set:\", my_set)\n",
    "random_element = random.choice(list(my_set))\n",
    "my_set.remove(random_element)\n",
    "print(\"Updated set after removing\", random_element, \":\", my_set)"
   ]
  },
  {
   "cell_type": "markdown",
   "id": "153f901e-443d-4961-8673-04721383e110",
   "metadata": {},
   "source": [
    "17. Pop an element from a set."
   ]
  },
  {
   "cell_type": "code",
   "execution_count": 65,
   "id": "66420329-9973-4adf-aa5d-6fac9709fbfa",
   "metadata": {},
   "outputs": [
    {
     "name": "stdout",
     "output_type": "stream",
     "text": [
      "Original set: {1, 2, 3, 4, 5}\n",
      "Popped element: 1\n",
      "Set after popping: {2, 3, 4, 5}\n"
     ]
    }
   ],
   "source": [
    "my_set = {1, 2, 3, 4, 5}\n",
    "print(\"Original set:\", my_set)\n",
    "popped_element = my_set.pop()\n",
    "print(\"Popped element:\", popped_element)\n",
    "print(\"Set after popping:\", my_set)"
   ]
  },
  {
   "cell_type": "markdown",
   "id": "15458e08-7714-4a40-ae1b-a1c2271eb394",
   "metadata": {},
   "source": [
    "18. Check if two sets have no elements in common."
   ]
  },
  {
   "cell_type": "code",
   "execution_count": 66,
   "id": "f8f77983-abd1-4864-acbf-6786d1a0bdf3",
   "metadata": {},
   "outputs": [
    {
     "name": "stdout",
     "output_type": "stream",
     "text": [
      "The two sets have no elements in common.\n"
     ]
    }
   ],
   "source": [
    "set1 = {1, 2, 3, 4}\n",
    "set2 = {5, 6, 7, 8}\n",
    "\n",
    "common_elements = set1.intersection(set2)\n",
    "\n",
    "if not common_elements:\n",
    "    print(\"The two sets have no elements in common.\")\n",
    "else:\n",
    "    print(\"The two sets have common elements:\", common_elements)"
   ]
  },
  {
   "cell_type": "markdown",
   "id": "a9cc127c-fd5c-498a-adbf-97280c04d2cd",
   "metadata": {},
   "source": [
    "19. Find the symmetric difference between two sets."
   ]
  },
  {
   "cell_type": "code",
   "execution_count": 67,
   "id": "bf63587e-8ca9-4e42-9b41-13adc1e7f4fa",
   "metadata": {},
   "outputs": [
    {
     "name": "stdout",
     "output_type": "stream",
     "text": [
      "Symmetric Difference: {1, 2, 3, 6, 7, 8}\n"
     ]
    }
   ],
   "source": [
    "set1 = {1, 2, 3, 4, 5}\n",
    "set2 = {4, 5, 6, 7, 8}\n",
    "\n",
    "symmetric_difference = set1 ^ set2\n",
    "\n",
    "print(\"Symmetric Difference:\", symmetric_difference)"
   ]
  },
  {
   "cell_type": "markdown",
   "id": "96b1fa47-c496-4b7d-81ed-7a8729b4d62d",
   "metadata": {},
   "source": [
    "20. Update a set with elements from another set."
   ]
  },
  {
   "cell_type": "code",
   "execution_count": 68,
   "id": "67a7e406-33fc-4445-be6e-12df097d6284",
   "metadata": {},
   "outputs": [
    {
     "name": "stdout",
     "output_type": "stream",
     "text": [
      "Set 1: {1, 2, 3}\n",
      "Set 2: {3, 4, 5}\n",
      "Updated Set 1: {1, 2, 3, 4, 5}\n"
     ]
    }
   ],
   "source": [
    "set1 = {1, 2, 3}\n",
    "print(\"Set 1:\", set1)\n",
    "\n",
    "set2 = {3, 4, 5}\n",
    "print(\"Set 2:\", set2)\n",
    "\n",
    "set1.update(set2)\n",
    "print(\"Updated Set 1:\", set1)"
   ]
  },
  {
   "cell_type": "markdown",
   "id": "82f85efe-8e2b-4973-93ac-74e594bcb175",
   "metadata": {},
   "source": [
    "21. Create a set of the first 5 prime numbers."
   ]
  },
  {
   "cell_type": "code",
   "execution_count": 69,
   "id": "d3076b0b-a7b2-4508-8a8c-3c4ed5b0c310",
   "metadata": {},
   "outputs": [
    {
     "name": "stdout",
     "output_type": "stream",
     "text": [
      "Set of the first 5 prime numbers: {2, 3, 5, 7, 11}\n"
     ]
    }
   ],
   "source": [
    "def is_prime(num):\n",
    "    if num <= 1:\n",
    "        return False\n",
    "    for i in range(2, int(num ** 0.5) + 1):\n",
    "        if num % i == 0:\n",
    "            return False\n",
    "    return True\n",
    "prime_set = set()\n",
    "num = 2\n",
    "\n",
    "while len(prime_set) < 5:\n",
    "    if is_prime(num):\n",
    "        prime_set.add(num)\n",
    "    num += 1\n",
    "print(\"Set of the first 5 prime numbers:\", prime_set)"
   ]
  },
  {
   "cell_type": "markdown",
   "id": "167afb90-ec1b-4f72-9d14-e0a495810720",
   "metadata": {},
   "source": [
    "22. Check if two sets are identical."
   ]
  },
  {
   "cell_type": "code",
   "execution_count": 70,
   "id": "01b7c66b-3051-4c05-ac2b-f1d4472548e1",
   "metadata": {},
   "outputs": [
    {
     "name": "stdout",
     "output_type": "stream",
     "text": [
      "The sets are identical.\n"
     ]
    }
   ],
   "source": [
    "set1 = {1, 2, 3, 4, 5}\n",
    "set2 = {3, 1, 5, 2, 4}  \n",
    "\n",
    "if set1 == set2:\n",
    "    print(\"The sets are identical.\")\n",
    "else:\n",
    "    print(\"The sets are not identical.\")"
   ]
  },
  {
   "cell_type": "markdown",
   "id": "51ac525e-26fb-42f9-afdc-878bcc5cd3d0",
   "metadata": {},
   "source": [
    "23. Create a frozen set."
   ]
  },
  {
   "cell_type": "code",
   "execution_count": 71,
   "id": "268608d6-a966-4af1-8ad0-7f1e51115f95",
   "metadata": {},
   "outputs": [
    {
     "name": "stdout",
     "output_type": "stream",
     "text": [
      "Frozen Set: frozenset({1, 2, 3, 4, 5})\n"
     ]
    }
   ],
   "source": [
    "\n",
    "elements = [1, 2, 3, 4, 5]\n",
    "\n",
    "my_frozen_set = frozenset(elements)\n",
    "\n",
    "print(\"Frozen Set:\", my_frozen_set)"
   ]
  },
  {
   "cell_type": "markdown",
   "id": "05fc7f87-02ba-4f81-88c0-8bcaf49eb03d",
   "metadata": {},
   "source": [
    "24. Check if a set is disjoint with another set."
   ]
  },
  {
   "cell_type": "code",
   "execution_count": 72,
   "id": "00317b80-a506-4296-8890-378babec813d",
   "metadata": {},
   "outputs": [
    {
     "name": "stdout",
     "output_type": "stream",
     "text": [
      "Are the sets disjoint? True\n"
     ]
    }
   ],
   "source": [
    "set1 = {1, 2, 3, 4}\n",
    "set2 = {5, 6, 7, 8}\n",
    "\n",
    "disjoint_status = set1.isdisjoint(set2)\n",
    "\n",
    "print(\"Are the sets disjoint?\", disjoint_status)"
   ]
  },
  {
   "cell_type": "markdown",
   "id": "639bd7cd-abdd-4468-94b6-4473f4f20554",
   "metadata": {},
   "source": [
    "25. Create a set of squares of numbers from 1 to 5."
   ]
  },
  {
   "cell_type": "code",
   "execution_count": 73,
   "id": "d4fd7cdb-2e35-40bd-be25-5de0469a2f77",
   "metadata": {},
   "outputs": [
    {
     "name": "stdout",
     "output_type": "stream",
     "text": [
      "{1, 4, 9, 16, 25}\n"
     ]
    }
   ],
   "source": [
    "squares_set = set()\n",
    "for num in range(1, 6):\n",
    "    square = num ** 2\n",
    "    squares_set.add(square)\n",
    "print(squares_set)"
   ]
  },
  {
   "cell_type": "markdown",
   "id": "4a4d3c0e-b096-4a7a-970b-17a0295f9409",
   "metadata": {},
   "source": [
    "26. Filter out all even numbers from a set."
   ]
  },
  {
   "cell_type": "code",
   "execution_count": 74,
   "id": "a53f9ee7-fa53-4335-8f52-8f4705facbbf",
   "metadata": {},
   "outputs": [
    {
     "name": "stdout",
     "output_type": "stream",
     "text": [
      "Original Set: {1, 2, 3, 4, 5}\n",
      "Even Numbers Set: {2, 4}\n"
     ]
    }
   ],
   "source": [
    "original_set = {1, 2, 3, 4, 5}\n",
    "even_numbers_set = set()\n",
    "for num in original_set:\n",
    "    if num % 2 == 0:\n",
    "        even_numbers_set.add(num)\n",
    "print(\"Original Set:\", original_set)\n",
    "print(\"Even Numbers Set:\", even_numbers_set)"
   ]
  },
  {
   "cell_type": "markdown",
   "id": "bae7aebc-96e2-4dd7-89d8-2030daa18842",
   "metadata": {},
   "source": [
    "27. Multiply all elements in a set by 2."
   ]
  },
  {
   "cell_type": "code",
   "execution_count": 75,
   "id": "de131592-6683-418d-a600-40a885d1e7b1",
   "metadata": {},
   "outputs": [
    {
     "name": "stdout",
     "output_type": "stream",
     "text": [
      "Original Set: {1, 2, 3, 4, 5}\n",
      "Multiplied Set: {2, 4, 6, 8, 10}\n"
     ]
    }
   ],
   "source": [
    "original_set = {1, 2, 3, 4, 5}\n",
    "multiplied_set = set()\n",
    "for num in original_set:\n",
    "    multiplied_num = num * 2\n",
    "    multiplied_set.add(multiplied_num)\n",
    "\n",
    "print(\"Original Set:\", original_set)\n",
    "\n",
    "print(\"Multiplied Set:\", multiplied_set)"
   ]
  },
  {
   "cell_type": "markdown",
   "id": "b62947db-5967-4570-a364-fb0a715b36cc",
   "metadata": {},
   "source": [
    "28. Create a set of random numbers."
   ]
  },
  {
   "cell_type": "code",
   "execution_count": 76,
   "id": "a84f1e22-e705-495a-ad00-6e4c27295dcc",
   "metadata": {},
   "outputs": [
    {
     "name": "stdout",
     "output_type": "stream",
     "text": [
      "Generated set of random numbers: {3, 19, 26, 27, 28}\n"
     ]
    }
   ],
   "source": [
    "import random\n",
    "\n",
    "num_random_numbers = 5\n",
    "random_number_set = set()\n",
    "for _ in range(num_random_numbers):\n",
    "    random_num = random.randint(1, 100) \n",
    "    random_number_set.add(random_num)\n",
    "print(\"Generated set of random numbers:\", random_number_set)"
   ]
  },
  {
   "cell_type": "markdown",
   "id": "e914af81-bef6-4b8f-897c-128a2a4ac24a",
   "metadata": {},
   "source": [
    "29. Check if a set is empty."
   ]
  },
  {
   "cell_type": "code",
   "execution_count": 77,
   "id": "8dc1b31d-aede-4174-ae14-1117f3116ce0",
   "metadata": {},
   "outputs": [
    {
     "name": "stdout",
     "output_type": "stream",
     "text": [
      "The set is empty.\n"
     ]
    }
   ],
   "source": [
    "my_set = set()\n",
    "\n",
    "if not my_set:\n",
    "    print(\"The set is empty.\")\n",
    "else:\n",
    "    print(\"The set is not empty.\")"
   ]
  },
  {
   "cell_type": "markdown",
   "id": "de0b6cd4-ae47-4b52-8dfe-ed5a0fd96f69",
   "metadata": {},
   "source": [
    "30. Create a nested set (hint: use frozenset)."
   ]
  },
  {
   "cell_type": "code",
   "execution_count": 78,
   "id": "73449523-809b-46f8-81d7-306a0596a7c3",
   "metadata": {},
   "outputs": [
    {
     "name": "stdout",
     "output_type": "stream",
     "text": [
      "Nested Set: {frozenset({1, 2, 3, 4, 5}), frozenset({6, 7, 8, 9, 10})}\n"
     ]
    }
   ],
   "source": [
    "set1 = {1, 2, 3, 4, 5}\n",
    "set2 = {6, 7, 8, 9, 10}\n",
    "\n",
    "frozen_set1 = frozenset(set1)\n",
    "frozen_set2 = frozenset(set2)\n",
    "\n",
    "nested_set = {frozen_set1, frozen_set2}\n",
    "\n",
    "print(\"Nested Set:\", nested_set)"
   ]
  },
  {
   "cell_type": "markdown",
   "id": "9f13a383-1b28-4f80-8e7a-a71cdd72bc3e",
   "metadata": {},
   "source": [
    "31. Remove an element from a set using the discard method."
   ]
  },
  {
   "cell_type": "code",
   "execution_count": 79,
   "id": "e3e0fa8b-d045-4d80-9b04-b23423723dee",
   "metadata": {},
   "outputs": [
    {
     "name": "stdout",
     "output_type": "stream",
     "text": [
      "Initial set: {1, 2, 3, 4, 5}\n",
      "Set after removing 3 : {1, 2, 4, 5}\n"
     ]
    }
   ],
   "source": [
    "my_set = {1, 2, 3, 4, 5}\n",
    "\n",
    "print(\"Initial set:\", my_set)\n",
    "\n",
    "element_to_remove = 3\n",
    "\n",
    "my_set.discard(element_to_remove)\n",
    "\n",
    "print(\"Set after removing\", element_to_remove, \":\", my_set)"
   ]
  },
  {
   "cell_type": "markdown",
   "id": "d2eddeb5-2f63-4ee5-ac62-769c672e92ae",
   "metadata": {},
   "source": [
    "32. Compare two sets."
   ]
  },
  {
   "cell_type": "code",
   "execution_count": 80,
   "id": "e0df3f0f-04ca-48e2-801d-030fb30bc4e0",
   "metadata": {},
   "outputs": [
    {
     "name": "stdout",
     "output_type": "stream",
     "text": [
      "Set 1: {1, 2, 3, 4, 5}\n",
      "Set 2: {4, 5, 6, 7, 8}\n",
      "Is set1 a subset of set2? False\n",
      "Is set2 a subset of set1? False\n",
      "Intersection: {4, 5}\n",
      "Union: {1, 2, 3, 4, 5, 6, 7, 8}\n",
      "Elements in set1 but not in set2: {1, 2, 3}\n",
      "Elements in set2 but not in set1: {8, 6, 7}\n"
     ]
    }
   ],
   "source": [
    "set1 = {1, 2, 3, 4, 5}\n",
    "set2 = {4, 5, 6, 7, 8}\n",
    "\n",
    "is_subset = set1.issubset(set2)\n",
    "\n",
    "is_superset = set1.issuperset(set2)\n",
    "\n",
    "intersection = set1.intersection(set2)\n",
    "\n",
    "union = set1.union(set2)\n",
    "\n",
    "difference1 = set1.difference(set2)\n",
    "\n",
    "difference2 = set2.difference(set1)\n",
    "\n",
    "print(\"Set 1:\", set1)\n",
    "print(\"Set 2:\", set2)\n",
    "print(\"Is set1 a subset of set2?\", is_subset)\n",
    "print(\"Is set2 a subset of set1?\", is_superset)\n",
    "print(\"Intersection:\", intersection)\n",
    "print(\"Union:\", union)\n",
    "print(\"Elements in set1 but not in set2:\", difference1)\n",
    "print(\"Elements in set2 but not in set1:\", difference2)"
   ]
  },
  {
   "cell_type": "markdown",
   "id": "bc89eea0-3cd9-4b5c-bcca-09b6524fddc3",
   "metadata": {},
   "source": [
    "33. Create a set from a string."
   ]
  },
  {
   "cell_type": "code",
   "execution_count": 82,
   "id": "2be47ee9-8d1a-4315-814a-10b97bf11a55",
   "metadata": {},
   "outputs": [
    {
     "name": "stdout",
     "output_type": "stream",
     "text": [
      "{'s', 'i', 'B', 'u'}\n"
     ]
    }
   ],
   "source": [
    "input_string = \"Bissu\"\n",
    "\n",
    "char_set = set(input_string)\n",
    "\n",
    "print(char_set)"
   ]
  },
  {
   "cell_type": "markdown",
   "id": "8057812a-7e06-44e8-8714-e20286c2275a",
   "metadata": {},
   "source": [
    "34. Convert a set of strings to a set of integers."
   ]
  },
  {
   "cell_type": "code",
   "execution_count": 83,
   "id": "f1f68dc8-12ee-46f5-948f-7456b22497a6",
   "metadata": {},
   "outputs": [
    {
     "name": "stdout",
     "output_type": "stream",
     "text": [
      "Original String Set: {'456', '123', '789'}\n",
      "Converted Integer Set: {456, 123, 789}\n"
     ]
    }
   ],
   "source": [
    "string_set = {\"123\", \"456\", \"789\"}\n",
    "\n",
    "integer_set = set()\n",
    "\n",
    "for string in string_set:\n",
    "    integer_value = int(string)\n",
    "    integer_set.add(integer_value)\n",
    "print(\"Original String Set:\", string_set)\n",
    "print(\"Converted Integer Set:\", integer_set)"
   ]
  },
  {
   "cell_type": "markdown",
   "id": "54dc26db-7ac6-44c7-adbd-e652727f887b",
   "metadata": {},
   "source": [
    "35. Convert a set of integers to a set of strings."
   ]
  },
  {
   "cell_type": "code",
   "execution_count": 84,
   "id": "98fae932-54f5-4555-b412-0504d7b2d8da",
   "metadata": {},
   "outputs": [
    {
     "name": "stdout",
     "output_type": "stream",
     "text": [
      "Original integers_set: {1, 2, 3, 4, 5}\n",
      "Converted strings_set: {'5', '3', '1', '4', '2'}\n"
     ]
    }
   ],
   "source": [
    "integers_set = {1, 2, 3, 4, 5}\n",
    "strings_set = set()\n",
    "for num in integers_set:\n",
    "    num_str = str(num)\n",
    "    strings_set.add(num_str)\n",
    "print(\"Original integers_set:\", integers_set)\n",
    "print(\"Converted strings_set:\", strings_set)"
   ]
  },
  {
   "cell_type": "markdown",
   "id": "138db9bc-fee5-4471-bb9d-c0a09cc1f6cb",
   "metadata": {},
   "source": [
    "36. Create a set from a tuple."
   ]
  },
  {
   "cell_type": "code",
   "execution_count": 85,
   "id": "6b9dfffa-8859-4ed8-a3eb-2ee3ba963d59",
   "metadata": {},
   "outputs": [
    {
     "name": "stdout",
     "output_type": "stream",
     "text": [
      "{1, 2, 3, 4, 5}\n"
     ]
    }
   ],
   "source": [
    "input_tuple = (1, 2, 3, 2, 4, 5, 1)\n",
    "output_set = set(input_tuple)\n",
    "print(output_set)"
   ]
  },
  {
   "cell_type": "markdown",
   "id": "b5c5b7a7-4c5d-47b3-af55-a29b2c2ca03a",
   "metadata": {},
   "source": [
    "37. Convert a set to a tuple."
   ]
  },
  {
   "cell_type": "code",
   "execution_count": 86,
   "id": "338dc8c7-a121-45f9-a8a4-9a862bdbe71a",
   "metadata": {},
   "outputs": [
    {
     "name": "stdout",
     "output_type": "stream",
     "text": [
      "Original set: {1, 2, 3, 4, 5}\n",
      "Converted tuple: (1, 2, 3, 4, 5)\n"
     ]
    }
   ],
   "source": [
    "input_set = {1, 2, 3, 4, 5}\n",
    "output_tuple = tuple(input_set)\n",
    "print(\"Original set:\", input_set)\n",
    "print(\"Converted tuple:\", output_tuple)"
   ]
  },
  {
   "cell_type": "markdown",
   "id": "6993ab76-51ac-440b-a9aa-f0e8393cf727",
   "metadata": {},
   "source": [
    "38. Find the maximum value in a set."
   ]
  },
  {
   "cell_type": "code",
   "execution_count": 87,
   "id": "424dcfc7-c800-488a-9bfe-95ccc3d60a32",
   "metadata": {},
   "outputs": [
    {
     "name": "stdout",
     "output_type": "stream",
     "text": [
      "Maximum value: 22\n"
     ]
    }
   ],
   "source": [
    "my_set = {15, 7, 22, 13, 8}\n",
    "\n",
    "max_value = None\n",
    "\n",
    "for num in my_set:\n",
    "    if max_value is None or num > max_value:\n",
    "        max_value = num  \n",
    "\n",
    "print(\"Maximum value:\", max_value)"
   ]
  },
  {
   "cell_type": "markdown",
   "id": "2ede9e66-5a5b-4910-b8cd-67b3c882f4e6",
   "metadata": {},
   "source": [
    "39. Find the minimum value in a set."
   ]
  },
  {
   "cell_type": "code",
   "execution_count": 88,
   "id": "f4a79960-8725-429c-ad48-a8636bd7a1d6",
   "metadata": {},
   "outputs": [
    {
     "name": "stdout",
     "output_type": "stream",
     "text": [
      "The minimum value in the set is: 4\n"
     ]
    }
   ],
   "source": [
    "number_set = {15, 8, 23, 4, 42, 11}\n",
    "min_value = None\n",
    "\n",
    "for num in number_set:\n",
    "    if min_value is None or num < min_value:\n",
    "        min_value = num\n",
    "print(\"The minimum value in the set is:\", min_value)"
   ]
  },
  {
   "cell_type": "markdown",
   "id": "242b4dbf-ecf7-4a72-a5a5-15ef79ed3140",
   "metadata": {},
   "source": [
    "40. Create a set from user input."
   ]
  },
  {
   "cell_type": "code",
   "execution_count": 89,
   "id": "bb4a6796-8a3b-495a-9db6-ee3d3e5df17b",
   "metadata": {},
   "outputs": [
    {
     "name": "stdout",
     "output_type": "stream",
     "text": [
      "Enter elements for the set (type 'done' to finish):\n"
     ]
    },
    {
     "name": "stdin",
     "output_type": "stream",
     "text": [
      ">  1,2,3,4,5,66\n",
      ">  4,4,5,5,6,6,7,7\n",
      ">  done\n"
     ]
    },
    {
     "name": "stdout",
     "output_type": "stream",
     "text": [
      "Final set: {'1,2,3,4,5,66', '4,4,5,5,6,6,7,7'}\n"
     ]
    }
   ],
   "source": [
    "user_set = set()\n",
    "print(\"Enter elements for the set (type 'done' to finish):\")\n",
    "while True:\n",
    "    user_input = input(\"> \")  \n",
    "\n",
    "    if user_input.lower() == 'done':\n",
    "        break  \n",
    "    user_set.add(user_input)\n",
    "\n",
    "print(\"Final set:\", user_set)"
   ]
  },
  {
   "cell_type": "markdown",
   "id": "23d489ac-264e-4d34-bda5-58492dd5b58e",
   "metadata": {},
   "source": [
    "41. Check if the intersection of two sets is empty."
   ]
  },
  {
   "cell_type": "code",
   "execution_count": 90,
   "id": "7ac6b612-0b27-437f-a59c-ef15a4f12a9c",
   "metadata": {},
   "outputs": [
    {
     "name": "stdout",
     "output_type": "stream",
     "text": [
      "The intersection of the two sets is not empty.\n"
     ]
    }
   ],
   "source": [
    "set1 = {1, 2, 3, 4, 5}\n",
    "set2 = {4, 5, 6, 7, 8}\n",
    "\n",
    "intersection_result = set1.intersection(set2)\n",
    "\n",
    "if not intersection_result:\n",
    "    print(\"The intersection of the two sets is empty.\")\n",
    "else:\n",
    "    print(\"The intersection of the two sets is not empty.\")"
   ]
  },
  {
   "cell_type": "markdown",
   "id": "4a45c9b7-8905-4d81-9f62-463aba3a1ef5",
   "metadata": {},
   "source": [
    "42. Create a set of the first 5 Fibonacci numbers."
   ]
  },
  {
   "cell_type": "code",
   "execution_count": 91,
   "id": "728ef233-5c34-4c13-9599-0c7134ccd681",
   "metadata": {},
   "outputs": [
    {
     "name": "stdout",
     "output_type": "stream",
     "text": [
      "Set of the first 5 Fibonacci numbers: {0, 1, 2, 3, 5}\n"
     ]
    }
   ],
   "source": [
    "fibonacci_set = set()\n",
    "a, b = 0, 1\n",
    "for _ in range(6):\n",
    "    fibonacci_set.add(a)\n",
    "    a, b = b, a + b\n",
    "print(\"Set of the first 5 Fibonacci numbers:\", fibonacci_set)"
   ]
  },
  {
   "cell_type": "markdown",
   "id": "c7575373-7078-49ce-b093-4ce65754bed3",
   "metadata": {},
   "source": [
    "43. Remove duplicates from a list using sets."
   ]
  },
  {
   "cell_type": "code",
   "execution_count": 92,
   "id": "aa5e20d8-117a-4c7e-9e03-71c2f636f28e",
   "metadata": {},
   "outputs": [
    {
     "name": "stdout",
     "output_type": "stream",
     "text": [
      "Original List: [2, 4, 6, 8, 4, 10, 6, 12, 14, 8]\n",
      "List with Duplicates Removed: [2, 4, 6, 8, 10, 12, 14]\n"
     ]
    }
   ],
   "source": [
    "original_list = [2, 4, 6, 8, 4, 10, 6, 12, 14, 8]\n",
    "unique_set = set(original_list)\n",
    "unique_list = list(unique_set)\n",
    "print(\"Original List:\", original_list)\n",
    "print(\"List with Duplicates Removed:\", unique_list)"
   ]
  },
  {
   "cell_type": "markdown",
   "id": "210ba77e-aad8-4c0e-88aa-f98986f99eaf",
   "metadata": {},
   "source": [
    "44. Check if two sets have the same elements, regardless of their count."
   ]
  },
  {
   "cell_type": "code",
   "execution_count": 94,
   "id": "5bf153d9-469d-438f-a962-2c4cf898b05a",
   "metadata": {},
   "outputs": [
    {
     "name": "stdout",
     "output_type": "stream",
     "text": [
      "The sets have the same elements.\n"
     ]
    }
   ],
   "source": [
    "def have_same_elements(set1, set2):\n",
    "    sorted_list1 = sorted(list(set1))\n",
    "    sorted_list2 = sorted(list(set2))\n",
    "    return sorted_list1 == sorted_list2\n",
    "set1 = {1, 2, 3, 2, 1}\n",
    "set2 = {3, 1, 2}\n",
    "\n",
    "result = have_same_elements(set1, set2)\n",
    "\n",
    "if result:\n",
    "    print(\"The sets have the same elements.\")\n",
    "else:\n",
    "    print(\"The sets do not have the same elements.\")"
   ]
  },
  {
   "cell_type": "markdown",
   "id": "1154f10d-5979-4319-8499-56120c7d6ffb",
   "metadata": {},
   "source": [
    "45. Create a set of the first `n` powers of 2."
   ]
  },
  {
   "cell_type": "code",
   "execution_count": 96,
   "id": "3e9e0f25-a216-4f4a-aab4-6c67c6245c8e",
   "metadata": {},
   "outputs": [
    {
     "name": "stdout",
     "output_type": "stream",
     "text": [
      "{1, 2, 4, 8, 16}\n"
     ]
    }
   ],
   "source": [
    "def generate_powers_of_2(n):\n",
    "    powers_of_2 = set()\n",
    "    for i in range(n):\n",
    "        power = 2 ** i\n",
    "        powers_of_2.add(power)\n",
    "    return powers_of_2\n",
    "n = 5\n",
    "powers_set = generate_powers_of_2(n)\n",
    "print(powers_set)"
   ]
  },
  {
   "cell_type": "markdown",
   "id": "e5775c6a-d363-448d-8969-2e4007c2fcb6",
   "metadata": {},
   "source": [
    "46. Find the common elements between a set and a list."
   ]
  },
  {
   "cell_type": "code",
   "execution_count": 97,
   "id": "fcffcfe8-c6a4-41c1-86a0-df882fc2e53b",
   "metadata": {},
   "outputs": [
    {
     "name": "stdout",
     "output_type": "stream",
     "text": [
      "Common elements: [7, 9, 12]\n"
     ]
    }
   ],
   "source": [
    "my_set = {3, 7, 9, 12, 15}\n",
    "my_list = [7, 12, 5, 9]\n",
    "\n",
    "list_to_set = set(my_list)\n",
    "\n",
    "common_elements = []\n",
    "\n",
    "for element in my_set:\n",
    "    if element in list_to_set:\n",
    "        common_elements.append(element)\n",
    "print(\"Common elements:\", common_elements)"
   ]
  },
  {
   "cell_type": "markdown",
   "id": "9277d092-618c-45a7-9ca0-13931db6ebcd",
   "metadata": {},
   "source": [
    "47. Create a set of the first `n` triangular numbers."
   ]
  },
  {
   "cell_type": "code",
   "execution_count": 99,
   "id": "fb2cb35d-10bc-47b1-b4c1-596c668e135d",
   "metadata": {},
   "outputs": [
    {
     "name": "stdin",
     "output_type": "stream",
     "text": [
      "Enter the value of n:  5\n"
     ]
    },
    {
     "name": "stdout",
     "output_type": "stream",
     "text": [
      "The set of the first 5 triangular numbers is: {1, 3, 6, 10, 15}\n"
     ]
    }
   ],
   "source": [
    "def generate_triangular_numbers(n):\n",
    "    triangular_numbers = set()  \n",
    "    for i in range(1, n + 1):\n",
    "        triangular_number = i * (i + 1) // 2  \n",
    "        triangular_numbers.add(triangular_number)  \n",
    "    return triangular_numbers\n",
    "\n",
    "n = int(input(\"Enter the value of n: \"))\n",
    "\n",
    "triangular_set = generate_triangular_numbers(n)\n",
    "\n",
    "print(f\"The set of the first {n} triangular numbers is:\", triangular_set)"
   ]
  },
  {
   "cell_type": "markdown",
   "id": "e1e2fcd9-85e3-4bc9-a7b1-c734cb362324",
   "metadata": {},
   "source": [
    "48. Check if a set contains another set as a subset."
   ]
  },
  {
   "cell_type": "code",
   "execution_count": 100,
   "id": "c772861d-212f-46da-8e63-d82141eeddda",
   "metadata": {},
   "outputs": [
    {
     "name": "stdout",
     "output_type": "stream",
     "text": [
      "set2 is a subset of set1\n"
     ]
    }
   ],
   "source": [
    "set1 = {1, 2, 3, 4, 5}\n",
    "set2 = {3, 4}\n",
    "is_subset = set2.issubset(set1)\n",
    "if is_subset:\n",
    "    print(\"set2 is a subset of set1\")\n",
    "else:\n",
    "    print(\"set2 is not a subset of set1\")"
   ]
  },
  {
   "cell_type": "markdown",
   "id": "6cf4dcda-ee23-4534-b067-42a7bc2f385e",
   "metadata": {},
   "source": [
    "49. Create a set of alternating 1s and 0s of length `n`."
   ]
  },
  {
   "cell_type": "code",
   "execution_count": 101,
   "id": "238320df-26bf-49f3-b2ce-f1cbf8a3e0bb",
   "metadata": {},
   "outputs": [
    {
     "name": "stdout",
     "output_type": "stream",
     "text": [
      "{0, 1}\n"
     ]
    }
   ],
   "source": [
    "def create_alternating_set(n):\n",
    "    alternating_set = set()\n",
    "\n",
    "    for i in range(n):\n",
    "        if i % 2 == 0:\n",
    "            alternating_set.add(1)  \n",
    "        else:\n",
    "            alternating_set.add(0)  \n",
    "\n",
    "    return alternating_set\n",
    "\n",
    "length_n = 10\n",
    "\n",
    "result = create_alternating_set(length_n)\n",
    "\n",
    "print(result)"
   ]
  },
  {
   "cell_type": "markdown",
   "id": "1f831e7f-dc51-4b4c-86b7-e42a8b710ffa",
   "metadata": {},
   "source": [
    "50. Merge multiple sets into one."
   ]
  },
  {
   "cell_type": "code",
   "execution_count": 102,
   "id": "dcf18fc6-dfc3-4fe0-93c5-0dcabed00ba2",
   "metadata": {},
   "outputs": [
    {
     "name": "stdout",
     "output_type": "stream",
     "text": [
      "Merged Set: {1, 2, 3, 4, 5, 6, 7}\n"
     ]
    }
   ],
   "source": [
    "set1 = {1, 2, 3}\n",
    "set2 = {3, 4, 5}\n",
    "set3 = {5, 6, 7}\n",
    "\n",
    "merged_set = set1.union(set2, set3)\n",
    "\n",
    "print(\"Merged Set:\", merged_set)"
   ]
  },
  {
   "cell_type": "code",
   "execution_count": null,
   "id": "beb3ce09-055c-4239-9eb4-6d6d78c109b1",
   "metadata": {},
   "outputs": [],
   "source": []
  }
 ],
 "metadata": {
  "kernelspec": {
   "display_name": "Python 3 (ipykernel)",
   "language": "python",
   "name": "python3"
  },
  "language_info": {
   "codemirror_mode": {
    "name": "ipython",
    "version": 3
   },
   "file_extension": ".py",
   "mimetype": "text/x-python",
   "name": "python",
   "nbconvert_exporter": "python",
   "pygments_lexer": "ipython3",
   "version": "3.10.8"
  }
 },
 "nbformat": 4,
 "nbformat_minor": 5
}
